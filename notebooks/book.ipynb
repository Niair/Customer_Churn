{
  "cells": [
    {
      "cell_type": "markdown",
      "metadata": {
        "id": "3gUSv1YBAeOh"
      },
      "source": [
        "## Model Training"
      ]
    },
    {
      "cell_type": "code",
      "execution_count": 109,
      "metadata": {
        "id": "x31MKP9qGwOA"
      },
      "outputs": [],
      "source": [
        "import pandas as pd\n",
        "import numpy as np\n",
        "import matplotlib.pyplot as plt\n",
        "%matplotlib inline\n",
        "import seaborn as sns"
      ]
    },
    {
      "cell_type": "code",
      "execution_count": 110,
      "metadata": {},
      "outputs": [],
      "source": [
        "import warnings\n",
        "warnings.filterwarnings('ignore')"
      ]
    },
    {
      "cell_type": "code",
      "execution_count": 111,
      "metadata": {
        "id": "oA5DCl6pHQcp"
      },
      "outputs": [],
      "source": [
        "pd.set_option('display.max_columns', None)"
      ]
    },
    {
      "cell_type": "code",
      "execution_count": 112,
      "metadata": {
        "colab": {
          "base_uri": "https://localhost:8080/",
          "height": 448
        },
        "id": "fAHU8XsrAjqw",
        "outputId": "2365bfcc-c210-455d-9eff-18c4f511965d"
      },
      "outputs": [
        {
          "data": {
            "text/html": [
              "<div>\n",
              "<style scoped>\n",
              "    .dataframe tbody tr th:only-of-type {\n",
              "        vertical-align: middle;\n",
              "    }\n",
              "\n",
              "    .dataframe tbody tr th {\n",
              "        vertical-align: top;\n",
              "    }\n",
              "\n",
              "    .dataframe thead th {\n",
              "        text-align: right;\n",
              "    }\n",
              "</style>\n",
              "<table border=\"1\" class=\"dataframe\">\n",
              "  <thead>\n",
              "    <tr style=\"text-align: right;\">\n",
              "      <th></th>\n",
              "      <th>customer_id</th>\n",
              "      <th>gender</th>\n",
              "      <th>age</th>\n",
              "      <th>married</th>\n",
              "      <th>number_of_dependents</th>\n",
              "      <th>city</th>\n",
              "      <th>zip_code</th>\n",
              "      <th>latitude</th>\n",
              "      <th>longitude</th>\n",
              "      <th>number_of_referrals</th>\n",
              "      <th>tenure_in_months</th>\n",
              "      <th>offer</th>\n",
              "      <th>phone_service</th>\n",
              "      <th>avg_monthly_long_distance_charges</th>\n",
              "      <th>multiple_lines</th>\n",
              "      <th>internet_service</th>\n",
              "      <th>internet_type</th>\n",
              "      <th>avg_monthly_gb_download</th>\n",
              "      <th>online_security</th>\n",
              "      <th>online_backup</th>\n",
              "      <th>device_protection_plan</th>\n",
              "      <th>premium_tech_support</th>\n",
              "      <th>streaming_tv</th>\n",
              "      <th>streaming_movies</th>\n",
              "      <th>streaming_music</th>\n",
              "      <th>unlimited_data</th>\n",
              "      <th>contract</th>\n",
              "      <th>paperless_billing</th>\n",
              "      <th>payment_method</th>\n",
              "      <th>monthly_charge</th>\n",
              "      <th>total_charges</th>\n",
              "      <th>total_refunds</th>\n",
              "      <th>total_extra_data_charges</th>\n",
              "      <th>total_long_distance_charges</th>\n",
              "      <th>total_revenue</th>\n",
              "      <th>customer_status</th>\n",
              "      <th>has_offer</th>\n",
              "      <th>offer_popularity</th>\n",
              "      <th>has_extra_internet_charges</th>\n",
              "      <th>tenure_category</th>\n",
              "      <th>engagement_score</th>\n",
              "      <th>high_value</th>\n",
              "      <th>num_addon_services</th>\n",
              "      <th>churned</th>\n",
              "    </tr>\n",
              "  </thead>\n",
              "  <tbody>\n",
              "    <tr>\n",
              "      <th>6878</th>\n",
              "      <td>9770-LXDBK</td>\n",
              "      <td>Female</td>\n",
              "      <td>42</td>\n",
              "      <td>No</td>\n",
              "      <td>0</td>\n",
              "      <td>Los Angeles</td>\n",
              "      <td>90006</td>\n",
              "      <td>34.048013</td>\n",
              "      <td>-118.293953</td>\n",
              "      <td>0</td>\n",
              "      <td>3</td>\n",
              "      <td>Offer E</td>\n",
              "      <td>Yes</td>\n",
              "      <td>14</td>\n",
              "      <td>No</td>\n",
              "      <td>No</td>\n",
              "      <td>No Internet</td>\n",
              "      <td>0.0</td>\n",
              "      <td>No</td>\n",
              "      <td>No</td>\n",
              "      <td>No</td>\n",
              "      <td>No</td>\n",
              "      <td>No</td>\n",
              "      <td>No</td>\n",
              "      <td>No</td>\n",
              "      <td>No</td>\n",
              "      <td>Month-to-Month</td>\n",
              "      <td>No</td>\n",
              "      <td>Credit Card</td>\n",
              "      <td>20.40</td>\n",
              "      <td>63.15</td>\n",
              "      <td>0.0</td>\n",
              "      <td>0</td>\n",
              "      <td>44.37</td>\n",
              "      <td>107.52</td>\n",
              "      <td>Joined</td>\n",
              "      <td>1</td>\n",
              "      <td>0.114298</td>\n",
              "      <td>0</td>\n",
              "      <td>0-1 Year</td>\n",
              "      <td>0</td>\n",
              "      <td>False</td>\n",
              "      <td>0</td>\n",
              "      <td>False</td>\n",
              "    </tr>\n",
              "    <tr>\n",
              "      <th>6705</th>\n",
              "      <td>9522-ZSINC</td>\n",
              "      <td>Male</td>\n",
              "      <td>34</td>\n",
              "      <td>No</td>\n",
              "      <td>0</td>\n",
              "      <td>Santa Rosa</td>\n",
              "      <td>95409</td>\n",
              "      <td>38.468893</td>\n",
              "      <td>-122.580539</td>\n",
              "      <td>0</td>\n",
              "      <td>13</td>\n",
              "      <td>Offer D</td>\n",
              "      <td>Yes</td>\n",
              "      <td>7</td>\n",
              "      <td>No</td>\n",
              "      <td>No</td>\n",
              "      <td>No Internet</td>\n",
              "      <td>0.0</td>\n",
              "      <td>No</td>\n",
              "      <td>No</td>\n",
              "      <td>No</td>\n",
              "      <td>No</td>\n",
              "      <td>No</td>\n",
              "      <td>No</td>\n",
              "      <td>No</td>\n",
              "      <td>No</td>\n",
              "      <td>One Year</td>\n",
              "      <td>Yes</td>\n",
              "      <td>Bank Withdrawal</td>\n",
              "      <td>19.95</td>\n",
              "      <td>253.80</td>\n",
              "      <td>0.0</td>\n",
              "      <td>0</td>\n",
              "      <td>95.29</td>\n",
              "      <td>349.09</td>\n",
              "      <td>Stayed</td>\n",
              "      <td>1</td>\n",
              "      <td>0.085475</td>\n",
              "      <td>0</td>\n",
              "      <td>1-2 Years</td>\n",
              "      <td>0</td>\n",
              "      <td>False</td>\n",
              "      <td>0</td>\n",
              "      <td>False</td>\n",
              "    </tr>\n",
              "    <tr>\n",
              "      <th>2941</th>\n",
              "      <td>4193-ORFCL</td>\n",
              "      <td>Female</td>\n",
              "      <td>80</td>\n",
              "      <td>No</td>\n",
              "      <td>0</td>\n",
              "      <td>North Hollywood</td>\n",
              "      <td>91606</td>\n",
              "      <td>34.187599</td>\n",
              "      <td>-118.387125</td>\n",
              "      <td>0</td>\n",
              "      <td>1</td>\n",
              "      <td>Offer E</td>\n",
              "      <td>Yes</td>\n",
              "      <td>15</td>\n",
              "      <td>No</td>\n",
              "      <td>Yes</td>\n",
              "      <td>DSL</td>\n",
              "      <td>14.0</td>\n",
              "      <td>No</td>\n",
              "      <td>No</td>\n",
              "      <td>No</td>\n",
              "      <td>No</td>\n",
              "      <td>No</td>\n",
              "      <td>No</td>\n",
              "      <td>No</td>\n",
              "      <td>Yes</td>\n",
              "      <td>Month-to-Month</td>\n",
              "      <td>No</td>\n",
              "      <td>Credit Card</td>\n",
              "      <td>45.10</td>\n",
              "      <td>45.10</td>\n",
              "      <td>0.0</td>\n",
              "      <td>0</td>\n",
              "      <td>15.24</td>\n",
              "      <td>60.34</td>\n",
              "      <td>Churned</td>\n",
              "      <td>1</td>\n",
              "      <td>0.114298</td>\n",
              "      <td>0</td>\n",
              "      <td>0-1 Year</td>\n",
              "      <td>1</td>\n",
              "      <td>False</td>\n",
              "      <td>0</td>\n",
              "      <td>True</td>\n",
              "    </tr>\n",
              "    <tr>\n",
              "      <th>4297</th>\n",
              "      <td>6050-IJRHS</td>\n",
              "      <td>Female</td>\n",
              "      <td>47</td>\n",
              "      <td>Yes</td>\n",
              "      <td>1</td>\n",
              "      <td>Chino Hills</td>\n",
              "      <td>91709</td>\n",
              "      <td>33.942895</td>\n",
              "      <td>-117.725644</td>\n",
              "      <td>2</td>\n",
              "      <td>70</td>\n",
              "      <td>Offer A</td>\n",
              "      <td>Yes</td>\n",
              "      <td>5</td>\n",
              "      <td>Yes</td>\n",
              "      <td>Yes</td>\n",
              "      <td>Fiber Optic</td>\n",
              "      <td>19.0</td>\n",
              "      <td>No</td>\n",
              "      <td>Yes</td>\n",
              "      <td>Yes</td>\n",
              "      <td>No</td>\n",
              "      <td>Yes</td>\n",
              "      <td>Yes</td>\n",
              "      <td>Yes</td>\n",
              "      <td>Yes</td>\n",
              "      <td>One Year</td>\n",
              "      <td>Yes</td>\n",
              "      <td>Bank Withdrawal</td>\n",
              "      <td>106.50</td>\n",
              "      <td>7397.00</td>\n",
              "      <td>0.0</td>\n",
              "      <td>0</td>\n",
              "      <td>415.10</td>\n",
              "      <td>7812.10</td>\n",
              "      <td>Stayed</td>\n",
              "      <td>1</td>\n",
              "      <td>0.073832</td>\n",
              "      <td>0</td>\n",
              "      <td>4+ Years</td>\n",
              "      <td>7</td>\n",
              "      <td>True</td>\n",
              "      <td>2</td>\n",
              "      <td>False</td>\n",
              "    </tr>\n",
              "    <tr>\n",
              "      <th>3508</th>\n",
              "      <td>4973-MGTON</td>\n",
              "      <td>Female</td>\n",
              "      <td>33</td>\n",
              "      <td>Yes</td>\n",
              "      <td>0</td>\n",
              "      <td>Topaz</td>\n",
              "      <td>96133</td>\n",
              "      <td>38.636052</td>\n",
              "      <td>-119.489162</td>\n",
              "      <td>0</td>\n",
              "      <td>71</td>\n",
              "      <td>No Offer</td>\n",
              "      <td>Yes</td>\n",
              "      <td>3</td>\n",
              "      <td>No</td>\n",
              "      <td>Yes</td>\n",
              "      <td>DSL</td>\n",
              "      <td>26.0</td>\n",
              "      <td>Yes</td>\n",
              "      <td>Yes</td>\n",
              "      <td>Yes</td>\n",
              "      <td>Yes</td>\n",
              "      <td>Yes</td>\n",
              "      <td>Yes</td>\n",
              "      <td>Yes</td>\n",
              "      <td>Yes</td>\n",
              "      <td>Two Year</td>\n",
              "      <td>Yes</td>\n",
              "      <td>Credit Card</td>\n",
              "      <td>84.40</td>\n",
              "      <td>5969.30</td>\n",
              "      <td>0.0</td>\n",
              "      <td>0</td>\n",
              "      <td>219.39</td>\n",
              "      <td>6188.69</td>\n",
              "      <td>Stayed</td>\n",
              "      <td>0</td>\n",
              "      <td>0.550476</td>\n",
              "      <td>0</td>\n",
              "      <td>4+ Years</td>\n",
              "      <td>8</td>\n",
              "      <td>True</td>\n",
              "      <td>4</td>\n",
              "      <td>False</td>\n",
              "    </tr>\n",
              "    <tr>\n",
              "      <th>6652</th>\n",
              "      <td>9465-RWMXL</td>\n",
              "      <td>Male</td>\n",
              "      <td>62</td>\n",
              "      <td>Yes</td>\n",
              "      <td>0</td>\n",
              "      <td>San Diego</td>\n",
              "      <td>92126</td>\n",
              "      <td>32.886925</td>\n",
              "      <td>-117.152162</td>\n",
              "      <td>1</td>\n",
              "      <td>32</td>\n",
              "      <td>Offer C</td>\n",
              "      <td>Yes</td>\n",
              "      <td>22</td>\n",
              "      <td>Yes</td>\n",
              "      <td>Yes</td>\n",
              "      <td>Fiber Optic</td>\n",
              "      <td>11.0</td>\n",
              "      <td>No</td>\n",
              "      <td>No</td>\n",
              "      <td>Yes</td>\n",
              "      <td>No</td>\n",
              "      <td>No</td>\n",
              "      <td>No</td>\n",
              "      <td>No</td>\n",
              "      <td>Yes</td>\n",
              "      <td>Month-to-Month</td>\n",
              "      <td>Yes</td>\n",
              "      <td>Bank Withdrawal</td>\n",
              "      <td>78.90</td>\n",
              "      <td>2447.95</td>\n",
              "      <td>0.0</td>\n",
              "      <td>0</td>\n",
              "      <td>722.24</td>\n",
              "      <td>3170.19</td>\n",
              "      <td>Churned</td>\n",
              "      <td>1</td>\n",
              "      <td>0.058924</td>\n",
              "      <td>0</td>\n",
              "      <td>2-4 Years</td>\n",
              "      <td>3</td>\n",
              "      <td>False</td>\n",
              "      <td>1</td>\n",
              "      <td>True</td>\n",
              "    </tr>\n",
              "  </tbody>\n",
              "</table>\n",
              "</div>"
            ],
            "text/plain": [
              "     customer_id  gender  age married  number_of_dependents             city  \\\n",
              "6878  9770-LXDBK  Female   42      No                     0      Los Angeles   \n",
              "6705  9522-ZSINC    Male   34      No                     0       Santa Rosa   \n",
              "2941  4193-ORFCL  Female   80      No                     0  North Hollywood   \n",
              "4297  6050-IJRHS  Female   47     Yes                     1      Chino Hills   \n",
              "3508  4973-MGTON  Female   33     Yes                     0            Topaz   \n",
              "6652  9465-RWMXL    Male   62     Yes                     0        San Diego   \n",
              "\n",
              "      zip_code   latitude   longitude  number_of_referrals  tenure_in_months  \\\n",
              "6878     90006  34.048013 -118.293953                    0                 3   \n",
              "6705     95409  38.468893 -122.580539                    0                13   \n",
              "2941     91606  34.187599 -118.387125                    0                 1   \n",
              "4297     91709  33.942895 -117.725644                    2                70   \n",
              "3508     96133  38.636052 -119.489162                    0                71   \n",
              "6652     92126  32.886925 -117.152162                    1                32   \n",
              "\n",
              "         offer phone_service  avg_monthly_long_distance_charges  \\\n",
              "6878   Offer E           Yes                                 14   \n",
              "6705   Offer D           Yes                                  7   \n",
              "2941   Offer E           Yes                                 15   \n",
              "4297   Offer A           Yes                                  5   \n",
              "3508  No Offer           Yes                                  3   \n",
              "6652   Offer C           Yes                                 22   \n",
              "\n",
              "     multiple_lines internet_service internet_type  avg_monthly_gb_download  \\\n",
              "6878             No               No   No Internet                      0.0   \n",
              "6705             No               No   No Internet                      0.0   \n",
              "2941             No              Yes           DSL                     14.0   \n",
              "4297            Yes              Yes   Fiber Optic                     19.0   \n",
              "3508             No              Yes           DSL                     26.0   \n",
              "6652            Yes              Yes   Fiber Optic                     11.0   \n",
              "\n",
              "     online_security online_backup device_protection_plan  \\\n",
              "6878              No            No                     No   \n",
              "6705              No            No                     No   \n",
              "2941              No            No                     No   \n",
              "4297              No           Yes                    Yes   \n",
              "3508             Yes           Yes                    Yes   \n",
              "6652              No            No                    Yes   \n",
              "\n",
              "     premium_tech_support streaming_tv streaming_movies streaming_music  \\\n",
              "6878                   No           No               No              No   \n",
              "6705                   No           No               No              No   \n",
              "2941                   No           No               No              No   \n",
              "4297                   No          Yes              Yes             Yes   \n",
              "3508                  Yes          Yes              Yes             Yes   \n",
              "6652                   No           No               No              No   \n",
              "\n",
              "     unlimited_data        contract paperless_billing   payment_method  \\\n",
              "6878             No  Month-to-Month                No      Credit Card   \n",
              "6705             No        One Year               Yes  Bank Withdrawal   \n",
              "2941            Yes  Month-to-Month                No      Credit Card   \n",
              "4297            Yes        One Year               Yes  Bank Withdrawal   \n",
              "3508            Yes        Two Year               Yes      Credit Card   \n",
              "6652            Yes  Month-to-Month               Yes  Bank Withdrawal   \n",
              "\n",
              "      monthly_charge  total_charges  total_refunds  total_extra_data_charges  \\\n",
              "6878           20.40          63.15            0.0                         0   \n",
              "6705           19.95         253.80            0.0                         0   \n",
              "2941           45.10          45.10            0.0                         0   \n",
              "4297          106.50        7397.00            0.0                         0   \n",
              "3508           84.40        5969.30            0.0                         0   \n",
              "6652           78.90        2447.95            0.0                         0   \n",
              "\n",
              "      total_long_distance_charges  total_revenue customer_status  has_offer  \\\n",
              "6878                        44.37         107.52          Joined          1   \n",
              "6705                        95.29         349.09          Stayed          1   \n",
              "2941                        15.24          60.34         Churned          1   \n",
              "4297                       415.10        7812.10          Stayed          1   \n",
              "3508                       219.39        6188.69          Stayed          0   \n",
              "6652                       722.24        3170.19         Churned          1   \n",
              "\n",
              "      offer_popularity  has_extra_internet_charges tenure_category  \\\n",
              "6878          0.114298                           0        0-1 Year   \n",
              "6705          0.085475                           0       1-2 Years   \n",
              "2941          0.114298                           0        0-1 Year   \n",
              "4297          0.073832                           0        4+ Years   \n",
              "3508          0.550476                           0        4+ Years   \n",
              "6652          0.058924                           0       2-4 Years   \n",
              "\n",
              "      engagement_score  high_value  num_addon_services  churned  \n",
              "6878                 0       False                   0    False  \n",
              "6705                 0       False                   0    False  \n",
              "2941                 1       False                   0     True  \n",
              "4297                 7        True                   2    False  \n",
              "3508                 8        True                   4    False  \n",
              "6652                 3       False                   1     True  "
            ]
          },
          "execution_count": 112,
          "metadata": {},
          "output_type": "execute_result"
        }
      ],
      "source": [
        "df = pd.read_csv(\"E:/VS_Code/Projects/Customer_Churn/notebooks/data/processed_customer_churn_data.csv\")\n",
        "\n",
        "df.sample(6)"
      ]
    },
    {
      "cell_type": "code",
      "execution_count": 113,
      "metadata": {},
      "outputs": [
        {
          "data": {
            "text/plain": [
              "(7043, 44)"
            ]
          },
          "execution_count": 113,
          "metadata": {},
          "output_type": "execute_result"
        }
      ],
      "source": [
        "df.shape"
      ]
    },
    {
      "cell_type": "markdown",
      "metadata": {
        "id": "ZdIXTgnO6VxS"
      },
      "source": [
        "#### **MODEL with Hyperparameter Tuning**"
      ]
    },
    {
      "cell_type": "code",
      "execution_count": 66,
      "metadata": {
        "colab": {
          "base_uri": "https://localhost:8080/"
        },
        "collapsed": true,
        "id": "BnvkLcoczO5v",
        "outputId": "887a6a6b-46c0-484c-bb2f-0b85e5d0c46d"
      },
      "outputs": [
        {
          "name": "stdout",
          "output_type": "stream",
          "text": [
            "Requirement already satisfied: category_encoders in e:\\vs_code\\projects\\customer_churn\\venv\\lib\\site-packages (2.8.1)\n",
            "Requirement already satisfied: numpy>=1.14.0 in e:\\vs_code\\projects\\customer_churn\\venv\\lib\\site-packages (from category_encoders) (2.3.1)\n",
            "Requirement already satisfied: pandas>=1.0.5 in e:\\vs_code\\projects\\customer_churn\\venv\\lib\\site-packages (from category_encoders) (2.3.1)\n",
            "Requirement already satisfied: patsy>=0.5.1 in e:\\vs_code\\projects\\customer_churn\\venv\\lib\\site-packages (from category_encoders) (1.0.1)\n",
            "Requirement already satisfied: scikit-learn>=1.6.0 in e:\\vs_code\\projects\\customer_churn\\venv\\lib\\site-packages (from category_encoders) (1.7.0)\n",
            "Requirement already satisfied: scipy>=1.0.0 in e:\\vs_code\\projects\\customer_churn\\venv\\lib\\site-packages (from category_encoders) (1.16.0)\n",
            "Requirement already satisfied: statsmodels>=0.9.0 in e:\\vs_code\\projects\\customer_churn\\venv\\lib\\site-packages (from category_encoders) (0.14.5)\n",
            "Requirement already satisfied: python-dateutil>=2.8.2 in e:\\vs_code\\projects\\customer_churn\\venv\\lib\\site-packages (from pandas>=1.0.5->category_encoders) (2.9.0.post0)\n",
            "Requirement already satisfied: pytz>=2020.1 in e:\\vs_code\\projects\\customer_churn\\venv\\lib\\site-packages (from pandas>=1.0.5->category_encoders) (2025.2)\n",
            "Requirement already satisfied: tzdata>=2022.7 in e:\\vs_code\\projects\\customer_churn\\venv\\lib\\site-packages (from pandas>=1.0.5->category_encoders) (2025.2)\n",
            "Requirement already satisfied: six>=1.5 in e:\\vs_code\\projects\\customer_churn\\venv\\lib\\site-packages (from python-dateutil>=2.8.2->pandas>=1.0.5->category_encoders) (1.17.0)\n",
            "Requirement already satisfied: joblib>=1.2.0 in e:\\vs_code\\projects\\customer_churn\\venv\\lib\\site-packages (from scikit-learn>=1.6.0->category_encoders) (1.5.1)\n",
            "Requirement already satisfied: threadpoolctl>=3.1.0 in e:\\vs_code\\projects\\customer_churn\\venv\\lib\\site-packages (from scikit-learn>=1.6.0->category_encoders) (3.6.0)\n",
            "Requirement already satisfied: packaging>=21.3 in e:\\vs_code\\projects\\customer_churn\\venv\\lib\\site-packages (from statsmodels>=0.9.0->category_encoders) (25.0)\n"
          ]
        }
      ],
      "source": [
        "!pip install category_encoders"
      ]
    },
    {
      "cell_type": "code",
      "execution_count": 68,
      "metadata": {
        "id": "nWsXp3gjzO3T"
      },
      "outputs": [
        {
          "name": "stdout",
          "output_type": "stream",
          "text": [
            "Collecting catboost\n",
            "  Downloading catboost-1.2.8-cp313-cp313-win_amd64.whl.metadata (1.5 kB)\n",
            "Collecting graphviz (from catboost)\n",
            "  Using cached graphviz-0.21-py3-none-any.whl.metadata (12 kB)\n",
            "Requirement already satisfied: matplotlib in e:\\vs_code\\projects\\customer_churn\\venv\\lib\\site-packages (from catboost) (3.10.3)\n",
            "Requirement already satisfied: numpy<3.0,>=1.16.0 in e:\\vs_code\\projects\\customer_churn\\venv\\lib\\site-packages (from catboost) (2.3.1)\n",
            "Requirement already satisfied: pandas>=0.24 in e:\\vs_code\\projects\\customer_churn\\venv\\lib\\site-packages (from catboost) (2.3.1)\n",
            "Requirement already satisfied: scipy in e:\\vs_code\\projects\\customer_churn\\venv\\lib\\site-packages (from catboost) (1.16.0)\n",
            "Requirement already satisfied: plotly in e:\\vs_code\\projects\\customer_churn\\venv\\lib\\site-packages (from catboost) (6.2.0)\n",
            "Requirement already satisfied: six in e:\\vs_code\\projects\\customer_churn\\venv\\lib\\site-packages (from catboost) (1.17.0)\n",
            "Requirement already satisfied: python-dateutil>=2.8.2 in e:\\vs_code\\projects\\customer_churn\\venv\\lib\\site-packages (from pandas>=0.24->catboost) (2.9.0.post0)\n",
            "Requirement already satisfied: pytz>=2020.1 in e:\\vs_code\\projects\\customer_churn\\venv\\lib\\site-packages (from pandas>=0.24->catboost) (2025.2)\n",
            "Requirement already satisfied: tzdata>=2022.7 in e:\\vs_code\\projects\\customer_churn\\venv\\lib\\site-packages (from pandas>=0.24->catboost) (2025.2)\n",
            "Requirement already satisfied: contourpy>=1.0.1 in e:\\vs_code\\projects\\customer_churn\\venv\\lib\\site-packages (from matplotlib->catboost) (1.3.2)\n",
            "Requirement already satisfied: cycler>=0.10 in e:\\vs_code\\projects\\customer_churn\\venv\\lib\\site-packages (from matplotlib->catboost) (0.12.1)\n",
            "Requirement already satisfied: fonttools>=4.22.0 in e:\\vs_code\\projects\\customer_churn\\venv\\lib\\site-packages (from matplotlib->catboost) (4.58.5)\n",
            "Requirement already satisfied: kiwisolver>=1.3.1 in e:\\vs_code\\projects\\customer_churn\\venv\\lib\\site-packages (from matplotlib->catboost) (1.4.8)\n",
            "Requirement already satisfied: packaging>=20.0 in e:\\vs_code\\projects\\customer_churn\\venv\\lib\\site-packages (from matplotlib->catboost) (25.0)\n",
            "Requirement already satisfied: pillow>=8 in e:\\vs_code\\projects\\customer_churn\\venv\\lib\\site-packages (from matplotlib->catboost) (11.3.0)\n",
            "Requirement already satisfied: pyparsing>=2.3.1 in e:\\vs_code\\projects\\customer_churn\\venv\\lib\\site-packages (from matplotlib->catboost) (3.2.3)\n",
            "Requirement already satisfied: narwhals>=1.15.1 in e:\\vs_code\\projects\\customer_churn\\venv\\lib\\site-packages (from plotly->catboost) (1.46.0)\n",
            "Downloading catboost-1.2.8-cp313-cp313-win_amd64.whl (102.4 MB)\n",
            "   ---------------------------------------- 0.0/102.4 MB ? eta -:--:--\n",
            "   - -------------------------------------- 4.7/102.4 MB 22.4 MB/s eta 0:00:05\n",
            "   --- ------------------------------------ 9.7/102.4 MB 25.6 MB/s eta 0:00:04\n",
            "   ------- -------------------------------- 19.4/102.4 MB 31.0 MB/s eta 0:00:03\n",
            "   ------------- -------------------------- 35.7/102.4 MB 43.9 MB/s eta 0:00:02\n",
            "   ------------- -------------------------- 35.7/102.4 MB 43.9 MB/s eta 0:00:02\n",
            "   ------------- -------------------------- 35.7/102.4 MB 43.9 MB/s eta 0:00:02\n",
            "   ------------- -------------------------- 35.7/102.4 MB 43.9 MB/s eta 0:00:02\n",
            "   -------------- ------------------------- 35.9/102.4 MB 21.0 MB/s eta 0:00:04\n",
            "   --------------------- ------------------ 55.8/102.4 MB 29.0 MB/s eta 0:00:02\n",
            "   ---------------------------- ----------- 73.1/102.4 MB 34.5 MB/s eta 0:00:01\n",
            "   ------------------------------ --------- 78.6/102.4 MB 33.8 MB/s eta 0:00:01\n",
            "   -------------------------------- ------- 83.6/102.4 MB 33.1 MB/s eta 0:00:01\n",
            "   ----------------------------------- ---- 89.9/102.4 MB 32.8 MB/s eta 0:00:01\n",
            "   ------------------------------------ --- 94.6/102.4 MB 32.1 MB/s eta 0:00:01\n",
            "   --------------------------------------  100.1/102.4 MB 31.6 MB/s eta 0:00:01\n",
            "   --------------------------------------  102.2/102.4 MB 31.4 MB/s eta 0:00:01\n",
            "   --------------------------------------  102.2/102.4 MB 31.4 MB/s eta 0:00:01\n",
            "   --------------------------------------  102.2/102.4 MB 31.4 MB/s eta 0:00:01\n",
            "   --------------------------------------  102.2/102.4 MB 31.4 MB/s eta 0:00:01\n",
            "   --------------------------------------  102.2/102.4 MB 31.4 MB/s eta 0:00:01\n",
            "   --------------------------------------  102.2/102.4 MB 31.4 MB/s eta 0:00:01\n",
            "   --------------------------------------  102.2/102.4 MB 31.4 MB/s eta 0:00:01\n",
            "   --------------------------------------  102.2/102.4 MB 31.4 MB/s eta 0:00:01\n",
            "   --------------------------------------  102.2/102.4 MB 31.4 MB/s eta 0:00:01\n",
            "   --------------------------------------  102.2/102.4 MB 31.4 MB/s eta 0:00:01\n",
            "   --------------------------------------  102.2/102.4 MB 31.4 MB/s eta 0:00:01\n",
            "   --------------------------------------  102.2/102.4 MB 31.4 MB/s eta 0:00:01\n",
            "   --------------------------------------  102.2/102.4 MB 31.4 MB/s eta 0:00:01\n",
            "   --------------------------------------  102.2/102.4 MB 31.4 MB/s eta 0:00:01\n",
            "   --------------------------------------  102.2/102.4 MB 31.4 MB/s eta 0:00:01\n",
            "   --------------------------------------  102.2/102.4 MB 31.4 MB/s eta 0:00:01\n",
            "   --------------------------------------  102.2/102.4 MB 31.4 MB/s eta 0:00:01\n",
            "   --------------------------------------  102.2/102.4 MB 31.4 MB/s eta 0:00:01\n",
            "   --------------------------------------  102.2/102.4 MB 31.4 MB/s eta 0:00:01\n",
            "   --------------------------------------  102.2/102.4 MB 31.4 MB/s eta 0:00:01\n",
            "   --------------------------------------  102.2/102.4 MB 31.4 MB/s eta 0:00:01\n",
            "   --------------------------------------  102.2/102.4 MB 31.4 MB/s eta 0:00:01\n",
            "   --------------------------------------  102.2/102.4 MB 31.4 MB/s eta 0:00:01\n",
            "   --------------------------------------  102.2/102.4 MB 31.4 MB/s eta 0:00:01\n",
            "   --------------------------------------  102.2/102.4 MB 31.4 MB/s eta 0:00:01\n",
            "   --------------------------------------  102.2/102.4 MB 31.4 MB/s eta 0:00:01\n",
            "   --------------------------------------  102.2/102.4 MB 31.4 MB/s eta 0:00:01\n",
            "   --------------------------------------  102.2/102.4 MB 31.4 MB/s eta 0:00:01\n",
            "   --------------------------------------- 102.4/102.4 MB 11.0 MB/s eta 0:00:00\n",
            "Using cached graphviz-0.21-py3-none-any.whl (47 kB)\n",
            "Installing collected packages: graphviz, catboost\n",
            "\n",
            "   ---------------------------------------- 0/2 [graphviz]\n",
            "   ---------------------------------------- 0/2 [graphviz]\n",
            "   ---------------------------------------- 0/2 [graphviz]\n",
            "   -------------------- ------------------- 1/2 [catboost]\n",
            "   -------------------- ------------------- 1/2 [catboost]\n",
            "   -------------------- ------------------- 1/2 [catboost]\n",
            "   -------------------- ------------------- 1/2 [catboost]\n",
            "   -------------------- ------------------- 1/2 [catboost]\n",
            "   -------------------- ------------------- 1/2 [catboost]\n",
            "   -------------------- ------------------- 1/2 [catboost]\n",
            "   -------------------- ------------------- 1/2 [catboost]\n",
            "   -------------------- ------------------- 1/2 [catboost]\n",
            "   -------------------- ------------------- 1/2 [catboost]\n",
            "   -------------------- ------------------- 1/2 [catboost]\n",
            "   -------------------- ------------------- 1/2 [catboost]\n",
            "   -------------------- ------------------- 1/2 [catboost]\n",
            "   -------------------- ------------------- 1/2 [catboost]\n",
            "   ---------------------------------------- 2/2 [catboost]\n",
            "\n",
            "Successfully installed catboost-1.2.8 graphviz-0.21\n"
          ]
        }
      ],
      "source": [
        "!pip install catboost"
      ]
    },
    {
      "cell_type": "code",
      "execution_count": 72,
      "metadata": {
        "colab": {
          "base_uri": "https://localhost:8080/"
        },
        "collapsed": true,
        "id": "5bZkrkp-9QLu",
        "outputId": "db6df4cb-0870-4e17-873a-847491bdbac7"
      },
      "outputs": [
        {
          "name": "stdout",
          "output_type": "stream",
          "text": [
            "Collecting optuna\n",
            "  Downloading optuna-4.4.0-py3-none-any.whl.metadata (17 kB)\n",
            "Collecting alembic>=1.5.0 (from optuna)\n",
            "  Downloading alembic-1.16.4-py3-none-any.whl.metadata (7.3 kB)\n",
            "Collecting colorlog (from optuna)\n",
            "  Downloading colorlog-6.9.0-py3-none-any.whl.metadata (10 kB)\n",
            "Requirement already satisfied: numpy in e:\\vs_code\\projects\\customer_churn\\venv\\lib\\site-packages (from optuna) (2.3.1)\n",
            "Requirement already satisfied: packaging>=20.0 in e:\\vs_code\\projects\\customer_churn\\venv\\lib\\site-packages (from optuna) (25.0)\n",
            "Collecting sqlalchemy>=1.4.2 (from optuna)\n",
            "  Using cached sqlalchemy-2.0.41-cp313-cp313-win_amd64.whl.metadata (9.8 kB)\n",
            "Collecting tqdm (from optuna)\n",
            "  Using cached tqdm-4.67.1-py3-none-any.whl.metadata (57 kB)\n",
            "Requirement already satisfied: PyYAML in e:\\vs_code\\projects\\customer_churn\\venv\\lib\\site-packages (from optuna) (6.0.2)\n",
            "Collecting Mako (from alembic>=1.5.0->optuna)\n",
            "  Downloading mako-1.3.10-py3-none-any.whl.metadata (2.9 kB)\n",
            "Requirement already satisfied: typing-extensions>=4.12 in e:\\vs_code\\projects\\customer_churn\\venv\\lib\\site-packages (from alembic>=1.5.0->optuna) (4.14.1)\n",
            "Collecting greenlet>=1 (from sqlalchemy>=1.4.2->optuna)\n",
            "  Downloading greenlet-3.2.3-cp313-cp313-win_amd64.whl.metadata (4.2 kB)\n",
            "Requirement already satisfied: colorama in e:\\vs_code\\projects\\customer_churn\\venv\\lib\\site-packages (from colorlog->optuna) (0.4.6)\n",
            "Requirement already satisfied: MarkupSafe>=0.9.2 in e:\\vs_code\\projects\\customer_churn\\venv\\lib\\site-packages (from Mako->alembic>=1.5.0->optuna) (3.0.2)\n",
            "Downloading optuna-4.4.0-py3-none-any.whl (395 kB)\n",
            "Downloading alembic-1.16.4-py3-none-any.whl (247 kB)\n",
            "Using cached sqlalchemy-2.0.41-cp313-cp313-win_amd64.whl (2.1 MB)\n",
            "Downloading greenlet-3.2.3-cp313-cp313-win_amd64.whl (297 kB)\n",
            "Downloading colorlog-6.9.0-py3-none-any.whl (11 kB)\n",
            "Downloading mako-1.3.10-py3-none-any.whl (78 kB)\n",
            "Using cached tqdm-4.67.1-py3-none-any.whl (78 kB)\n",
            "Installing collected packages: tqdm, Mako, greenlet, colorlog, sqlalchemy, alembic, optuna\n",
            "\n",
            "   ---------------------------------------- 0/7 [tqdm]\n",
            "   ---------------------------------------- 0/7 [tqdm]\n",
            "   ---------------------------------------- 0/7 [tqdm]\n",
            "   ---------------------------------------- 0/7 [tqdm]\n",
            "   ---------------------------------------- 0/7 [tqdm]\n",
            "   ----- ---------------------------------- 1/7 [Mako]\n",
            "   ----- ---------------------------------- 1/7 [Mako]\n",
            "   ----- ---------------------------------- 1/7 [Mako]\n",
            "   ----- ---------------------------------- 1/7 [Mako]\n",
            "   ----------- ---------------------------- 2/7 [greenlet]\n",
            "   ----------- ---------------------------- 2/7 [greenlet]\n",
            "   ----------- ---------------------------- 2/7 [greenlet]\n",
            "   ----------------- ---------------------- 3/7 [colorlog]\n",
            "   ---------------------- ----------------- 4/7 [sqlalchemy]\n",
            "   ---------------------- ----------------- 4/7 [sqlalchemy]\n",
            "   ---------------------- ----------------- 4/7 [sqlalchemy]\n",
            "   ---------------------- ----------------- 4/7 [sqlalchemy]\n",
            "   ---------------------- ----------------- 4/7 [sqlalchemy]\n",
            "   ---------------------- ----------------- 4/7 [sqlalchemy]\n",
            "   ---------------------- ----------------- 4/7 [sqlalchemy]\n",
            "   ---------------------- ----------------- 4/7 [sqlalchemy]\n",
            "   ---------------------- ----------------- 4/7 [sqlalchemy]\n",
            "   ---------------------- ----------------- 4/7 [sqlalchemy]\n",
            "   ---------------------- ----------------- 4/7 [sqlalchemy]\n",
            "   ---------------------- ----------------- 4/7 [sqlalchemy]\n",
            "   ---------------------- ----------------- 4/7 [sqlalchemy]\n",
            "   ---------------------- ----------------- 4/7 [sqlalchemy]\n",
            "   ---------------------- ----------------- 4/7 [sqlalchemy]\n",
            "   ---------------------- ----------------- 4/7 [sqlalchemy]\n",
            "   ---------------------- ----------------- 4/7 [sqlalchemy]\n",
            "   ---------------------- ----------------- 4/7 [sqlalchemy]\n",
            "   ---------------------- ----------------- 4/7 [sqlalchemy]\n",
            "   ---------------------- ----------------- 4/7 [sqlalchemy]\n",
            "   ---------------------- ----------------- 4/7 [sqlalchemy]\n",
            "   ---------------------- ----------------- 4/7 [sqlalchemy]\n",
            "   ---------------------- ----------------- 4/7 [sqlalchemy]\n",
            "   ---------------------- ----------------- 4/7 [sqlalchemy]\n",
            "   ---------------------- ----------------- 4/7 [sqlalchemy]\n",
            "   ---------------------- ----------------- 4/7 [sqlalchemy]\n",
            "   ---------------------- ----------------- 4/7 [sqlalchemy]\n",
            "   ---------------------- ----------------- 4/7 [sqlalchemy]\n",
            "   ---------------------- ----------------- 4/7 [sqlalchemy]\n",
            "   ---------------------- ----------------- 4/7 [sqlalchemy]\n",
            "   ---------------------- ----------------- 4/7 [sqlalchemy]\n",
            "   ---------------------- ----------------- 4/7 [sqlalchemy]\n",
            "   ---------------------- ----------------- 4/7 [sqlalchemy]\n",
            "   ---------------------- ----------------- 4/7 [sqlalchemy]\n",
            "   ---------------------------- ----------- 5/7 [alembic]\n",
            "   ---------------------------- ----------- 5/7 [alembic]\n",
            "   ---------------------------- ----------- 5/7 [alembic]\n",
            "   ---------------------------- ----------- 5/7 [alembic]\n",
            "   ---------------------------- ----------- 5/7 [alembic]\n",
            "   ---------------------------- ----------- 5/7 [alembic]\n",
            "   ---------------------------- ----------- 5/7 [alembic]\n",
            "   ---------------------------- ----------- 5/7 [alembic]\n",
            "   ---------------------------- ----------- 5/7 [alembic]\n",
            "   ---------------------------- ----------- 5/7 [alembic]\n",
            "   ---------------------------------- ----- 6/7 [optuna]\n",
            "   ---------------------------------- ----- 6/7 [optuna]\n",
            "   ---------------------------------- ----- 6/7 [optuna]\n",
            "   ---------------------------------- ----- 6/7 [optuna]\n",
            "   ---------------------------------- ----- 6/7 [optuna]\n",
            "   ---------------------------------- ----- 6/7 [optuna]\n",
            "   ---------------------------------- ----- 6/7 [optuna]\n",
            "   ---------------------------------- ----- 6/7 [optuna]\n",
            "   ---------------------------------- ----- 6/7 [optuna]\n",
            "   ---------------------------------- ----- 6/7 [optuna]\n",
            "   ---------------------------------- ----- 6/7 [optuna]\n",
            "   ---------------------------------- ----- 6/7 [optuna]\n",
            "   ---------------------------------- ----- 6/7 [optuna]\n",
            "   ---------------------------------- ----- 6/7 [optuna]\n",
            "   ---------------------------------- ----- 6/7 [optuna]\n",
            "   ---------------------------------- ----- 6/7 [optuna]\n",
            "   ---------------------------------- ----- 6/7 [optuna]\n",
            "   ---------------------------------- ----- 6/7 [optuna]\n",
            "   ---------------------------------- ----- 6/7 [optuna]\n",
            "   ---------------------------------- ----- 6/7 [optuna]\n",
            "   ---------------------------------------- 7/7 [optuna]\n",
            "\n",
            "Successfully installed Mako-1.3.10 alembic-1.16.4 colorlog-6.9.0 greenlet-3.2.3 optuna-4.4.0 sqlalchemy-2.0.41 tqdm-4.67.1\n"
          ]
        }
      ],
      "source": [
        "!pip install optuna"
      ]
    },
    {
      "cell_type": "code",
      "execution_count": 114,
      "metadata": {
        "colab": {
          "base_uri": "https://localhost:8080/"
        },
        "collapsed": true,
        "id": "k_GMwfiNITtC",
        "outputId": "0f7b7e65-214d-48f0-8068-2a8983bf3174"
      },
      "outputs": [],
      "source": [
        "from sklearn.model_selection import train_test_split\n",
        "\n",
        "from sklearn.compose import ColumnTransformer\n",
        "from sklearn.pipeline import Pipeline\n",
        "\n",
        "from category_encoders import CatBoostEncoder\n",
        "from category_encoders.target_encoder import TargetEncoder\n",
        "from sklearn.preprocessing import OneHotEncoder\n",
        "\n",
        "from sklearn.preprocessing import LabelEncoder\n",
        "\n",
        "from sklearn.preprocessing import MinMaxScaler\n",
        "from sklearn.preprocessing import StandardScaler"
      ]
    },
    {
      "cell_type": "code",
      "execution_count": 115,
      "metadata": {
        "id": "Cl5IDPzrIIbK"
      },
      "outputs": [],
      "source": [
        "from sklearn.tree import DecisionTreeClassifier\n",
        "from sklearn.ensemble import RandomForestClassifier, GradientBoostingClassifier\n",
        "from sklearn.linear_model import LogisticRegression\n",
        "from xgboost import XGBClassifier\n",
        "from catboost import CatBoostClassifier\n",
        "from lightgbm import LGBMClassifier\n",
        "from sklearn.svm import SVC\n",
        "\n",
        "from sklearn.model_selection import cross_val_score, StratifiedKFold\n",
        "\n",
        "from sklearn.metrics import (\n",
        "    roc_auc_score, accuracy_score,\n",
        "    precision_score, recall_score, f1_score,\n",
        "    make_scorer, confusion_matrix, classification_report\n",
        ")"
      ]
    },
    {
      "cell_type": "code",
      "execution_count": 116,
      "metadata": {},
      "outputs": [],
      "source": [
        "import sys\n",
        "import os\n",
        "\n",
        "try:\n",
        "    sys.path.append(os.path.abspath(os.path.join(os.getcwd(), '../src')))\n",
        "    from logger import logging\n",
        "    \n",
        "except ImportError:\n",
        "    \n",
        "    import logging\n",
        "    logging.basicConfig(\n",
        "      format = \"[ %(asctime)s ] %(lineno)d %(name)s - %(levelname)s - %(message)s\",\n",
        "      level = logging.INFO,\n",
        "\n",
        "    )\n",
        "    logger = logging.getLogger(__name__)\n",
        "    logger.warning(\"Could not import 'logger' from 'logger.py'. Falling back to default logging configuration.\")"
      ]
    },
    {
      "cell_type": "code",
      "execution_count": 122,
      "metadata": {},
      "outputs": [],
      "source": [
        "import optuna\n",
        "import optuna.visualization as vis\n",
        "from optuna.exceptions import TrialPruned\n",
        "from sklearn.impute import SimpleImputer"
      ]
    },
    {
      "cell_type": "code",
      "execution_count": null,
      "metadata": {},
      "outputs": [
        {
          "name": "stderr",
          "output_type": "stream",
          "text": [
            "2025-07-13 17:16:49,589 - INFO - Encoded categorical target variable\n",
            "2025-07-13 17:16:49,590 - INFO - Classification task with 3 classes\n",
            "2025-07-13 17:16:49,592 - WARNING - Multiclass classification detected. Some metrics may be affected.\n",
            "2025-07-13 17:16:49,604 - INFO - \n",
            "==================================================\n",
            "2025-07-13 17:16:49,605 - INFO - Optimizing LogisticRegression_onehot\n",
            "2025-07-13 17:16:49,605 - INFO - ==================================================\n",
            "[I 2025-07-13 17:16:49,608] A new study created in memory with name: no-name-19da2ba1-c0ab-453e-ad8e-6d0233ad1c6a\n",
            "  0%|          | 0/20 [00:00<?, ?it/s]2025-07-13 17:16:55,516 - INFO - LogisticRegression-onehot Mean AUC: 0.9974\n",
            "Best trial: 0. Best value: 0.997405:   5%|▌         | 1/20 [00:05<01:52,  5.91s/it, 5.91/1200 seconds]"
          ]
        },
        {
          "name": "stdout",
          "output_type": "stream",
          "text": [
            "[I 2025-07-13 17:16:55,517] Trial 0 finished with value: 0.9974051521595723 and parameters: {'C': 0.0745934328572655, 'solver': 'lbfgs'}. Best is trial 0 with value: 0.9974051521595723.\n"
          ]
        },
        {
          "name": "stderr",
          "output_type": "stream",
          "text": [
            "2025-07-13 17:17:01,873 - INFO - LogisticRegression-onehot Mean AUC: 0.9993\n",
            "Best trial: 1. Best value: 0.999319:  10%|█         | 2/20 [00:12<01:51,  6.17s/it, 12.27/1200 seconds]"
          ]
        },
        {
          "name": "stdout",
          "output_type": "stream",
          "text": [
            "[I 2025-07-13 17:17:01,874] Trial 1 finished with value: 0.999319001978687 and parameters: {'C': 0.9846738873614566, 'solver': 'lbfgs'}. Best is trial 1 with value: 0.999319001978687.\n"
          ]
        },
        {
          "name": "stderr",
          "output_type": "stream",
          "text": [
            "2025-07-13 17:17:06,889 - INFO - LogisticRegression-onehot Mean AUC: 0.9841\n",
            "Best trial: 1. Best value: 0.999319:  15%|█▌        | 3/20 [00:17<01:35,  5.64s/it, 17.28/1200 seconds]"
          ]
        },
        {
          "name": "stdout",
          "output_type": "stream",
          "text": [
            "[I 2025-07-13 17:17:06,890] Trial 2 finished with value: 0.984123117658406 and parameters: {'C': 0.0019517224641449498, 'solver': 'lbfgs'}. Best is trial 1 with value: 0.999319001978687.\n"
          ]
        },
        {
          "name": "stderr",
          "output_type": "stream",
          "text": [
            "2025-07-13 17:17:36,744 - INFO - LogisticRegression-onehot Mean AUC: 0.9994\n",
            "Best trial: 3. Best value: 0.99945:  20%|██        | 4/20 [00:47<04:03, 15.20s/it, 47.14/1200 seconds] "
          ]
        },
        {
          "name": "stdout",
          "output_type": "stream",
          "text": [
            "[I 2025-07-13 17:17:36,745] Trial 3 finished with value: 0.9994499963674811 and parameters: {'C': 3.4702669886504163, 'solver': 'saga'}. Best is trial 3 with value: 0.9994499963674811.\n"
          ]
        },
        {
          "name": "stderr",
          "output_type": "stream",
          "text": [
            "2025-07-13 17:17:42,320 - INFO - LogisticRegression-onehot Mean AUC: 0.9995\n",
            "Best trial: 4. Best value: 0.999503:  25%|██▌       | 5/20 [00:52<02:55, 11.73s/it, 52.71/1200 seconds]"
          ]
        },
        {
          "name": "stdout",
          "output_type": "stream",
          "text": [
            "[I 2025-07-13 17:17:42,322] Trial 4 finished with value: 0.9995032091995192 and parameters: {'C': 14.528246637516036, 'solver': 'lbfgs'}. Best is trial 4 with value: 0.9995032091995192.\n"
          ]
        },
        {
          "name": "stderr",
          "output_type": "stream",
          "text": [
            "2025-07-13 17:17:47,236 - INFO - LogisticRegression-onehot Mean AUC: 0.9925\n",
            "Best trial: 4. Best value: 0.999503:  30%|███       | 6/20 [00:57<02:11,  9.41s/it, 57.63/1200 seconds]"
          ]
        },
        {
          "name": "stdout",
          "output_type": "stream",
          "text": [
            "[I 2025-07-13 17:17:47,237] Trial 5 finished with value: 0.992461087836019 and parameters: {'C': 0.008260808399079604, 'solver': 'saga'}. Best is trial 4 with value: 0.9995032091995192.\n"
          ]
        },
        {
          "name": "stderr",
          "output_type": "stream",
          "text": [
            "2025-07-13 17:18:23,185 - INFO - LogisticRegression-onehot Mean AUC: 0.9982\n",
            "Best trial: 4. Best value: 0.999503:  35%|███▌      | 7/20 [01:33<03:55, 18.09s/it, 93.58/1200 seconds]"
          ]
        },
        {
          "name": "stdout",
          "output_type": "stream",
          "text": [
            "[I 2025-07-13 17:18:23,186] Trial 6 finished with value: 0.9982109111079783 and parameters: {'C': 0.14445251022763064, 'solver': 'saga'}. Best is trial 4 with value: 0.9995032091995192.\n"
          ]
        },
        {
          "name": "stderr",
          "output_type": "stream",
          "text": [
            "2025-07-13 17:18:26,580 - INFO - LogisticRegression-onehot Mean AUC: 0.9904\n",
            "Best trial: 4. Best value: 0.999503:  40%|████      | 8/20 [01:36<02:40, 13.41s/it, 96.97/1200 seconds]"
          ]
        },
        {
          "name": "stdout",
          "output_type": "stream",
          "text": [
            "[I 2025-07-13 17:18:26,581] Trial 7 finished with value: 0.9904059270792569 and parameters: {'C': 0.004982752357076452, 'solver': 'saga'}. Best is trial 4 with value: 0.9995032091995192.\n"
          ]
        },
        {
          "name": "stderr",
          "output_type": "stream",
          "text": [
            "2025-07-13 17:18:32,157 - INFO - LogisticRegression-onehot Mean AUC: 0.9985\n",
            "Best trial: 4. Best value: 0.999503:  45%|████▌     | 9/20 [01:42<02:00, 10.96s/it, 102.55/1200 seconds]"
          ]
        },
        {
          "name": "stdout",
          "output_type": "stream",
          "text": [
            "[I 2025-07-13 17:18:32,158] Trial 8 finished with value: 0.9985012577780564 and parameters: {'C': 0.19069966103000435, 'solver': 'lbfgs'}. Best is trial 4 with value: 0.9995032091995192.\n"
          ]
        },
        {
          "name": "stderr",
          "output_type": "stream",
          "text": [
            "2025-07-13 17:18:38,067 - INFO - LogisticRegression-onehot Mean AUC: 0.9990\n",
            "Best trial: 4. Best value: 0.999503:  50%|█████     | 10/20 [01:48<01:34,  9.40s/it, 108.46/1200 seconds]"
          ]
        },
        {
          "name": "stdout",
          "output_type": "stream",
          "text": [
            "[I 2025-07-13 17:18:38,070] Trial 9 finished with value: 0.998986507969121 and parameters: {'C': 0.37253938395788866, 'solver': 'lbfgs'}. Best is trial 4 with value: 0.9995032091995192.\n"
          ]
        },
        {
          "name": "stderr",
          "output_type": "stream",
          "text": [
            "2025-07-13 17:18:43,362 - INFO - LogisticRegression-onehot Mean AUC: 0.9993\n",
            "Best trial: 4. Best value: 0.999503:  55%|█████▌    | 11/20 [01:53<01:13,  8.15s/it, 113.76/1200 seconds]"
          ]
        },
        {
          "name": "stdout",
          "output_type": "stream",
          "text": [
            "[I 2025-07-13 17:18:43,364] Trial 10 finished with value: 0.9993051693316816 and parameters: {'C': 77.62120319752464, 'solver': 'lbfgs'}. Best is trial 4 with value: 0.9995032091995192.\n"
          ]
        },
        {
          "name": "stderr",
          "output_type": "stream",
          "text": [
            "2025-07-13 17:19:53,785 - INFO - LogisticRegression-onehot Mean AUC: 0.9995\n",
            "Best trial: 11. Best value: 0.999512:  60%|██████    | 12/20 [03:04<03:36, 27.09s/it, 184.18/1200 seconds]"
          ]
        },
        {
          "name": "stdout",
          "output_type": "stream",
          "text": [
            "[I 2025-07-13 17:19:53,785] Trial 11 finished with value: 0.9995116196939425 and parameters: {'C': 18.428603639984882, 'solver': 'saga'}. Best is trial 11 with value: 0.9995116196939425.\n"
          ]
        },
        {
          "name": "stderr",
          "output_type": "stream",
          "text": [
            "2025-07-13 17:21:33,421 - INFO - LogisticRegression-onehot Mean AUC: 0.9995\n",
            "Best trial: 11. Best value: 0.999512:  65%|██████▌   | 13/20 [04:43<05:43, 49.07s/it, 283.81/1200 seconds]"
          ]
        },
        {
          "name": "stdout",
          "output_type": "stream",
          "text": [
            "[I 2025-07-13 17:21:33,422] Trial 12 finished with value: 0.9995050623765821 and parameters: {'C': 42.066323156342655, 'solver': 'saga'}. Best is trial 11 with value: 0.9995116196939425.\n"
          ]
        },
        {
          "name": "stderr",
          "output_type": "stream",
          "text": [
            "2025-07-13 17:23:19,503 - INFO - LogisticRegression-onehot Mean AUC: 0.9995\n",
            "Best trial: 11. Best value: 0.999512:  70%|███████   | 14/20 [06:29<06:37, 66.29s/it, 389.90/1200 seconds]"
          ]
        },
        {
          "name": "stdout",
          "output_type": "stream",
          "text": [
            "[I 2025-07-13 17:23:19,504] Trial 13 finished with value: 0.9995035889120908 and parameters: {'C': 84.12899260881105, 'solver': 'saga'}. Best is trial 11 with value: 0.9995116196939425.\n"
          ]
        },
        {
          "name": "stderr",
          "output_type": "stream",
          "text": [
            "2025-07-13 17:25:19,187 - INFO - LogisticRegression-onehot Mean AUC: 0.9995\n",
            "Best trial: 11. Best value: 0.999512:  75%|███████▌  | 15/20 [08:29<06:51, 82.38s/it, 509.58/1200 seconds]"
          ]
        },
        {
          "name": "stdout",
          "output_type": "stream",
          "text": [
            "[I 2025-07-13 17:25:19,188] Trial 14 finished with value: 0.9995060140214753 and parameters: {'C': 8.282245617333789, 'solver': 'saga'}. Best is trial 11 with value: 0.9995116196939425.\n"
          ]
        },
        {
          "name": "stderr",
          "output_type": "stream",
          "text": [
            "2025-07-13 17:26:25,381 - INFO - LogisticRegression-onehot Mean AUC: 0.9995\n",
            "Best trial: 11. Best value: 0.999512:  80%|████████  | 16/20 [09:35<05:10, 77.51s/it, 575.78/1200 seconds]"
          ]
        },
        {
          "name": "stdout",
          "output_type": "stream",
          "text": [
            "[I 2025-07-13 17:26:25,383] Trial 15 finished with value: 0.9995014049671077 and parameters: {'C': 6.1123583824066, 'solver': 'saga'}. Best is trial 11 with value: 0.9995116196939425.\n"
          ]
        },
        {
          "name": "stderr",
          "output_type": "stream",
          "text": [
            "2025-07-13 17:27:36,498 - INFO - LogisticRegression-onehot Mean AUC: 0.9994\n",
            "Best trial: 11. Best value: 0.999512:  85%|████████▌ | 17/20 [10:46<03:46, 75.59s/it, 646.89/1200 seconds]"
          ]
        },
        {
          "name": "stdout",
          "output_type": "stream",
          "text": [
            "[I 2025-07-13 17:27:36,500] Trial 16 finished with value: 0.9994353627656661 and parameters: {'C': 2.9721909971387928, 'solver': 'saga'}. Best is trial 11 with value: 0.9995116196939425.\n"
          ]
        },
        {
          "name": "stderr",
          "output_type": "stream",
          "text": [
            "2025-07-13 17:30:10,724 - INFO - LogisticRegression-onehot Mean AUC: 0.9995\n",
            "Best trial: 17. Best value: 0.999513:  90%|█████████ | 18/20 [13:21<03:18, 99.22s/it, 801.12/1200 seconds]"
          ]
        },
        {
          "name": "stdout",
          "output_type": "stream",
          "text": [
            "[I 2025-07-13 17:30:10,725] Trial 17 finished with value: 0.9995130926912049 and parameters: {'C': 17.640957958424192, 'solver': 'saga'}. Best is trial 17 with value: 0.9995130926912049.\n"
          ]
        },
        {
          "name": "stderr",
          "output_type": "stream",
          "text": [
            "2025-07-13 17:32:11,014 - INFO - LogisticRegression-onehot Mean AUC: 0.9995\n",
            "Best trial: 17. Best value: 0.999513:  95%|█████████▌| 19/20 [15:21<01:45, 105.55s/it, 921.41/1200 seconds]"
          ]
        },
        {
          "name": "stdout",
          "output_type": "stream",
          "text": [
            "[I 2025-07-13 17:32:11,015] Trial 18 finished with value: 0.9995129501169498 and parameters: {'C': 21.16831119240094, 'solver': 'saga'}. Best is trial 17 with value: 0.9995130926912049.\n"
          ]
        },
        {
          "name": "stderr",
          "output_type": "stream",
          "text": [
            "2025-07-13 17:33:34,907 - INFO - LogisticRegression-onehot Mean AUC: 0.9993\n",
            "Best trial: 17. Best value: 0.999513: 100%|██████████| 20/20 [16:45<00:00, 50.27s/it, 1005.30/1200 seconds]\n"
          ]
        },
        {
          "name": "stdout",
          "output_type": "stream",
          "text": [
            "[I 2025-07-13 17:33:34,908] Trial 19 finished with value: 0.999323374533414 and parameters: {'C': 1.2927350470628638, 'solver': 'saga'}. Best is trial 17 with value: 0.9995130926912049.\n"
          ]
        },
        {
          "name": "stderr",
          "output_type": "stream",
          "text": [
            "2025-07-13 17:34:11,276 - INFO - LogisticRegression_onehot | Test AUC: nan\n",
            "2025-07-13 17:34:11,611 - INFO - \n",
            "==================================================\n",
            "2025-07-13 17:34:11,612 - INFO - Optimizing LogisticRegression_target\n",
            "2025-07-13 17:34:11,612 - INFO - ==================================================\n",
            "[I 2025-07-13 17:34:11,613] A new study created in memory with name: no-name-ca4d62f1-e8a8-4b57-9f68-cbff9c5492c4\n",
            "  0%|          | 0/20 [00:00<?, ?it/s]2025-07-13 17:34:16,821 - INFO - LogisticRegression-target Mean AUC: 0.9986\n",
            "Best trial: 0. Best value: 0.998641:   5%|▌         | 1/20 [00:05<01:39,  5.21s/it, 5.21/1200 seconds]"
          ]
        },
        {
          "name": "stdout",
          "output_type": "stream",
          "text": [
            "[I 2025-07-13 17:34:16,822] Trial 0 finished with value: 0.9986409899325054 and parameters: {'C': 0.0745934328572655, 'solver': 'lbfgs'}. Best is trial 0 with value: 0.9986409899325054.\n"
          ]
        },
        {
          "name": "stderr",
          "output_type": "stream",
          "text": [
            "2025-07-13 17:34:21,390 - INFO - LogisticRegression-target Mean AUC: 0.9997\n",
            "Best trial: 1. Best value: 0.999701:  10%|█         | 2/20 [00:09<01:26,  4.83s/it, 9.78/1200 seconds]"
          ]
        },
        {
          "name": "stdout",
          "output_type": "stream",
          "text": [
            "[I 2025-07-13 17:34:21,391] Trial 1 finished with value: 0.9997012326035767 and parameters: {'C': 0.9846738873614566, 'solver': 'lbfgs'}. Best is trial 1 with value: 0.9997012326035767.\n"
          ]
        },
        {
          "name": "stderr",
          "output_type": "stream",
          "text": [
            "2025-07-13 17:34:25,991 - INFO - LogisticRegression-target Mean AUC: 0.9895\n",
            "Best trial: 1. Best value: 0.999701:  15%|█▌        | 3/20 [00:14<01:20,  4.73s/it, 14.38/1200 seconds]"
          ]
        },
        {
          "name": "stdout",
          "output_type": "stream",
          "text": [
            "[I 2025-07-13 17:34:25,992] Trial 2 finished with value: 0.989532659580903 and parameters: {'C': 0.0019517224641449498, 'solver': 'lbfgs'}. Best is trial 1 with value: 0.9997012326035767.\n"
          ]
        },
        {
          "name": "stderr",
          "output_type": "stream",
          "text": [
            "2025-07-13 17:34:28,232 - INFO - LogisticRegression-target Mean AUC: 0.9998\n",
            "Best trial: 3. Best value: 0.999811:  20%|██        | 4/20 [00:16<00:59,  3.75s/it, 16.62/1200 seconds]"
          ]
        },
        {
          "name": "stdout",
          "output_type": "stream",
          "text": [
            "[I 2025-07-13 17:34:28,233] Trial 3 finished with value: 0.9998107501616743 and parameters: {'C': 3.4702669886504163, 'solver': 'saga'}. Best is trial 3 with value: 0.9998107501616743.\n"
          ]
        },
        {
          "name": "stderr",
          "output_type": "stream",
          "text": [
            "2025-07-13 17:34:32,595 - INFO - LogisticRegression-target Mean AUC: 0.9999\n",
            "Best trial: 4. Best value: 0.999889:  25%|██▌       | 5/20 [00:20<00:59,  3.97s/it, 20.98/1200 seconds]"
          ]
        },
        {
          "name": "stdout",
          "output_type": "stream",
          "text": [
            "[I 2025-07-13 17:34:32,596] Trial 4 finished with value: 0.999888625231227 and parameters: {'C': 14.528246637516036, 'solver': 'lbfgs'}. Best is trial 4 with value: 0.999888625231227.\n"
          ]
        },
        {
          "name": "stderr",
          "output_type": "stream",
          "text": [
            "2025-07-13 17:34:33,521 - INFO - LogisticRegression-target Mean AUC: 0.9953\n",
            "Best trial: 4. Best value: 0.999889:  30%|███       | 6/20 [00:21<00:41,  2.93s/it, 21.91/1200 seconds]"
          ]
        },
        {
          "name": "stdout",
          "output_type": "stream",
          "text": [
            "[I 2025-07-13 17:34:33,522] Trial 5 finished with value: 0.9953254192506865 and parameters: {'C': 0.008260808399079604, 'solver': 'saga'}. Best is trial 4 with value: 0.999888625231227.\n"
          ]
        },
        {
          "name": "stderr",
          "output_type": "stream",
          "text": [
            "2025-07-13 17:34:35,015 - INFO - LogisticRegression-target Mean AUC: 0.9991\n",
            "Best trial: 4. Best value: 0.999889:  35%|███▌      | 7/20 [00:23<00:32,  2.46s/it, 23.41/1200 seconds]"
          ]
        },
        {
          "name": "stdout",
          "output_type": "stream",
          "text": [
            "[I 2025-07-13 17:34:35,017] Trial 6 finished with value: 0.9990687893606428 and parameters: {'C': 0.14445251022763064, 'solver': 'saga'}. Best is trial 4 with value: 0.999888625231227.\n"
          ]
        },
        {
          "name": "stderr",
          "output_type": "stream",
          "text": [
            "2025-07-13 17:34:35,817 - INFO - LogisticRegression-target Mean AUC: 0.9939\n",
            "Best trial: 4. Best value: 0.999889:  40%|████      | 8/20 [00:24<00:23,  1.93s/it, 24.21/1200 seconds]"
          ]
        },
        {
          "name": "stdout",
          "output_type": "stream",
          "text": [
            "[I 2025-07-13 17:34:35,818] Trial 7 finished with value: 0.9938611402147677 and parameters: {'C': 0.004982752357076452, 'solver': 'saga'}. Best is trial 4 with value: 0.999888625231227.\n"
          ]
        },
        {
          "name": "stderr",
          "output_type": "stream",
          "text": [
            "2025-07-13 17:34:40,503 - INFO - LogisticRegression-target Mean AUC: 0.9993\n",
            "Best trial: 4. Best value: 0.999889:  45%|████▌     | 9/20 [00:28<00:30,  2.80s/it, 28.89/1200 seconds]"
          ]
        },
        {
          "name": "stdout",
          "output_type": "stream",
          "text": [
            "[I 2025-07-13 17:34:40,504] Trial 8 finished with value: 0.9992712408052822 and parameters: {'C': 0.19069966103000435, 'solver': 'lbfgs'}. Best is trial 4 with value: 0.999888625231227.\n"
          ]
        },
        {
          "name": "stderr",
          "output_type": "stream",
          "text": [
            "2025-07-13 17:34:45,553 - INFO - LogisticRegression-target Mean AUC: 0.9995\n",
            "Best trial: 4. Best value: 0.999889:  50%|█████     | 10/20 [00:33<00:34,  3.49s/it, 33.94/1200 seconds]"
          ]
        },
        {
          "name": "stdout",
          "output_type": "stream",
          "text": [
            "[I 2025-07-13 17:34:45,555] Trial 9 finished with value: 0.9995394040338649 and parameters: {'C': 0.37253938395788866, 'solver': 'lbfgs'}. Best is trial 4 with value: 0.999888625231227.\n"
          ]
        },
        {
          "name": "stderr",
          "output_type": "stream",
          "text": [
            "2025-07-13 17:34:50,512 - INFO - LogisticRegression-target Mean AUC: 0.9999\n",
            "Best trial: 10. Best value: 0.999943:  55%|█████▌    | 11/20 [00:38<00:35,  3.94s/it, 38.90/1200 seconds]"
          ]
        },
        {
          "name": "stdout",
          "output_type": "stream",
          "text": [
            "[I 2025-07-13 17:34:50,514] Trial 10 finished with value: 0.999943457255806 and parameters: {'C': 77.62120319752464, 'solver': 'lbfgs'}. Best is trial 10 with value: 0.999943457255806.\n"
          ]
        },
        {
          "name": "stderr",
          "output_type": "stream",
          "text": [
            "2025-07-13 17:34:54,783 - INFO - LogisticRegression-target Mean AUC: 0.9999\n",
            "Best trial: 10. Best value: 0.999943:  60%|██████    | 12/20 [00:43<00:32,  4.04s/it, 43.17/1200 seconds]"
          ]
        },
        {
          "name": "stdout",
          "output_type": "stream",
          "text": [
            "[I 2025-07-13 17:34:54,786] Trial 11 finished with value: 0.9999381353301625 and parameters: {'C': 70.41830285016022, 'solver': 'lbfgs'}. Best is trial 10 with value: 0.999943457255806.\n"
          ]
        },
        {
          "name": "stderr",
          "output_type": "stream",
          "text": [
            "2025-07-13 17:34:59,030 - INFO - LogisticRegression-target Mean AUC: 0.9999\n",
            "Best trial: 10. Best value: 0.999943:  65%|██████▌   | 13/20 [00:47<00:28,  4.10s/it, 47.42/1200 seconds]"
          ]
        },
        {
          "name": "stdout",
          "output_type": "stream",
          "text": [
            "[I 2025-07-13 17:34:59,032] Trial 12 finished with value: 0.9999381354469697 and parameters: {'C': 90.08292046338948, 'solver': 'lbfgs'}. Best is trial 10 with value: 0.999943457255806.\n"
          ]
        },
        {
          "name": "stderr",
          "output_type": "stream",
          "text": [
            "2025-07-13 17:35:03,215 - INFO - LogisticRegression-target Mean AUC: 0.9999\n",
            "Best trial: 10. Best value: 0.999943:  70%|███████   | 14/20 [00:51<00:24,  4.13s/it, 51.61/1200 seconds]"
          ]
        },
        {
          "name": "stdout",
          "output_type": "stream",
          "text": [
            "[I 2025-07-13 17:35:03,217] Trial 13 finished with value: 0.9999388008920879 and parameters: {'C': 87.0529764483982, 'solver': 'lbfgs'}. Best is trial 10 with value: 0.999943457255806.\n"
          ]
        },
        {
          "name": "stderr",
          "output_type": "stream",
          "text": [
            "2025-07-13 17:35:07,326 - INFO - LogisticRegression-target Mean AUC: 0.9999\n",
            "Best trial: 10. Best value: 0.999943:  75%|███████▌  | 15/20 [00:55<00:20,  4.12s/it, 55.72/1200 seconds]"
          ]
        },
        {
          "name": "stdout",
          "output_type": "stream",
          "text": [
            "[I 2025-07-13 17:35:07,328] Trial 14 finished with value: 0.999874276077079 and parameters: {'C': 10.664845527752796, 'solver': 'lbfgs'}. Best is trial 10 with value: 0.999943457255806.\n"
          ]
        },
        {
          "name": "stderr",
          "output_type": "stream",
          "text": [
            "2025-07-13 17:35:11,488 - INFO - LogisticRegression-target Mean AUC: 0.9999\n",
            "Best trial: 10. Best value: 0.999943:  80%|████████  | 16/20 [00:59<00:16,  4.13s/it, 59.88/1200 seconds]"
          ]
        },
        {
          "name": "stdout",
          "output_type": "stream",
          "text": [
            "[I 2025-07-13 17:35:11,489] Trial 15 finished with value: 0.9999018343132021 and parameters: {'C': 19.707558243381765, 'solver': 'lbfgs'}. Best is trial 10 with value: 0.999943457255806.\n"
          ]
        },
        {
          "name": "stderr",
          "output_type": "stream",
          "text": [
            "2025-07-13 17:35:15,781 - INFO - LogisticRegression-target Mean AUC: 0.9998\n",
            "Best trial: 10. Best value: 0.999943:  85%|████████▌ | 17/20 [01:04<00:12,  4.18s/it, 64.17/1200 seconds]"
          ]
        },
        {
          "name": "stdout",
          "output_type": "stream",
          "text": [
            "[I 2025-07-13 17:35:15,783] Trial 16 finished with value: 0.9997916025989494 and parameters: {'C': 2.4410479842330757, 'solver': 'lbfgs'}. Best is trial 10 with value: 0.999943457255806.\n"
          ]
        },
        {
          "name": "stderr",
          "output_type": "stream",
          "text": [
            "2025-07-13 17:35:20,006 - INFO - LogisticRegression-target Mean AUC: 0.9999\n",
            "Best trial: 10. Best value: 0.999943:  90%|█████████ | 18/20 [01:08<00:08,  4.20s/it, 68.40/1200 seconds]"
          ]
        },
        {
          "name": "stdout",
          "output_type": "stream",
          "text": [
            "[I 2025-07-13 17:35:20,008] Trial 17 finished with value: 0.9999104340525554 and parameters: {'C': 35.99488553074822, 'solver': 'lbfgs'}. Best is trial 10 with value: 0.999943457255806.\n"
          ]
        },
        {
          "name": "stderr",
          "output_type": "stream",
          "text": [
            "2025-07-13 17:35:25,047 - INFO - LogisticRegression-target Mean AUC: 0.9998\n",
            "Best trial: 10. Best value: 0.999943:  95%|█████████▌| 19/20 [01:13<00:04,  4.45s/it, 73.44/1200 seconds]"
          ]
        },
        {
          "name": "stdout",
          "output_type": "stream",
          "text": [
            "[I 2025-07-13 17:35:25,049] Trial 18 finished with value: 0.9997978266954384 and parameters: {'C': 2.8148296482457207, 'solver': 'saga'}. Best is trial 10 with value: 0.999943457255806.\n"
          ]
        },
        {
          "name": "stderr",
          "output_type": "stream",
          "text": [
            "2025-07-13 17:35:29,208 - INFO - LogisticRegression-target Mean AUC: 0.9971\n",
            "Best trial: 10. Best value: 0.999943: 100%|██████████| 20/20 [01:17<00:00,  3.88s/it, 77.60/1200 seconds]\n"
          ]
        },
        {
          "name": "stdout",
          "output_type": "stream",
          "text": [
            "[I 2025-07-13 17:35:29,211] Trial 19 finished with value: 0.9971433195792035 and parameters: {'C': 0.021624962584771527, 'solver': 'lbfgs'}. Best is trial 10 with value: 0.999943457255806.\n"
          ]
        },
        {
          "name": "stderr",
          "output_type": "stream",
          "text": [
            "2025-07-13 17:35:30,714 - INFO - LogisticRegression_target | Test AUC: nan\n",
            "2025-07-13 17:35:31,273 - INFO - \n",
            "==================================================\n",
            "2025-07-13 17:35:31,274 - INFO - Optimizing LogisticRegression_catboost_enc\n",
            "2025-07-13 17:35:31,275 - INFO - ==================================================\n",
            "[I 2025-07-13 17:35:31,277] A new study created in memory with name: no-name-82c0a0f3-1c53-42e0-9561-c5e32f05edc6\n",
            "  0%|          | 0/20 [00:00<?, ?it/s]2025-07-13 17:35:35,609 - INFO - LogisticRegression-catboost_enc Mean AUC: 0.9081\n",
            "Best trial: 0. Best value: 0.908087:   5%|▌         | 1/20 [00:04<01:22,  4.33s/it, 4.33/1200 seconds]"
          ]
        },
        {
          "name": "stdout",
          "output_type": "stream",
          "text": [
            "[I 2025-07-13 17:35:35,610] Trial 0 finished with value: 0.9080871828329986 and parameters: {'C': 0.0745934328572655, 'solver': 'lbfgs'}. Best is trial 0 with value: 0.9080871828329986.\n"
          ]
        },
        {
          "name": "stderr",
          "output_type": "stream",
          "text": [
            "2025-07-13 17:35:40,794 - INFO - LogisticRegression-catboost_enc Mean AUC: 0.9135\n",
            "Best trial: 1. Best value: 0.91352:  10%|█         | 2/20 [00:09<01:27,  4.84s/it, 9.52/1200 seconds] "
          ]
        },
        {
          "name": "stdout",
          "output_type": "stream",
          "text": [
            "[I 2025-07-13 17:35:40,796] Trial 1 finished with value: 0.9135196330005532 and parameters: {'C': 0.9846738873614566, 'solver': 'lbfgs'}. Best is trial 1 with value: 0.9135196330005532.\n"
          ]
        },
        {
          "name": "stderr",
          "output_type": "stream",
          "text": [
            "2025-07-13 17:35:44,873 - INFO - LogisticRegression-catboost_enc Mean AUC: 0.8764\n",
            "Best trial: 1. Best value: 0.91352:  15%|█▌        | 3/20 [00:13<01:16,  4.49s/it, 13.60/1200 seconds]"
          ]
        },
        {
          "name": "stdout",
          "output_type": "stream",
          "text": [
            "[I 2025-07-13 17:35:44,874] Trial 2 finished with value: 0.8763768885411799 and parameters: {'C': 0.0019517224641449498, 'solver': 'lbfgs'}. Best is trial 1 with value: 0.9135196330005532.\n"
          ]
        },
        {
          "name": "stderr",
          "output_type": "stream",
          "text": [
            "2025-07-13 17:35:50,273 - INFO - LogisticRegression-catboost_enc Mean AUC: 0.9139\n",
            "Best trial: 3. Best value: 0.913945:  20%|██        | 4/20 [00:18<01:17,  4.85s/it, 19.00/1200 seconds]"
          ]
        },
        {
          "name": "stdout",
          "output_type": "stream",
          "text": [
            "[I 2025-07-13 17:35:50,274] Trial 3 finished with value: 0.9139446354154458 and parameters: {'C': 3.4702669886504163, 'solver': 'saga'}. Best is trial 3 with value: 0.9139446354154458.\n"
          ]
        },
        {
          "name": "stderr",
          "output_type": "stream",
          "text": [
            "2025-07-13 17:35:54,371 - INFO - LogisticRegression-catboost_enc Mean AUC: 0.9141\n",
            "Best trial: 4. Best value: 0.914115:  25%|██▌       | 5/20 [00:23<01:08,  4.58s/it, 23.10/1200 seconds]"
          ]
        },
        {
          "name": "stdout",
          "output_type": "stream",
          "text": [
            "[I 2025-07-13 17:35:54,372] Trial 4 finished with value: 0.9141154856451484 and parameters: {'C': 14.528246637516036, 'solver': 'lbfgs'}. Best is trial 4 with value: 0.9141154856451484.\n"
          ]
        },
        {
          "name": "stderr",
          "output_type": "stream",
          "text": [
            "2025-07-13 17:35:55,284 - INFO - LogisticRegression-catboost_enc Mean AUC: 0.8921\n",
            "Best trial: 4. Best value: 0.914115:  30%|███       | 6/20 [00:24<00:46,  3.33s/it, 24.01/1200 seconds]"
          ]
        },
        {
          "name": "stdout",
          "output_type": "stream",
          "text": [
            "[I 2025-07-13 17:35:55,286] Trial 5 finished with value: 0.8921369473599432 and parameters: {'C': 0.008260808399079604, 'solver': 'saga'}. Best is trial 4 with value: 0.9141154856451484.\n"
          ]
        },
        {
          "name": "stderr",
          "output_type": "stream",
          "text": [
            "2025-07-13 17:35:57,767 - INFO - LogisticRegression-catboost_enc Mean AUC: 0.9106\n",
            "Best trial: 4. Best value: 0.914115:  35%|███▌      | 7/20 [00:26<00:39,  3.05s/it, 26.49/1200 seconds]"
          ]
        },
        {
          "name": "stdout",
          "output_type": "stream",
          "text": [
            "[I 2025-07-13 17:35:57,768] Trial 6 finished with value: 0.9106289359513937 and parameters: {'C': 0.14445251022763064, 'solver': 'saga'}. Best is trial 4 with value: 0.9141154856451484.\n"
          ]
        },
        {
          "name": "stderr",
          "output_type": "stream",
          "text": [
            "2025-07-13 17:35:58,551 - INFO - LogisticRegression-catboost_enc Mean AUC: 0.8871\n",
            "Best trial: 4. Best value: 0.914115:  40%|████      | 8/20 [00:27<00:27,  2.33s/it, 27.28/1200 seconds]"
          ]
        },
        {
          "name": "stdout",
          "output_type": "stream",
          "text": [
            "[I 2025-07-13 17:35:58,552] Trial 7 finished with value: 0.8871282726533242 and parameters: {'C': 0.004982752357076452, 'solver': 'saga'}. Best is trial 4 with value: 0.9141154856451484.\n"
          ]
        },
        {
          "name": "stderr",
          "output_type": "stream",
          "text": [
            "2025-07-13 17:36:02,315 - INFO - LogisticRegression-catboost_enc Mean AUC: 0.9115\n",
            "Best trial: 4. Best value: 0.914115:  45%|████▌     | 9/20 [00:31<00:30,  2.78s/it, 31.04/1200 seconds]"
          ]
        },
        {
          "name": "stdout",
          "output_type": "stream",
          "text": [
            "[I 2025-07-13 17:36:02,316] Trial 8 finished with value: 0.9115475506780887 and parameters: {'C': 0.19069966103000435, 'solver': 'lbfgs'}. Best is trial 4 with value: 0.9141154856451484.\n"
          ]
        },
        {
          "name": "stderr",
          "output_type": "stream",
          "text": [
            "2025-07-13 17:36:06,128 - INFO - LogisticRegression-catboost_enc Mean AUC: 0.9129\n",
            "Best trial: 4. Best value: 0.914115:  50%|█████     | 10/20 [00:34<00:30,  3.10s/it, 34.85/1200 seconds]"
          ]
        },
        {
          "name": "stdout",
          "output_type": "stream",
          "text": [
            "[I 2025-07-13 17:36:06,129] Trial 9 finished with value: 0.9128666393385232 and parameters: {'C': 0.37253938395788866, 'solver': 'lbfgs'}. Best is trial 4 with value: 0.9141154856451484.\n"
          ]
        },
        {
          "name": "stderr",
          "output_type": "stream",
          "text": [
            "2025-07-13 17:36:10,217 - INFO - LogisticRegression-catboost_enc Mean AUC: 0.9141\n",
            "Best trial: 10. Best value: 0.914116:  55%|█████▌    | 11/20 [00:38<00:30,  3.40s/it, 38.94/1200 seconds]"
          ]
        },
        {
          "name": "stdout",
          "output_type": "stream",
          "text": [
            "[I 2025-07-13 17:36:10,218] Trial 10 finished with value: 0.9141158987860475 and parameters: {'C': 77.62120319752464, 'solver': 'lbfgs'}. Best is trial 10 with value: 0.9141158987860475.\n"
          ]
        },
        {
          "name": "stderr",
          "output_type": "stream",
          "text": [
            "2025-07-13 17:36:14,255 - INFO - LogisticRegression-catboost_enc Mean AUC: 0.9141\n",
            "Best trial: 10. Best value: 0.914116:  60%|██████    | 12/20 [00:42<00:28,  3.60s/it, 42.98/1200 seconds]"
          ]
        },
        {
          "name": "stdout",
          "output_type": "stream",
          "text": [
            "[I 2025-07-13 17:36:14,256] Trial 11 finished with value: 0.9140962480259344 and parameters: {'C': 70.41830285016022, 'solver': 'lbfgs'}. Best is trial 10 with value: 0.9141158987860475.\n"
          ]
        },
        {
          "name": "stderr",
          "output_type": "stream",
          "text": [
            "2025-07-13 17:36:18,259 - INFO - LogisticRegression-catboost_enc Mean AUC: 0.9141\n",
            "Best trial: 10. Best value: 0.914116:  65%|██████▌   | 13/20 [00:46<00:26,  3.72s/it, 46.98/1200 seconds]"
          ]
        },
        {
          "name": "stdout",
          "output_type": "stream",
          "text": [
            "[I 2025-07-13 17:36:18,260] Trial 12 finished with value: 0.9140854653973093 and parameters: {'C': 81.92602279031013, 'solver': 'lbfgs'}. Best is trial 10 with value: 0.9141158987860475.\n"
          ]
        },
        {
          "name": "stderr",
          "output_type": "stream",
          "text": [
            "2025-07-13 17:36:22,211 - INFO - LogisticRegression-catboost_enc Mean AUC: 0.9141\n",
            "Best trial: 13. Best value: 0.914121:  70%|███████   | 14/20 [00:50<00:22,  3.79s/it, 50.94/1200 seconds]"
          ]
        },
        {
          "name": "stdout",
          "output_type": "stream",
          "text": [
            "[I 2025-07-13 17:36:22,213] Trial 13 finished with value: 0.9141212649544882 and parameters: {'C': 12.471174034537048, 'solver': 'lbfgs'}. Best is trial 13 with value: 0.9141212649544882.\n"
          ]
        },
        {
          "name": "stderr",
          "output_type": "stream",
          "text": [
            "2025-07-13 17:36:26,180 - INFO - LogisticRegression-catboost_enc Mean AUC: 0.9141\n",
            "Best trial: 13. Best value: 0.914121:  75%|███████▌  | 15/20 [00:54<00:19,  3.84s/it, 54.90/1200 seconds]"
          ]
        },
        {
          "name": "stdout",
          "output_type": "stream",
          "text": [
            "[I 2025-07-13 17:36:26,181] Trial 14 finished with value: 0.9141211771790264 and parameters: {'C': 10.582721768076516, 'solver': 'lbfgs'}. Best is trial 13 with value: 0.9141212649544882.\n"
          ]
        },
        {
          "name": "stderr",
          "output_type": "stream",
          "text": [
            "2025-07-13 17:36:30,466 - INFO - LogisticRegression-catboost_enc Mean AUC: 0.9140\n",
            "Best trial: 13. Best value: 0.914121:  80%|████████  | 16/20 [00:59<00:15,  3.98s/it, 59.19/1200 seconds]"
          ]
        },
        {
          "name": "stdout",
          "output_type": "stream",
          "text": [
            "[I 2025-07-13 17:36:30,467] Trial 15 finished with value: 0.914013130921782 and parameters: {'C': 6.265409266215086, 'solver': 'lbfgs'}. Best is trial 13 with value: 0.9141212649544882.\n"
          ]
        },
        {
          "name": "stderr",
          "output_type": "stream",
          "text": [
            "2025-07-13 17:36:34,430 - INFO - LogisticRegression-catboost_enc Mean AUC: 0.9141\n",
            "Best trial: 13. Best value: 0.914121:  85%|████████▌ | 17/20 [01:03<00:11,  3.97s/it, 63.15/1200 seconds]"
          ]
        },
        {
          "name": "stdout",
          "output_type": "stream",
          "text": [
            "[I 2025-07-13 17:36:34,431] Trial 16 finished with value: 0.9140612256379376 and parameters: {'C': 15.318965745041272, 'solver': 'lbfgs'}. Best is trial 13 with value: 0.9141212649544882.\n"
          ]
        },
        {
          "name": "stderr",
          "output_type": "stream",
          "text": [
            "2025-07-13 17:36:38,450 - INFO - LogisticRegression-catboost_enc Mean AUC: 0.9137\n",
            "Best trial: 13. Best value: 0.914121:  90%|█████████ | 18/20 [01:07<00:07,  3.99s/it, 67.18/1200 seconds]"
          ]
        },
        {
          "name": "stdout",
          "output_type": "stream",
          "text": [
            "[I 2025-07-13 17:36:38,452] Trial 17 finished with value: 0.9137431946504013 and parameters: {'C': 1.7421922096665103, 'solver': 'lbfgs'}. Best is trial 13 with value: 0.9141212649544882.\n"
          ]
        },
        {
          "name": "stderr",
          "output_type": "stream",
          "text": [
            "2025-07-13 17:36:42,897 - INFO - LogisticRegression-catboost_enc Mean AUC: 0.9141\n",
            "Best trial: 13. Best value: 0.914121:  95%|█████████▌| 19/20 [01:11<00:04,  4.13s/it, 71.62/1200 seconds]"
          ]
        },
        {
          "name": "stdout",
          "output_type": "stream",
          "text": [
            "[I 2025-07-13 17:36:42,899] Trial 18 finished with value: 0.9140651973557086 and parameters: {'C': 16.816892424522845, 'solver': 'saga'}. Best is trial 13 with value: 0.9141212649544882.\n"
          ]
        },
        {
          "name": "stderr",
          "output_type": "stream",
          "text": [
            "2025-07-13 17:36:46,737 - INFO - LogisticRegression-catboost_enc Mean AUC: 0.9134\n",
            "Best trial: 13. Best value: 0.914121: 100%|██████████| 20/20 [01:15<00:00,  3.77s/it, 75.46/1200 seconds]\n"
          ]
        },
        {
          "name": "stdout",
          "output_type": "stream",
          "text": [
            "[I 2025-07-13 17:36:46,738] Trial 19 finished with value: 0.9134085117984733 and parameters: {'C': 0.699599060580406, 'solver': 'lbfgs'}. Best is trial 13 with value: 0.9141212649544882.\n"
          ]
        },
        {
          "name": "stderr",
          "output_type": "stream",
          "text": [
            "2025-07-13 17:36:48,153 - INFO - LogisticRegression_catboost_enc | Test AUC: nan\n",
            "2025-07-13 17:36:48,392 - INFO - \n",
            "==================================================\n",
            "2025-07-13 17:36:48,393 - INFO - Optimizing RandomForest_onehot\n",
            "2025-07-13 17:36:48,393 - INFO - ==================================================\n",
            "[I 2025-07-13 17:36:48,394] A new study created in memory with name: no-name-bc5d4fa9-8357-494f-94d6-b0d101b43f2e\n",
            "  0%|          | 0/20 [00:00<?, ?it/s]2025-07-13 17:36:49,977 - INFO - RandomForest-onehot Mean AUC: 0.9997\n",
            "Best trial: 0. Best value: 0.999741:   5%|▌         | 1/20 [00:01<00:30,  1.59s/it, 1.59/1200 seconds]"
          ]
        },
        {
          "name": "stdout",
          "output_type": "stream",
          "text": [
            "[I 2025-07-13 17:36:49,981] Trial 0 finished with value: 0.9997414376032349 and parameters: {'n_estimators': 250, 'max_depth': 20, 'min_samples_split': 12}. Best is trial 0 with value: 0.9997414376032349.\n"
          ]
        },
        {
          "name": "stderr",
          "output_type": "stream",
          "text": [
            "2025-07-13 17:36:51,749 - INFO - RandomForest-onehot Mean AUC: 0.9962\n",
            "Best trial: 0. Best value: 0.999741:  10%|█         | 2/20 [00:03<00:30,  1.70s/it, 3.36/1200 seconds]"
          ]
        },
        {
          "name": "stdout",
          "output_type": "stream",
          "text": [
            "[I 2025-07-13 17:36:51,752] Trial 1 finished with value: 0.9961854915379572 and parameters: {'n_estimators': 340, 'max_depth': 7, 'min_samples_split': 4}. Best is trial 0 with value: 0.9997414376032349.\n"
          ]
        },
        {
          "name": "stderr",
          "output_type": "stream",
          "text": [
            "2025-07-13 17:36:52,647 - INFO - RandomForest-onehot Mean AUC: 0.9997\n",
            "Best trial: 0. Best value: 0.999741:  15%|█▌        | 3/20 [00:04<00:22,  1.33s/it, 4.26/1200 seconds]"
          ]
        },
        {
          "name": "stdout",
          "output_type": "stream",
          "text": [
            "[I 2025-07-13 17:36:52,649] Trial 2 finished with value: 0.9996908114458368 and parameters: {'n_estimators': 123, 'max_depth': 18, 'min_samples_split': 10}. Best is trial 0 with value: 0.9997414376032349.\n"
          ]
        },
        {
          "name": "stderr",
          "output_type": "stream",
          "text": [
            "2025-07-13 17:36:54,405 - INFO - RandomForest-onehot Mean AUC: 0.9920\n",
            "Best trial: 0. Best value: 0.999741:  20%|██        | 4/20 [00:06<00:23,  1.50s/it, 6.01/1200 seconds]"
          ]
        },
        {
          "name": "stdout",
          "output_type": "stream",
          "text": [
            "[I 2025-07-13 17:36:54,407] Trial 3 finished with value: 0.9920424193581487 and parameters: {'n_estimators': 383, 'max_depth': 5, 'min_samples_split': 15}. Best is trial 0 with value: 0.9997414376032349.\n"
          ]
        },
        {
          "name": "stderr",
          "output_type": "stream",
          "text": [
            "2025-07-13 17:36:56,616 - INFO - RandomForest-onehot Mean AUC: 0.9977\n",
            "Best trial: 0. Best value: 0.999741:  25%|██▌       | 5/20 [00:08<00:26,  1.76s/it, 8.23/1200 seconds]"
          ]
        },
        {
          "name": "stdout",
          "output_type": "stream",
          "text": [
            "[I 2025-07-13 17:36:56,620] Trial 4 finished with value: 0.9976723975786864 and parameters: {'n_estimators': 433, 'max_depth': 8, 'min_samples_split': 4}. Best is trial 0 with value: 0.9997414376032349.\n"
          ]
        },
        {
          "name": "stderr",
          "output_type": "stream",
          "text": [
            "2025-07-13 17:36:57,719 - INFO - RandomForest-onehot Mean AUC: 0.9983\n",
            "Best trial: 0. Best value: 0.999741:  30%|███       | 6/20 [00:09<00:21,  1.53s/it, 9.33/1200 seconds]"
          ]
        },
        {
          "name": "stdout",
          "output_type": "stream",
          "text": [
            "[I 2025-07-13 17:36:57,722] Trial 5 finished with value: 0.9982672811519069 and parameters: {'n_estimators': 173, 'max_depth': 9, 'min_samples_split': 9}. Best is trial 0 with value: 0.9997414376032349.\n"
          ]
        },
        {
          "name": "stderr",
          "output_type": "stream",
          "text": [
            "2025-07-13 17:36:59,133 - INFO - RandomForest-onehot Mean AUC: 0.9981\n",
            "Best trial: 0. Best value: 0.999741:  35%|███▌      | 7/20 [00:10<00:19,  1.49s/it, 10.74/1200 seconds]"
          ]
        },
        {
          "name": "stdout",
          "output_type": "stream",
          "text": [
            "[I 2025-07-13 17:36:59,135] Trial 6 finished with value: 0.9981309263626921 and parameters: {'n_estimators': 273, 'max_depth': 9, 'min_samples_split': 10}. Best is trial 0 with value: 0.9997414376032349.\n"
          ]
        },
        {
          "name": "stderr",
          "output_type": "stream",
          "text": [
            "2025-07-13 17:37:00,133 - INFO - RandomForest-onehot Mean AUC: 0.9983\n",
            "Best trial: 0. Best value: 0.999741:  40%|████      | 8/20 [00:11<00:16,  1.34s/it, 11.74/1200 seconds]"
          ]
        },
        {
          "name": "stdout",
          "output_type": "stream",
          "text": [
            "[I 2025-07-13 17:37:00,135] Trial 7 finished with value: 0.9982620603322453 and parameters: {'n_estimators': 155, 'max_depth': 9, 'min_samples_split': 7}. Best is trial 0 with value: 0.9997414376032349.\n"
          ]
        },
        {
          "name": "stderr",
          "output_type": "stream",
          "text": [
            "2025-07-13 17:37:01,770 - INFO - RandomForest-onehot Mean AUC: 0.9997\n",
            "Best trial: 0. Best value: 0.999741:  45%|████▌     | 9/20 [00:13<00:15,  1.43s/it, 13.38/1200 seconds]"
          ]
        },
        {
          "name": "stdout",
          "output_type": "stream",
          "text": [
            "[I 2025-07-13 17:37:01,773] Trial 8 finished with value: 0.9996581846945398 and parameters: {'n_estimators': 282, 'max_depth': 17, 'min_samples_split': 4}. Best is trial 0 with value: 0.9997414376032349.\n"
          ]
        },
        {
          "name": "stderr",
          "output_type": "stream",
          "text": [
            "2025-07-13 17:37:03,509 - INFO - RandomForest-onehot Mean AUC: 0.9995\n",
            "Best trial: 0. Best value: 0.999741:  50%|█████     | 10/20 [00:15<00:15,  1.53s/it, 15.12/1200 seconds]"
          ]
        },
        {
          "name": "stdout",
          "output_type": "stream",
          "text": [
            "[I 2025-07-13 17:37:03,513] Trial 9 finished with value: 0.9994680843938083 and parameters: {'n_estimators': 306, 'max_depth': 14, 'min_samples_split': 2}. Best is trial 0 with value: 0.9997414376032349.\n"
          ]
        },
        {
          "name": "stderr",
          "output_type": "stream",
          "text": [
            "2025-07-13 17:37:04,832 - INFO - RandomForest-onehot Mean AUC: 0.9996\n",
            "Best trial: 0. Best value: 0.999741:  55%|█████▌    | 11/20 [00:16<00:13,  1.46s/it, 16.44/1200 seconds]"
          ]
        },
        {
          "name": "stdout",
          "output_type": "stream",
          "text": [
            "[I 2025-07-13 17:37:04,835] Trial 10 finished with value: 0.999590903979383 and parameters: {'n_estimators': 224, 'max_depth': 15, 'min_samples_split': 14}. Best is trial 0 with value: 0.9997414376032349.\n"
          ]
        },
        {
          "name": "stderr",
          "output_type": "stream",
          "text": [
            "2025-07-13 17:37:05,707 - INFO - RandomForest-onehot Mean AUC: 0.9996\n",
            "Best trial: 0. Best value: 0.999741:  60%|██████    | 12/20 [00:17<00:10,  1.28s/it, 17.32/1200 seconds]"
          ]
        },
        {
          "name": "stdout",
          "output_type": "stream",
          "text": [
            "[I 2025-07-13 17:37:05,709] Trial 11 finished with value: 0.9996094824471639 and parameters: {'n_estimators': 103, 'max_depth': 20, 'min_samples_split': 12}. Best is trial 0 with value: 0.9997414376032349.\n"
          ]
        },
        {
          "name": "stderr",
          "output_type": "stream",
          "text": [
            "2025-07-13 17:37:07,793 - INFO - RandomForest-onehot Mean AUC: 0.9998\n",
            "Best trial: 12. Best value: 0.999814:  65%|██████▌   | 13/20 [00:19<00:10,  1.53s/it, 19.41/1200 seconds]"
          ]
        },
        {
          "name": "stdout",
          "output_type": "stream",
          "text": [
            "[I 2025-07-13 17:37:07,797] Trial 12 finished with value: 0.9998139742151606 and parameters: {'n_estimators': 206, 'max_depth': 20, 'min_samples_split': 12}. Best is trial 12 with value: 0.9998139742151606.\n"
          ]
        },
        {
          "name": "stderr",
          "output_type": "stream",
          "text": [
            "2025-07-13 17:37:10,789 - INFO - RandomForest-onehot Mean AUC: 0.9998\n",
            "Best trial: 12. Best value: 0.999814:  70%|███████   | 14/20 [00:22<00:11,  1.97s/it, 22.40/1200 seconds]"
          ]
        },
        {
          "name": "stdout",
          "output_type": "stream",
          "text": [
            "[I 2025-07-13 17:37:10,793] Trial 13 finished with value: 0.9997846207558361 and parameters: {'n_estimators': 229, 'max_depth': 20, 'min_samples_split': 12}. Best is trial 12 with value: 0.9998139742151606.\n"
          ]
        },
        {
          "name": "stderr",
          "output_type": "stream",
          "text": [
            "2025-07-13 17:37:13,270 - INFO - RandomForest-onehot Mean AUC: 0.9993\n",
            "Best trial: 12. Best value: 0.999814:  75%|███████▌  | 15/20 [00:24<00:10,  2.13s/it, 24.88/1200 seconds]"
          ]
        },
        {
          "name": "stdout",
          "output_type": "stream",
          "text": [
            "[I 2025-07-13 17:37:13,274] Trial 14 finished with value: 0.999266626531759 and parameters: {'n_estimators': 196, 'max_depth': 12, 'min_samples_split': 13}. Best is trial 12 with value: 0.9998139742151606.\n"
          ]
        },
        {
          "name": "stderr",
          "output_type": "stream",
          "text": [
            "2025-07-13 17:37:18,551 - INFO - RandomForest-onehot Mean AUC: 0.9998\n",
            "Best trial: 12. Best value: 0.999814:  80%|████████  | 16/20 [00:30<00:12,  3.08s/it, 30.17/1200 seconds]"
          ]
        },
        {
          "name": "stdout",
          "output_type": "stream",
          "text": [
            "[I 2025-07-13 17:37:18,559] Trial 15 finished with value: 0.9997917499057132 and parameters: {'n_estimators': 475, 'max_depth': 18, 'min_samples_split': 7}. Best is trial 12 with value: 0.9998139742151606.\n"
          ]
        },
        {
          "name": "stderr",
          "output_type": "stream",
          "text": [
            "2025-07-13 17:37:24,045 - INFO - RandomForest-onehot Mean AUC: 0.9997\n",
            "Best trial: 12. Best value: 0.999814:  85%|████████▌ | 17/20 [00:35<00:11,  3.80s/it, 35.66/1200 seconds]"
          ]
        },
        {
          "name": "stdout",
          "output_type": "stream",
          "text": [
            "[I 2025-07-13 17:37:24,052] Trial 16 finished with value: 0.9996936794517626 and parameters: {'n_estimators': 476, 'max_depth': 17, 'min_samples_split': 7}. Best is trial 12 with value: 0.9998139742151606.\n"
          ]
        },
        {
          "name": "stderr",
          "output_type": "stream",
          "text": [
            "2025-07-13 17:37:28,265 - INFO - RandomForest-onehot Mean AUC: 0.9991\n",
            "Best trial: 12. Best value: 0.999814:  90%|█████████ | 18/20 [00:39<00:07,  3.93s/it, 39.88/1200 seconds]"
          ]
        },
        {
          "name": "stdout",
          "output_type": "stream",
          "text": [
            "[I 2025-07-13 17:37:28,270] Trial 17 finished with value: 0.9990601542845106 and parameters: {'n_estimators': 376, 'max_depth': 12, 'min_samples_split': 7}. Best is trial 12 with value: 0.9998139742151606.\n"
          ]
        },
        {
          "name": "stderr",
          "output_type": "stream",
          "text": [
            "2025-07-13 17:37:33,728 - INFO - RandomForest-onehot Mean AUC: 0.9998\n",
            "Best trial: 12. Best value: 0.999814:  95%|█████████▌| 19/20 [00:45<00:04,  4.39s/it, 45.34/1200 seconds]"
          ]
        },
        {
          "name": "stdout",
          "output_type": "stream",
          "text": [
            "[I 2025-07-13 17:37:33,731] Trial 18 finished with value: 0.9997639103286052 and parameters: {'n_estimators': 494, 'max_depth': 18, 'min_samples_split': 9}. Best is trial 12 with value: 0.9998139742151606.\n"
          ]
        },
        {
          "name": "stderr",
          "output_type": "stream",
          "text": [
            "2025-07-13 17:37:38,738 - INFO - RandomForest-onehot Mean AUC: 0.9996\n",
            "Best trial: 12. Best value: 0.999814: 100%|██████████| 20/20 [00:50<00:00,  2.52s/it, 50.35/1200 seconds]\n"
          ]
        },
        {
          "name": "stdout",
          "output_type": "stream",
          "text": [
            "[I 2025-07-13 17:37:38,741] Trial 19 finished with value: 0.999606838477974 and parameters: {'n_estimators': 450, 'max_depth': 15, 'min_samples_split': 6}. Best is trial 12 with value: 0.9998139742151606.\n"
          ]
        },
        {
          "name": "stderr",
          "output_type": "stream",
          "text": [
            "2025-07-13 17:37:40,106 - INFO - RandomForest_onehot | Test AUC: nan\n",
            "2025-07-13 17:37:40,754 - INFO - \n",
            "==================================================\n",
            "2025-07-13 17:37:40,755 - INFO - Optimizing RandomForest_target\n",
            "2025-07-13 17:37:40,756 - INFO - ==================================================\n",
            "[I 2025-07-13 17:37:40,757] A new study created in memory with name: no-name-bc5463ba-d87f-4645-8b9d-023d0916b955\n",
            "  0%|          | 0/20 [00:00<?, ?it/s]2025-07-13 17:37:43,424 - INFO - RandomForest-target Mean AUC: 1.0000\n",
            "Best trial: 0. Best value: 1:   5%|▌         | 1/20 [00:02<00:50,  2.67s/it, 2.67/1200 seconds]"
          ]
        },
        {
          "name": "stdout",
          "output_type": "stream",
          "text": [
            "[I 2025-07-13 17:37:43,425] Trial 0 finished with value: 1.0 and parameters: {'n_estimators': 250, 'max_depth': 20, 'min_samples_split': 12}. Best is trial 0 with value: 1.0.\n"
          ]
        },
        {
          "name": "stderr",
          "output_type": "stream",
          "text": [
            "2025-07-13 17:37:46,591 - INFO - RandomForest-target Mean AUC: 1.0000\n",
            "Best trial: 0. Best value: 1:  10%|█         | 2/20 [00:05<00:53,  2.96s/it, 5.84/1200 seconds]"
          ]
        },
        {
          "name": "stdout",
          "output_type": "stream",
          "text": [
            "[I 2025-07-13 17:37:46,593] Trial 1 finished with value: 0.9999849387846992 and parameters: {'n_estimators': 340, 'max_depth': 7, 'min_samples_split': 4}. Best is trial 0 with value: 1.0.\n"
          ]
        },
        {
          "name": "stderr",
          "output_type": "stream",
          "text": [
            "2025-07-13 17:37:48,406 - INFO - RandomForest-target Mean AUC: 1.0000\n",
            "Best trial: 0. Best value: 1:  15%|█▌        | 3/20 [00:07<00:41,  2.44s/it, 7.65/1200 seconds]"
          ]
        },
        {
          "name": "stdout",
          "output_type": "stream",
          "text": [
            "[I 2025-07-13 17:37:48,408] Trial 2 finished with value: 0.9999994773627515 and parameters: {'n_estimators': 123, 'max_depth': 18, 'min_samples_split': 10}. Best is trial 0 with value: 1.0.\n"
          ]
        },
        {
          "name": "stderr",
          "output_type": "stream",
          "text": [
            "2025-07-13 17:37:51,755 - INFO - RandomForest-target Mean AUC: 0.9999\n",
            "Best trial: 0. Best value: 1:  20%|██        | 4/20 [00:11<00:44,  2.80s/it, 11.00/1200 seconds]"
          ]
        },
        {
          "name": "stdout",
          "output_type": "stream",
          "text": [
            "[I 2025-07-13 17:37:51,757] Trial 3 finished with value: 0.9998792707786034 and parameters: {'n_estimators': 383, 'max_depth': 5, 'min_samples_split': 15}. Best is trial 0 with value: 1.0.\n"
          ]
        },
        {
          "name": "stderr",
          "output_type": "stream",
          "text": [
            "2025-07-13 17:37:55,530 - INFO - RandomForest-target Mean AUC: 1.0000\n",
            "Best trial: 0. Best value: 1:  25%|██▌       | 5/20 [00:14<00:47,  3.15s/it, 14.78/1200 seconds]"
          ]
        },
        {
          "name": "stdout",
          "output_type": "stream",
          "text": [
            "[I 2025-07-13 17:37:55,535] Trial 4 finished with value: 1.0 and parameters: {'n_estimators': 433, 'max_depth': 8, 'min_samples_split': 4}. Best is trial 0 with value: 1.0.\n"
          ]
        },
        {
          "name": "stderr",
          "output_type": "stream",
          "text": [
            "2025-07-13 17:37:57,739 - INFO - RandomForest-target Mean AUC: 1.0000\n",
            "Best trial: 0. Best value: 1:  30%|███       | 6/20 [00:16<00:39,  2.83s/it, 16.98/1200 seconds]"
          ]
        },
        {
          "name": "stdout",
          "output_type": "stream",
          "text": [
            "[I 2025-07-13 17:37:57,740] Trial 5 finished with value: 1.0 and parameters: {'n_estimators': 173, 'max_depth': 9, 'min_samples_split': 9}. Best is trial 0 with value: 1.0.\n"
          ]
        },
        {
          "name": "stderr",
          "output_type": "stream",
          "text": [
            "2025-07-13 17:38:00,511 - INFO - RandomForest-target Mean AUC: 1.0000\n",
            "Best trial: 0. Best value: 1:  35%|███▌      | 7/20 [00:19<00:36,  2.81s/it, 19.76/1200 seconds]"
          ]
        },
        {
          "name": "stdout",
          "output_type": "stream",
          "text": [
            "[I 2025-07-13 17:38:00,514] Trial 6 finished with value: 1.0 and parameters: {'n_estimators': 273, 'max_depth': 9, 'min_samples_split': 10}. Best is trial 0 with value: 1.0.\n"
          ]
        },
        {
          "name": "stderr",
          "output_type": "stream",
          "text": [
            "2025-07-13 17:38:02,523 - INFO - RandomForest-target Mean AUC: 1.0000\n",
            "Best trial: 0. Best value: 1:  40%|████      | 8/20 [00:21<00:30,  2.56s/it, 21.77/1200 seconds]"
          ]
        },
        {
          "name": "stdout",
          "output_type": "stream",
          "text": [
            "[I 2025-07-13 17:38:02,525] Trial 7 finished with value: 0.9999937283530186 and parameters: {'n_estimators': 155, 'max_depth': 9, 'min_samples_split': 7}. Best is trial 0 with value: 1.0.\n"
          ]
        },
        {
          "name": "stderr",
          "output_type": "stream",
          "text": [
            "2025-07-13 17:38:05,371 - INFO - RandomForest-target Mean AUC: 1.0000\n",
            "Best trial: 0. Best value: 1:  45%|████▌     | 9/20 [00:24<00:29,  2.65s/it, 24.62/1200 seconds]"
          ]
        },
        {
          "name": "stdout",
          "output_type": "stream",
          "text": [
            "[I 2025-07-13 17:38:05,375] Trial 8 finished with value: 1.0 and parameters: {'n_estimators': 282, 'max_depth': 17, 'min_samples_split': 4}. Best is trial 0 with value: 1.0.\n"
          ]
        },
        {
          "name": "stderr",
          "output_type": "stream",
          "text": [
            "2025-07-13 17:38:08,389 - INFO - RandomForest-target Mean AUC: 1.0000\n",
            "Best trial: 0. Best value: 1:  50%|█████     | 10/20 [00:27<00:27,  2.76s/it, 27.64/1200 seconds]"
          ]
        },
        {
          "name": "stdout",
          "output_type": "stream",
          "text": [
            "[I 2025-07-13 17:38:08,391] Trial 9 finished with value: 1.0 and parameters: {'n_estimators': 306, 'max_depth': 14, 'min_samples_split': 2}. Best is trial 0 with value: 1.0.\n"
          ]
        },
        {
          "name": "stderr",
          "output_type": "stream",
          "text": [
            "2025-07-13 17:38:11,037 - INFO - RandomForest-target Mean AUC: 1.0000\n",
            "Best trial: 0. Best value: 1:  55%|█████▌    | 11/20 [00:30<00:24,  2.73s/it, 30.28/1200 seconds]"
          ]
        },
        {
          "name": "stdout",
          "output_type": "stream",
          "text": [
            "[I 2025-07-13 17:38:11,041] Trial 10 finished with value: 1.0 and parameters: {'n_estimators': 224, 'max_depth': 15, 'min_samples_split': 14}. Best is trial 0 with value: 1.0.\n"
          ]
        },
        {
          "name": "stderr",
          "output_type": "stream",
          "text": [
            "2025-07-13 17:38:15,254 - INFO - RandomForest-target Mean AUC: 1.0000\n",
            "Best trial: 0. Best value: 1:  60%|██████    | 12/20 [00:34<00:25,  3.18s/it, 34.50/1200 seconds]"
          ]
        },
        {
          "name": "stdout",
          "output_type": "stream",
          "text": [
            "[I 2025-07-13 17:38:15,258] Trial 11 finished with value: 1.0 and parameters: {'n_estimators': 473, 'max_depth': 20, 'min_samples_split': 12}. Best is trial 0 with value: 1.0.\n"
          ]
        },
        {
          "name": "stderr",
          "output_type": "stream",
          "text": [
            "2025-07-13 17:38:19,638 - INFO - RandomForest-target Mean AUC: 1.0000\n",
            "Best trial: 0. Best value: 1:  65%|██████▌   | 13/20 [00:38<00:24,  3.55s/it, 38.89/1200 seconds]"
          ]
        },
        {
          "name": "stdout",
          "output_type": "stream",
          "text": [
            "[I 2025-07-13 17:38:19,642] Trial 12 finished with value: 1.0 and parameters: {'n_estimators': 491, 'max_depth': 11, 'min_samples_split': 7}. Best is trial 0 with value: 1.0.\n"
          ]
        },
        {
          "name": "stderr",
          "output_type": "stream",
          "text": [
            "2025-07-13 17:38:23,322 - INFO - RandomForest-target Mean AUC: 1.0000\n",
            "Best trial: 0. Best value: 1:  70%|███████   | 14/20 [00:42<00:21,  3.59s/it, 42.57/1200 seconds]"
          ]
        },
        {
          "name": "stdout",
          "output_type": "stream",
          "text": [
            "[I 2025-07-13 17:38:23,324] Trial 13 finished with value: 1.0 and parameters: {'n_estimators': 396, 'max_depth': 13, 'min_samples_split': 12}. Best is trial 0 with value: 1.0.\n"
          ]
        },
        {
          "name": "stderr",
          "output_type": "stream",
          "text": [
            "2025-07-13 17:38:27,397 - INFO - RandomForest-target Mean AUC: 0.9999\n",
            "Best trial: 0. Best value: 1:  75%|███████▌  | 15/20 [00:46<00:18,  3.73s/it, 46.64/1200 seconds]"
          ]
        },
        {
          "name": "stdout",
          "output_type": "stream",
          "text": [
            "[I 2025-07-13 17:38:27,400] Trial 14 finished with value: 0.9998624621467905 and parameters: {'n_estimators': 420, 'max_depth': 5, 'min_samples_split': 6}. Best is trial 0 with value: 1.0.\n"
          ]
        },
        {
          "name": "stderr",
          "output_type": "stream",
          "text": [
            "2025-07-13 17:38:30,178 - INFO - RandomForest-target Mean AUC: 1.0000\n",
            "Best trial: 0. Best value: 1:  80%|████████  | 16/20 [00:49<00:13,  3.45s/it, 49.42/1200 seconds]"
          ]
        },
        {
          "name": "stdout",
          "output_type": "stream",
          "text": [
            "[I 2025-07-13 17:38:30,181] Trial 15 finished with value: 1.0 and parameters: {'n_estimators': 227, 'max_depth': 11, 'min_samples_split': 12}. Best is trial 0 with value: 1.0.\n"
          ]
        },
        {
          "name": "stderr",
          "output_type": "stream",
          "text": [
            "2025-07-13 17:38:33,548 - INFO - RandomForest-target Mean AUC: 1.0000\n",
            "Best trial: 0. Best value: 1:  85%|████████▌ | 17/20 [00:52<00:10,  3.42s/it, 52.80/1200 seconds]"
          ]
        },
        {
          "name": "stdout",
          "output_type": "stream",
          "text": [
            "[I 2025-07-13 17:38:33,552] Trial 16 finished with value: 1.0 and parameters: {'n_estimators': 344, 'max_depth': 20, 'min_samples_split': 3}. Best is trial 0 with value: 1.0.\n"
          ]
        },
        {
          "name": "stderr",
          "output_type": "stream",
          "text": [
            "2025-07-13 17:38:37,605 - INFO - RandomForest-target Mean AUC: 1.0000\n",
            "Best trial: 0. Best value: 1:  90%|█████████ | 18/20 [00:56<00:07,  3.62s/it, 56.85/1200 seconds]"
          ]
        },
        {
          "name": "stdout",
          "output_type": "stream",
          "text": [
            "[I 2025-07-13 17:38:37,610] Trial 17 finished with value: 1.0 and parameters: {'n_estimators': 446, 'max_depth': 16, 'min_samples_split': 5}. Best is trial 0 with value: 1.0.\n"
          ]
        },
        {
          "name": "stderr",
          "output_type": "stream",
          "text": [
            "2025-07-13 17:38:40,116 - INFO - RandomForest-target Mean AUC: 1.0000\n",
            "Best trial: 0. Best value: 1:  95%|█████████▌| 19/20 [00:59<00:03,  3.28s/it, 59.36/1200 seconds]"
          ]
        },
        {
          "name": "stdout",
          "output_type": "stream",
          "text": [
            "[I 2025-07-13 17:38:40,118] Trial 18 finished with value: 1.0 and parameters: {'n_estimators': 221, 'max_depth': 11, 'min_samples_split': 8}. Best is trial 0 with value: 1.0.\n"
          ]
        },
        {
          "name": "stderr",
          "output_type": "stream",
          "text": [
            "2025-07-13 17:38:43,504 - INFO - RandomForest-target Mean AUC: 1.0000\n",
            "Best trial: 0. Best value: 1: 100%|██████████| 20/20 [01:02<00:00,  3.14s/it, 62.75/1200 seconds]\n"
          ]
        },
        {
          "name": "stdout",
          "output_type": "stream",
          "text": [
            "[I 2025-07-13 17:38:43,506] Trial 19 finished with value: 0.9999968641765092 and parameters: {'n_estimators': 358, 'max_depth': 7, 'min_samples_split': 13}. Best is trial 0 with value: 1.0.\n"
          ]
        },
        {
          "name": "stderr",
          "output_type": "stream",
          "text": [
            "2025-07-13 17:38:44,555 - INFO - RandomForest_target | Test AUC: nan\n",
            "2025-07-13 17:38:45,073 - INFO - \n",
            "==================================================\n",
            "2025-07-13 17:38:45,074 - INFO - Optimizing RandomForest_catboost_enc\n",
            "2025-07-13 17:38:45,075 - INFO - ==================================================\n",
            "[I 2025-07-13 17:38:45,076] A new study created in memory with name: no-name-07a112ad-40ea-4188-b345-2c79549a9226\n",
            "  0%|          | 0/20 [00:00<?, ?it/s]2025-07-13 17:38:49,691 - INFO - RandomForest-catboost_enc Mean AUC: 0.9353\n",
            "Best trial: 0. Best value: 0.935321:   5%|▌         | 1/20 [00:04<01:27,  4.62s/it, 4.62/1200 seconds]"
          ]
        },
        {
          "name": "stdout",
          "output_type": "stream",
          "text": [
            "[I 2025-07-13 17:38:49,697] Trial 0 finished with value: 0.9353214310291715 and parameters: {'n_estimators': 250, 'max_depth': 20, 'min_samples_split': 12}. Best is trial 0 with value: 0.9353214310291715.\n"
          ]
        },
        {
          "name": "stderr",
          "output_type": "stream",
          "text": [
            "2025-07-13 17:38:54,509 - INFO - RandomForest-catboost_enc Mean AUC: 0.9270\n",
            "Best trial: 0. Best value: 0.935321:  10%|█         | 2/20 [00:09<01:25,  4.74s/it, 9.44/1200 seconds]"
          ]
        },
        {
          "name": "stdout",
          "output_type": "stream",
          "text": [
            "[I 2025-07-13 17:38:54,513] Trial 1 finished with value: 0.9269516016814837 and parameters: {'n_estimators': 340, 'max_depth': 7, 'min_samples_split': 4}. Best is trial 0 with value: 0.9353214310291715.\n"
          ]
        },
        {
          "name": "stderr",
          "output_type": "stream",
          "text": [
            "2025-07-13 17:38:57,452 - INFO - RandomForest-catboost_enc Mean AUC: 0.9346\n",
            "Best trial: 0. Best value: 0.935321:  15%|█▌        | 3/20 [00:12<01:06,  3.92s/it, 12.38/1200 seconds]"
          ]
        },
        {
          "name": "stdout",
          "output_type": "stream",
          "text": [
            "[I 2025-07-13 17:38:57,454] Trial 2 finished with value: 0.9345822888823833 and parameters: {'n_estimators': 123, 'max_depth': 18, 'min_samples_split': 10}. Best is trial 0 with value: 0.9353214310291715.\n"
          ]
        },
        {
          "name": "stderr",
          "output_type": "stream",
          "text": [
            "2025-07-13 17:39:02,152 - INFO - RandomForest-catboost_enc Mean AUC: 0.9131\n",
            "Best trial: 0. Best value: 0.935321:  20%|██        | 4/20 [00:17<01:07,  4.23s/it, 17.08/1200 seconds]"
          ]
        },
        {
          "name": "stdout",
          "output_type": "stream",
          "text": [
            "[I 2025-07-13 17:39:02,155] Trial 3 finished with value: 0.9130840503244064 and parameters: {'n_estimators': 383, 'max_depth': 5, 'min_samples_split': 15}. Best is trial 0 with value: 0.9353214310291715.\n"
          ]
        },
        {
          "name": "stderr",
          "output_type": "stream",
          "text": [
            "2025-07-13 17:39:08,521 - INFO - RandomForest-catboost_enc Mean AUC: 0.9309\n",
            "Best trial: 0. Best value: 0.935321:  25%|██▌       | 5/20 [00:23<01:14,  5.00s/it, 23.45/1200 seconds]"
          ]
        },
        {
          "name": "stdout",
          "output_type": "stream",
          "text": [
            "[I 2025-07-13 17:39:08,524] Trial 4 finished with value: 0.9308638101125051 and parameters: {'n_estimators': 433, 'max_depth': 8, 'min_samples_split': 4}. Best is trial 0 with value: 0.9353214310291715.\n"
          ]
        },
        {
          "name": "stderr",
          "output_type": "stream",
          "text": [
            "2025-07-13 17:39:10,656 - INFO - RandomForest-catboost_enc Mean AUC: 0.9331\n",
            "Best trial: 0. Best value: 0.935321:  30%|███       | 6/20 [00:25<00:56,  4.02s/it, 25.58/1200 seconds]"
          ]
        },
        {
          "name": "stdout",
          "output_type": "stream",
          "text": [
            "[I 2025-07-13 17:39:10,657] Trial 5 finished with value: 0.9331086002985548 and parameters: {'n_estimators': 173, 'max_depth': 9, 'min_samples_split': 9}. Best is trial 0 with value: 0.9353214310291715.\n"
          ]
        },
        {
          "name": "stderr",
          "output_type": "stream",
          "text": [
            "2025-07-13 17:39:12,364 - INFO - RandomForest-catboost_enc Mean AUC: 0.9322\n",
            "Best trial: 0. Best value: 0.935321:  35%|███▌      | 7/20 [00:27<00:42,  3.27s/it, 27.29/1200 seconds]"
          ]
        },
        {
          "name": "stdout",
          "output_type": "stream",
          "text": [
            "[I 2025-07-13 17:39:12,366] Trial 6 finished with value: 0.9322487381600605 and parameters: {'n_estimators': 273, 'max_depth': 9, 'min_samples_split': 10}. Best is trial 0 with value: 0.9353214310291715.\n"
          ]
        },
        {
          "name": "stderr",
          "output_type": "stream",
          "text": [
            "2025-07-13 17:39:13,554 - INFO - RandomForest-catboost_enc Mean AUC: 0.9311\n",
            "Best trial: 0. Best value: 0.935321:  40%|████      | 8/20 [00:28<00:31,  2.61s/it, 28.48/1200 seconds]"
          ]
        },
        {
          "name": "stdout",
          "output_type": "stream",
          "text": [
            "[I 2025-07-13 17:39:13,555] Trial 7 finished with value: 0.9310990755296426 and parameters: {'n_estimators': 155, 'max_depth': 9, 'min_samples_split': 7}. Best is trial 0 with value: 0.9353214310291715.\n"
          ]
        },
        {
          "name": "stderr",
          "output_type": "stream",
          "text": [
            "2025-07-13 17:39:15,440 - INFO - RandomForest-catboost_enc Mean AUC: 0.9337\n",
            "Best trial: 0. Best value: 0.935321:  45%|████▌     | 9/20 [00:30<00:26,  2.38s/it, 30.37/1200 seconds]"
          ]
        },
        {
          "name": "stdout",
          "output_type": "stream",
          "text": [
            "[I 2025-07-13 17:39:15,445] Trial 8 finished with value: 0.9336725350390384 and parameters: {'n_estimators': 282, 'max_depth': 17, 'min_samples_split': 4}. Best is trial 0 with value: 0.9353214310291715.\n"
          ]
        },
        {
          "name": "stderr",
          "output_type": "stream",
          "text": [
            "2025-07-13 17:39:17,377 - INFO - RandomForest-catboost_enc Mean AUC: 0.9339\n",
            "Best trial: 0. Best value: 0.935321:  50%|█████     | 10/20 [00:32<00:22,  2.24s/it, 32.30/1200 seconds]"
          ]
        },
        {
          "name": "stdout",
          "output_type": "stream",
          "text": [
            "[I 2025-07-13 17:39:17,380] Trial 9 finished with value: 0.9339261683413533 and parameters: {'n_estimators': 306, 'max_depth': 14, 'min_samples_split': 2}. Best is trial 0 with value: 0.9353214310291715.\n"
          ]
        },
        {
          "name": "stderr",
          "output_type": "stream",
          "text": [
            "2025-07-13 17:39:18,903 - INFO - RandomForest-catboost_enc Mean AUC: 0.9340\n",
            "Best trial: 0. Best value: 0.935321:  55%|█████▌    | 11/20 [00:33<00:18,  2.02s/it, 33.83/1200 seconds]"
          ]
        },
        {
          "name": "stdout",
          "output_type": "stream",
          "text": [
            "[I 2025-07-13 17:39:18,904] Trial 10 finished with value: 0.9339604547070949 and parameters: {'n_estimators': 224, 'max_depth': 15, 'min_samples_split': 14}. Best is trial 0 with value: 0.9353214310291715.\n"
          ]
        },
        {
          "name": "stderr",
          "output_type": "stream",
          "text": [
            "2025-07-13 17:39:19,895 - INFO - RandomForest-catboost_enc Mean AUC: 0.9344\n",
            "Best trial: 0. Best value: 0.935321:  60%|██████    | 12/20 [00:34<00:13,  1.71s/it, 34.82/1200 seconds]"
          ]
        },
        {
          "name": "stdout",
          "output_type": "stream",
          "text": [
            "[I 2025-07-13 17:39:19,896] Trial 11 finished with value: 0.9343861721899399 and parameters: {'n_estimators': 103, 'max_depth': 20, 'min_samples_split': 12}. Best is trial 0 with value: 0.9353214310291715.\n"
          ]
        },
        {
          "name": "stderr",
          "output_type": "stream",
          "text": [
            "2025-07-13 17:39:21,387 - INFO - RandomForest-catboost_enc Mean AUC: 0.9355\n",
            "Best trial: 12. Best value: 0.935485:  65%|██████▌   | 13/20 [00:36<00:11,  1.64s/it, 36.31/1200 seconds]"
          ]
        },
        {
          "name": "stdout",
          "output_type": "stream",
          "text": [
            "[I 2025-07-13 17:39:21,389] Trial 12 finished with value: 0.9354854452314098 and parameters: {'n_estimators': 206, 'max_depth': 20, 'min_samples_split': 12}. Best is trial 12 with value: 0.9354854452314098.\n"
          ]
        },
        {
          "name": "stderr",
          "output_type": "stream",
          "text": [
            "2025-07-13 17:39:22,951 - INFO - RandomForest-catboost_enc Mean AUC: 0.9345\n",
            "Best trial: 12. Best value: 0.935485:  70%|███████   | 14/20 [00:37<00:09,  1.62s/it, 37.87/1200 seconds]"
          ]
        },
        {
          "name": "stdout",
          "output_type": "stream",
          "text": [
            "[I 2025-07-13 17:39:22,952] Trial 13 finished with value: 0.9344686947810037 and parameters: {'n_estimators': 229, 'max_depth': 20, 'min_samples_split': 12}. Best is trial 12 with value: 0.9354854452314098.\n"
          ]
        },
        {
          "name": "stderr",
          "output_type": "stream",
          "text": [
            "2025-07-13 17:39:24,428 - INFO - RandomForest-catboost_enc Mean AUC: 0.9343\n",
            "Best trial: 12. Best value: 0.935485:  75%|███████▌  | 15/20 [00:39<00:07,  1.58s/it, 39.35/1200 seconds]"
          ]
        },
        {
          "name": "stdout",
          "output_type": "stream",
          "text": [
            "[I 2025-07-13 17:39:24,430] Trial 14 finished with value: 0.9342972166241515 and parameters: {'n_estimators': 214, 'max_depth': 12, 'min_samples_split': 13}. Best is trial 12 with value: 0.9354854452314098.\n"
          ]
        },
        {
          "name": "stderr",
          "output_type": "stream",
          "text": [
            "2025-07-13 17:39:27,012 - INFO - RandomForest-catboost_enc Mean AUC: 0.9345\n",
            "Best trial: 12. Best value: 0.935485:  80%|████████  | 16/20 [00:41<00:07,  1.88s/it, 41.94/1200 seconds]"
          ]
        },
        {
          "name": "stdout",
          "output_type": "stream",
          "text": [
            "[I 2025-07-13 17:39:27,017] Trial 15 finished with value: 0.934514335308685 and parameters: {'n_estimators': 475, 'max_depth': 18, 'min_samples_split': 7}. Best is trial 12 with value: 0.9354854452314098.\n"
          ]
        },
        {
          "name": "stderr",
          "output_type": "stream",
          "text": [
            "2025-07-13 17:39:28,398 - INFO - RandomForest-catboost_enc Mean AUC: 0.9343\n",
            "Best trial: 12. Best value: 0.935485:  85%|████████▌ | 17/20 [00:43<00:05,  1.73s/it, 43.32/1200 seconds]"
          ]
        },
        {
          "name": "stdout",
          "output_type": "stream",
          "text": [
            "[I 2025-07-13 17:39:28,399] Trial 16 finished with value: 0.9342546877962112 and parameters: {'n_estimators': 186, 'max_depth': 12, 'min_samples_split': 11}. Best is trial 12 with value: 0.9354854452314098.\n"
          ]
        },
        {
          "name": "stderr",
          "output_type": "stream",
          "text": [
            "2025-07-13 17:39:30,102 - INFO - RandomForest-catboost_enc Mean AUC: 0.9355\n",
            "Best trial: 12. Best value: 0.935485:  90%|█████████ | 18/20 [00:45<00:03,  1.72s/it, 45.03/1200 seconds]"
          ]
        },
        {
          "name": "stdout",
          "output_type": "stream",
          "text": [
            "[I 2025-07-13 17:39:30,103] Trial 17 finished with value: 0.9354514785619726 and parameters: {'n_estimators': 267, 'max_depth': 16, 'min_samples_split': 14}. Best is trial 12 with value: 0.9354854452314098.\n"
          ]
        },
        {
          "name": "stderr",
          "output_type": "stream",
          "text": [
            "2025-07-13 17:39:32,129 - INFO - RandomForest-catboost_enc Mean AUC: 0.9353\n",
            "Best trial: 12. Best value: 0.935485:  95%|█████████▌| 19/20 [00:47<00:01,  1.81s/it, 47.05/1200 seconds]"
          ]
        },
        {
          "name": "stdout",
          "output_type": "stream",
          "text": [
            "[I 2025-07-13 17:39:32,131] Trial 18 finished with value: 0.9352884747849045 and parameters: {'n_estimators': 339, 'max_depth': 16, 'min_samples_split': 15}. Best is trial 12 with value: 0.9354854452314098.\n"
          ]
        },
        {
          "name": "stderr",
          "output_type": "stream",
          "text": [
            "2025-07-13 17:39:34,108 - INFO - RandomForest-catboost_enc Mean AUC: 0.9349\n",
            "Best trial: 12. Best value: 0.935485: 100%|██████████| 20/20 [00:49<00:00,  2.45s/it, 49.03/1200 seconds]\n"
          ]
        },
        {
          "name": "stdout",
          "output_type": "stream",
          "text": [
            "[I 2025-07-13 17:39:34,110] Trial 19 finished with value: 0.9348776075824725 and parameters: {'n_estimators': 321, 'max_depth': 14, 'min_samples_split': 13}. Best is trial 12 with value: 0.9354854452314098.\n"
          ]
        },
        {
          "name": "stderr",
          "output_type": "stream",
          "text": [
            "2025-07-13 17:39:34,718 - INFO - RandomForest_catboost_enc | Test AUC: nan\n",
            "2025-07-13 17:39:34,957 - INFO - \n",
            "==================================================\n",
            "2025-07-13 17:39:34,958 - INFO - Optimizing XGBoost_onehot\n",
            "2025-07-13 17:39:34,958 - INFO - ==================================================\n",
            "[I 2025-07-13 17:39:34,960] A new study created in memory with name: no-name-dc46dd04-9f28-44f8-9767-f22e86ae3ea8\n",
            "  0%|          | 0/20 [00:00<?, ?it/s]2025-07-13 17:39:38,709 - INFO - XGBoost-onehot Mean AUC: 1.0000\n",
            "Best trial: 0. Best value: 1:   5%|▌         | 1/20 [00:03<01:11,  3.75s/it, 3.75/1200 seconds]"
          ]
        },
        {
          "name": "stdout",
          "output_type": "stream",
          "text": [
            "[I 2025-07-13 17:39:38,711] Trial 0 finished with value: 1.0 and parameters: {'n_estimators': 250, 'learning_rate': 0.2536999076681772, 'max_depth': 7, 'subsample': 0.8795975452591109}. Best is trial 0 with value: 1.0.\n"
          ]
        },
        {
          "name": "stderr",
          "output_type": "stream",
          "text": [
            "2025-07-13 17:39:41,535 - INFO - XGBoost-onehot Mean AUC: 1.0000\n",
            "Best trial: 0. Best value: 1:  10%|█         | 2/20 [00:06<00:57,  3.21s/it, 6.58/1200 seconds]"
          ]
        },
        {
          "name": "stdout",
          "output_type": "stream",
          "text": [
            "[I 2025-07-13 17:39:41,537] Trial 1 finished with value: 1.0 and parameters: {'n_estimators': 162, 'learning_rate': 0.01699897838270077, 'max_depth': 3, 'subsample': 0.9598528437324805}. Best is trial 0 with value: 1.0.\n"
          ]
        },
        {
          "name": "stderr",
          "output_type": "stream",
          "text": [
            "2025-07-13 17:39:55,918 - INFO - XGBoost-onehot Mean AUC: 1.0000\n",
            "Best trial: 0. Best value: 1:  15%|█▌        | 3/20 [00:20<02:21,  8.31s/it, 20.96/1200 seconds]"
          ]
        },
        {
          "name": "stdout",
          "output_type": "stream",
          "text": [
            "[I 2025-07-13 17:39:55,920] Trial 2 finished with value: 1.0 and parameters: {'n_estimators': 341, 'learning_rate': 0.11114989443094977, 'max_depth': 3, 'subsample': 0.9909729556485982}. Best is trial 0 with value: 1.0.\n"
          ]
        },
        {
          "name": "stderr",
          "output_type": "stream",
          "text": [
            "2025-07-13 17:40:19,496 - INFO - XGBoost-onehot Mean AUC: 1.0000\n",
            "Best trial: 0. Best value: 1:  20%|██        | 4/20 [00:44<03:49, 14.34s/it, 44.54/1200 seconds]"
          ]
        },
        {
          "name": "stdout",
          "output_type": "stream",
          "text": [
            "[I 2025-07-13 17:40:19,498] Trial 3 finished with value: 1.0 and parameters: {'n_estimators': 433, 'learning_rate': 0.020589728197687916, 'max_depth': 4, 'subsample': 0.7550213529560301}. Best is trial 0 with value: 1.0.\n"
          ]
        },
        {
          "name": "stderr",
          "output_type": "stream",
          "text": [
            "2025-07-13 17:40:31,681 - INFO - XGBoost-onehot Mean AUC: 1.0000\n",
            "Best trial: 0. Best value: 1:  25%|██▌       | 5/20 [00:56<03:23, 13.56s/it, 56.72/1200 seconds]"
          ]
        },
        {
          "name": "stdout",
          "output_type": "stream",
          "text": [
            "[I 2025-07-13 17:40:31,683] Trial 4 finished with value: 1.0 and parameters: {'n_estimators': 222, 'learning_rate': 0.05958389350068958, 'max_depth': 5, 'subsample': 0.7873687420594125}. Best is trial 0 with value: 1.0.\n"
          ]
        },
        {
          "name": "stderr",
          "output_type": "stream",
          "text": [
            "2025-07-13 17:40:50,813 - INFO - XGBoost-onehot Mean AUC: 1.0000\n",
            "Best trial: 0. Best value: 1:  30%|███       | 6/20 [01:15<03:36, 15.46s/it, 75.86/1200 seconds]"
          ]
        },
        {
          "name": "stdout",
          "output_type": "stream",
          "text": [
            "[I 2025-07-13 17:40:50,815] Trial 5 finished with value: 1.0 and parameters: {'n_estimators': 345, 'learning_rate': 0.01607123851203988, 'max_depth': 4, 'subsample': 0.8099085529881075}. Best is trial 0 with value: 1.0.\n"
          ]
        },
        {
          "name": "stderr",
          "output_type": "stream",
          "text": [
            "2025-07-13 17:41:04,832 - INFO - XGBoost-onehot Mean AUC: 1.0000\n",
            "Best trial: 0. Best value: 1:  35%|███▌      | 7/20 [01:29<03:14, 14.99s/it, 89.87/1200 seconds]"
          ]
        },
        {
          "name": "stdout",
          "output_type": "stream",
          "text": [
            "[I 2025-07-13 17:41:04,834] Trial 6 finished with value: 1.0 and parameters: {'n_estimators': 282, 'learning_rate': 0.14447746112718687, 'max_depth': 4, 'subsample': 0.8542703315240835}. Best is trial 0 with value: 1.0.\n"
          ]
        },
        {
          "name": "stderr",
          "output_type": "stream",
          "text": [
            "2025-07-13 17:41:23,527 - INFO - XGBoost-onehot Mean AUC: 1.0000\n",
            "Best trial: 0. Best value: 1:  40%|████      | 8/20 [01:48<03:14, 16.17s/it, 108.57/1200 seconds]"
          ]
        },
        {
          "name": "stdout",
          "output_type": "stream",
          "text": [
            "[I 2025-07-13 17:41:23,529] Trial 7 finished with value: 1.0 and parameters: {'n_estimators': 337, 'learning_rate': 0.011711509955524094, 'max_depth': 6, 'subsample': 0.7511572371061874}. Best is trial 0 with value: 1.0.\n"
          ]
        },
        {
          "name": "stderr",
          "output_type": "stream",
          "text": [
            "2025-07-13 17:41:30,798 - INFO - XGBoost-onehot Mean AUC: 1.0000\n",
            "Best trial: 0. Best value: 1:  45%|████▌     | 9/20 [01:55<02:27, 13.39s/it, 115.84/1200 seconds]"
          ]
        },
        {
          "name": "stdout",
          "output_type": "stream",
          "text": [
            "[I 2025-07-13 17:41:30,800] Trial 8 finished with value: 1.0 and parameters: {'n_estimators': 126, 'learning_rate': 0.2521267904777921, 'max_depth': 8, 'subsample': 0.9425192044349383}. Best is trial 0 with value: 1.0.\n"
          ]
        },
        {
          "name": "stderr",
          "output_type": "stream",
          "text": [
            "2025-07-13 17:41:42,324 - INFO - XGBoost-onehot Mean AUC: 1.0000\n",
            "Best trial: 0. Best value: 1:  50%|█████     | 10/20 [02:07<02:08, 12.81s/it, 127.37/1200 seconds]"
          ]
        },
        {
          "name": "stdout",
          "output_type": "stream",
          "text": [
            "[I 2025-07-13 17:41:42,326] Trial 9 finished with value: 1.0 and parameters: {'n_estimators': 222, 'learning_rate': 0.013940346079873234, 'max_depth': 7, 'subsample': 0.8320457481218804}. Best is trial 0 with value: 1.0.\n"
          ]
        },
        {
          "name": "stderr",
          "output_type": "stream",
          "text": [
            "2025-07-13 17:41:48,626 - INFO - XGBoost-onehot Mean AUC: 1.0000\n",
            "Best trial: 0. Best value: 1:  55%|█████▌    | 11/20 [02:13<01:37, 10.82s/it, 133.67/1200 seconds]"
          ]
        },
        {
          "name": "stdout",
          "output_type": "stream",
          "text": [
            "[I 2025-07-13 17:41:48,629] Trial 10 finished with value: 1.0 and parameters: {'n_estimators': 478, 'learning_rate': 0.0500220915772748, 'max_depth': 8, 'subsample': 0.8919394579380205}. Best is trial 0 with value: 1.0.\n"
          ]
        },
        {
          "name": "stderr",
          "output_type": "stream",
          "text": [
            "2025-07-13 17:41:51,876 - INFO - XGBoost-onehot Mean AUC: 1.0000\n",
            "Best trial: 0. Best value: 1:  60%|██████    | 12/20 [02:16<01:08,  8.52s/it, 136.92/1200 seconds]"
          ]
        },
        {
          "name": "stdout",
          "output_type": "stream",
          "text": [
            "[I 2025-07-13 17:41:51,878] Trial 11 finished with value: 1.0 and parameters: {'n_estimators': 115, 'learning_rate': 0.032624228995528144, 'max_depth': 6, 'subsample': 0.9216947866421255}. Best is trial 0 with value: 1.0.\n"
          ]
        },
        {
          "name": "stderr",
          "output_type": "stream",
          "text": [
            "2025-07-13 17:42:01,312 - INFO - XGBoost-onehot Mean AUC: 1.0000\n",
            "Best trial: 0. Best value: 1:  65%|██████▌   | 13/20 [02:26<01:01,  8.80s/it, 146.35/1200 seconds]"
          ]
        },
        {
          "name": "stdout",
          "output_type": "stream",
          "text": [
            "[I 2025-07-13 17:42:01,314] Trial 12 finished with value: 1.0 and parameters: {'n_estimators': 186, 'learning_rate': 0.2818786515020195, 'max_depth': 7, 'subsample': 0.9854945337124003}. Best is trial 0 with value: 1.0.\n"
          ]
        },
        {
          "name": "stderr",
          "output_type": "stream",
          "text": [
            "2025-07-13 17:42:11,519 - INFO - XGBoost-onehot Mean AUC: 1.0000\n",
            "Best trial: 0. Best value: 1:  70%|███████   | 14/20 [02:36<00:55,  9.22s/it, 156.56/1200 seconds]"
          ]
        },
        {
          "name": "stdout",
          "output_type": "stream",
          "text": [
            "[I 2025-07-13 17:42:11,521] Trial 13 finished with value: 1.0 and parameters: {'n_estimators': 177, 'learning_rate': 0.027365736357468685, 'max_depth': 3, 'subsample': 0.8840006794174039}. Best is trial 0 with value: 1.0.\n"
          ]
        },
        {
          "name": "stderr",
          "output_type": "stream",
          "text": [
            "2025-07-13 17:42:25,646 - INFO - XGBoost-onehot Mean AUC: 1.0000\n",
            "Best trial: 0. Best value: 1:  75%|███████▌  | 15/20 [02:50<00:53, 10.70s/it, 170.69/1200 seconds]"
          ]
        },
        {
          "name": "stdout",
          "output_type": "stream",
          "text": [
            "[I 2025-07-13 17:42:25,648] Trial 14 finished with value: 1.0 and parameters: {'n_estimators': 271, 'learning_rate': 0.09148397126162978, 'max_depth': 7, 'subsample': 0.9406212447331025}. Best is trial 0 with value: 1.0.\n"
          ]
        },
        {
          "name": "stderr",
          "output_type": "stream",
          "text": [
            "2025-07-13 17:42:34,375 - INFO - XGBoost-onehot Mean AUC: 1.0000\n",
            "Best trial: 0. Best value: 1:  80%|████████  | 16/20 [02:59<00:40, 10.11s/it, 179.42/1200 seconds]"
          ]
        },
        {
          "name": "stdout",
          "output_type": "stream",
          "text": [
            "[I 2025-07-13 17:42:34,377] Trial 15 finished with value: 1.0 and parameters: {'n_estimators': 163, 'learning_rate': 0.17119248177483057, 'max_depth': 5, 'subsample': 0.8863312792477095}. Best is trial 0 with value: 1.0.\n"
          ]
        },
        {
          "name": "stderr",
          "output_type": "stream",
          "text": [
            "2025-07-13 17:42:47,632 - INFO - XGBoost-onehot Mean AUC: 1.0000\n",
            "Best trial: 0. Best value: 1:  85%|████████▌ | 17/20 [03:12<00:33, 11.05s/it, 192.68/1200 seconds]"
          ]
        },
        {
          "name": "stdout",
          "output_type": "stream",
          "text": [
            "[I 2025-07-13 17:42:47,635] Trial 16 finished with value: 1.0 and parameters: {'n_estimators': 239, 'learning_rate': 0.054403312289292724, 'max_depth': 6, 'subsample': 0.9691761017788351}. Best is trial 0 with value: 1.0.\n"
          ]
        },
        {
          "name": "stderr",
          "output_type": "stream",
          "text": [
            "2025-07-13 17:42:56,278 - INFO - XGBoost-onehot Mean AUC: 1.0000\n",
            "Best trial: 0. Best value: 1:  90%|█████████ | 18/20 [03:21<00:20, 10.33s/it, 201.32/1200 seconds]"
          ]
        },
        {
          "name": "stdout",
          "output_type": "stream",
          "text": [
            "[I 2025-07-13 17:42:56,280] Trial 17 finished with value: 1.0 and parameters: {'n_estimators': 151, 'learning_rate': 0.032770075817163305, 'max_depth': 5, 'subsample': 0.9259412902730204}. Best is trial 0 with value: 1.0.\n"
          ]
        },
        {
          "name": "stderr",
          "output_type": "stream",
          "text": [
            "2025-07-13 17:43:11,337 - INFO - XGBoost-onehot Mean AUC: 1.0000\n",
            "Best trial: 0. Best value: 1:  95%|█████████▌| 19/20 [03:36<00:11, 11.75s/it, 216.38/1200 seconds]"
          ]
        },
        {
          "name": "stdout",
          "output_type": "stream",
          "text": [
            "[I 2025-07-13 17:43:11,339] Trial 18 finished with value: 1.0 and parameters: {'n_estimators': 299, 'learning_rate': 0.09548424890644631, 'max_depth': 7, 'subsample': 0.8416629028975215}. Best is trial 0 with value: 1.0.\n"
          ]
        },
        {
          "name": "stderr",
          "output_type": "stream",
          "text": [
            "2025-07-13 17:43:32,496 - INFO - XGBoost-onehot Mean AUC: 1.0000\n",
            "Best trial: 0. Best value: 1: 100%|██████████| 20/20 [03:57<00:00, 11.88s/it, 237.54/1200 seconds]\n"
          ]
        },
        {
          "name": "stdout",
          "output_type": "stream",
          "text": [
            "[I 2025-07-13 17:43:32,498] Trial 19 finished with value: 1.0 and parameters: {'n_estimators': 392, 'learning_rate': 0.01046111763034609, 'max_depth': 3, 'subsample': 0.9597550967973407}. Best is trial 0 with value: 1.0.\n"
          ]
        },
        {
          "name": "stderr",
          "output_type": "stream",
          "text": [
            "2025-07-13 17:43:38,543 - INFO - XGBoost_onehot | Test AUC: nan\n",
            "2025-07-13 17:43:38,812 - ERROR - Visualization failed: Encountered zero total variance in all trees.\n",
            "2025-07-13 17:43:38,815 - INFO - \n",
            "==================================================\n",
            "2025-07-13 17:43:38,817 - INFO - Optimizing XGBoost_target\n",
            "2025-07-13 17:43:38,821 - INFO - ==================================================\n",
            "[I 2025-07-13 17:43:38,823] A new study created in memory with name: no-name-15bfb6d0-0f23-48e5-a415-a1980eeea50c\n",
            "  0%|          | 0/20 [00:00<?, ?it/s]2025-07-13 17:43:40,841 - INFO - XGBoost-target Mean AUC: 1.0000\n",
            "Best trial: 0. Best value: 1:   5%|▌         | 1/20 [00:02<00:38,  2.02s/it, 2.02/1200 seconds]"
          ]
        },
        {
          "name": "stdout",
          "output_type": "stream",
          "text": [
            "[I 2025-07-13 17:43:40,843] Trial 0 finished with value: 1.0 and parameters: {'n_estimators': 250, 'learning_rate': 0.2536999076681772, 'max_depth': 7, 'subsample': 0.8795975452591109}. Best is trial 0 with value: 1.0.\n"
          ]
        },
        {
          "name": "stderr",
          "output_type": "stream",
          "text": [
            "2025-07-13 17:43:42,684 - INFO - XGBoost-target Mean AUC: 1.0000\n",
            "Best trial: 0. Best value: 1:  10%|█         | 2/20 [00:03<00:34,  1.92s/it, 3.86/1200 seconds]"
          ]
        },
        {
          "name": "stdout",
          "output_type": "stream",
          "text": [
            "[I 2025-07-13 17:43:42,686] Trial 1 finished with value: 1.0 and parameters: {'n_estimators': 162, 'learning_rate': 0.01699897838270077, 'max_depth': 3, 'subsample': 0.9598528437324805}. Best is trial 0 with value: 1.0.\n"
          ]
        },
        {
          "name": "stderr",
          "output_type": "stream",
          "text": [
            "2025-07-13 17:43:45,076 - INFO - XGBoost-target Mean AUC: 1.0000\n",
            "Best trial: 0. Best value: 1:  15%|█▌        | 3/20 [00:06<00:36,  2.13s/it, 6.26/1200 seconds]"
          ]
        },
        {
          "name": "stdout",
          "output_type": "stream",
          "text": [
            "[I 2025-07-13 17:43:45,078] Trial 2 finished with value: 1.0 and parameters: {'n_estimators': 341, 'learning_rate': 0.11114989443094977, 'max_depth': 3, 'subsample': 0.9909729556485982}. Best is trial 0 with value: 1.0.\n"
          ]
        },
        {
          "name": "stderr",
          "output_type": "stream",
          "text": [
            "2025-07-13 17:43:48,380 - INFO - XGBoost-target Mean AUC: 1.0000\n",
            "Best trial: 0. Best value: 1:  20%|██        | 4/20 [00:09<00:41,  2.60s/it, 9.56/1200 seconds]"
          ]
        },
        {
          "name": "stdout",
          "output_type": "stream",
          "text": [
            "[I 2025-07-13 17:43:48,385] Trial 3 finished with value: 1.0 and parameters: {'n_estimators': 433, 'learning_rate': 0.020589728197687916, 'max_depth': 4, 'subsample': 0.7550213529560301}. Best is trial 0 with value: 1.0.\n"
          ]
        },
        {
          "name": "stderr",
          "output_type": "stream",
          "text": [
            "2025-07-13 17:43:50,433 - INFO - XGBoost-target Mean AUC: 1.0000\n",
            "Best trial: 0. Best value: 1:  25%|██▌       | 5/20 [00:11<00:35,  2.40s/it, 11.61/1200 seconds]"
          ]
        },
        {
          "name": "stdout",
          "output_type": "stream",
          "text": [
            "[I 2025-07-13 17:43:50,435] Trial 4 finished with value: 1.0 and parameters: {'n_estimators': 222, 'learning_rate': 0.05958389350068958, 'max_depth': 5, 'subsample': 0.7873687420594125}. Best is trial 0 with value: 1.0.\n"
          ]
        },
        {
          "name": "stderr",
          "output_type": "stream",
          "text": [
            "2025-07-13 17:43:53,247 - INFO - XGBoost-target Mean AUC: 1.0000\n",
            "Best trial: 0. Best value: 1:  30%|███       | 6/20 [00:14<00:35,  2.54s/it, 14.43/1200 seconds]"
          ]
        },
        {
          "name": "stdout",
          "output_type": "stream",
          "text": [
            "[I 2025-07-13 17:43:53,250] Trial 5 finished with value: 1.0 and parameters: {'n_estimators': 345, 'learning_rate': 0.01607123851203988, 'max_depth': 4, 'subsample': 0.8099085529881075}. Best is trial 0 with value: 1.0.\n"
          ]
        },
        {
          "name": "stderr",
          "output_type": "stream",
          "text": [
            "2025-07-13 17:43:55,295 - INFO - XGBoost-target Mean AUC: 1.0000\n",
            "Best trial: 0. Best value: 1:  35%|███▌      | 7/20 [00:16<00:30,  2.38s/it, 16.48/1200 seconds]"
          ]
        },
        {
          "name": "stdout",
          "output_type": "stream",
          "text": [
            "[I 2025-07-13 17:43:55,297] Trial 6 finished with value: 1.0 and parameters: {'n_estimators': 282, 'learning_rate': 0.14447746112718687, 'max_depth': 4, 'subsample': 0.8542703315240835}. Best is trial 0 with value: 1.0.\n"
          ]
        },
        {
          "name": "stderr",
          "output_type": "stream",
          "text": [
            "2025-07-13 17:43:58,207 - INFO - XGBoost-target Mean AUC: 1.0000\n",
            "Best trial: 0. Best value: 1:  40%|████      | 8/20 [00:19<00:30,  2.55s/it, 19.39/1200 seconds]"
          ]
        },
        {
          "name": "stdout",
          "output_type": "stream",
          "text": [
            "[I 2025-07-13 17:43:58,209] Trial 7 finished with value: 1.0 and parameters: {'n_estimators': 337, 'learning_rate': 0.011711509955524094, 'max_depth': 6, 'subsample': 0.7511572371061874}. Best is trial 0 with value: 1.0.\n"
          ]
        },
        {
          "name": "stderr",
          "output_type": "stream",
          "text": [
            "2025-07-13 17:43:59,654 - INFO - XGBoost-target Mean AUC: 1.0000\n",
            "Best trial: 0. Best value: 1:  45%|████▌     | 9/20 [00:20<00:24,  2.20s/it, 20.83/1200 seconds]"
          ]
        },
        {
          "name": "stdout",
          "output_type": "stream",
          "text": [
            "[I 2025-07-13 17:43:59,655] Trial 8 finished with value: 1.0 and parameters: {'n_estimators': 126, 'learning_rate': 0.2521267904777921, 'max_depth': 8, 'subsample': 0.9425192044349383}. Best is trial 0 with value: 1.0.\n"
          ]
        },
        {
          "name": "stderr",
          "output_type": "stream",
          "text": [
            "2025-07-13 17:44:01,868 - INFO - XGBoost-target Mean AUC: 1.0000\n",
            "Best trial: 0. Best value: 1:  50%|█████     | 10/20 [00:23<00:22,  2.21s/it, 23.05/1200 seconds]"
          ]
        },
        {
          "name": "stdout",
          "output_type": "stream",
          "text": [
            "[I 2025-07-13 17:44:01,870] Trial 9 finished with value: 1.0 and parameters: {'n_estimators': 222, 'learning_rate': 0.013940346079873234, 'max_depth': 7, 'subsample': 0.8320457481218804}. Best is trial 0 with value: 1.0.\n"
          ]
        },
        {
          "name": "stderr",
          "output_type": "stream",
          "text": [
            "2025-07-13 17:44:04,942 - INFO - XGBoost-target Mean AUC: 1.0000\n",
            "Best trial: 0. Best value: 1:  55%|█████▌    | 11/20 [00:26<00:22,  2.47s/it, 26.12/1200 seconds]"
          ]
        },
        {
          "name": "stdout",
          "output_type": "stream",
          "text": [
            "[I 2025-07-13 17:44:04,944] Trial 10 finished with value: 1.0 and parameters: {'n_estimators': 478, 'learning_rate': 0.0500220915772748, 'max_depth': 8, 'subsample': 0.8919394579380205}. Best is trial 0 with value: 1.0.\n"
          ]
        },
        {
          "name": "stderr",
          "output_type": "stream",
          "text": [
            "2025-07-13 17:44:06,529 - INFO - XGBoost-target Mean AUC: 1.0000\n",
            "Best trial: 0. Best value: 1:  60%|██████    | 12/20 [00:27<00:17,  2.20s/it, 27.71/1200 seconds]"
          ]
        },
        {
          "name": "stdout",
          "output_type": "stream",
          "text": [
            "[I 2025-07-13 17:44:06,531] Trial 11 finished with value: 1.0 and parameters: {'n_estimators': 115, 'learning_rate': 0.032624228995528144, 'max_depth': 6, 'subsample': 0.9216947866421255}. Best is trial 0 with value: 1.0.\n"
          ]
        },
        {
          "name": "stderr",
          "output_type": "stream",
          "text": [
            "2025-07-13 17:44:08,158 - INFO - XGBoost-target Mean AUC: 1.0000\n",
            "Best trial: 0. Best value: 1:  65%|██████▌   | 13/20 [00:29<00:14,  2.03s/it, 29.34/1200 seconds]"
          ]
        },
        {
          "name": "stdout",
          "output_type": "stream",
          "text": [
            "[I 2025-07-13 17:44:08,159] Trial 12 finished with value: 1.0 and parameters: {'n_estimators': 186, 'learning_rate': 0.2818786515020195, 'max_depth': 7, 'subsample': 0.9854945337124003}. Best is trial 0 with value: 1.0.\n"
          ]
        },
        {
          "name": "stderr",
          "output_type": "stream",
          "text": [
            "2025-07-13 17:44:10,165 - INFO - XGBoost-target Mean AUC: 1.0000\n",
            "Best trial: 0. Best value: 1:  70%|███████   | 14/20 [00:31<00:12,  2.02s/it, 31.34/1200 seconds]"
          ]
        },
        {
          "name": "stdout",
          "output_type": "stream",
          "text": [
            "[I 2025-07-13 17:44:10,167] Trial 13 finished with value: 1.0 and parameters: {'n_estimators': 177, 'learning_rate': 0.027365736357468685, 'max_depth': 3, 'subsample': 0.8840006794174039}. Best is trial 0 with value: 1.0.\n"
          ]
        },
        {
          "name": "stderr",
          "output_type": "stream",
          "text": [
            "2025-07-13 17:44:12,257 - INFO - XGBoost-target Mean AUC: 1.0000\n",
            "Best trial: 0. Best value: 1:  75%|███████▌  | 15/20 [00:33<00:10,  2.04s/it, 33.44/1200 seconds]"
          ]
        },
        {
          "name": "stdout",
          "output_type": "stream",
          "text": [
            "[I 2025-07-13 17:44:12,259] Trial 14 finished with value: 1.0 and parameters: {'n_estimators': 271, 'learning_rate': 0.09148397126162978, 'max_depth': 7, 'subsample': 0.9406212447331025}. Best is trial 0 with value: 1.0.\n"
          ]
        },
        {
          "name": "stderr",
          "output_type": "stream",
          "text": [
            "2025-07-13 17:44:13,887 - INFO - XGBoost-target Mean AUC: 1.0000\n",
            "Best trial: 0. Best value: 1:  80%|████████  | 16/20 [00:35<00:07,  1.92s/it, 35.07/1200 seconds]"
          ]
        },
        {
          "name": "stdout",
          "output_type": "stream",
          "text": [
            "[I 2025-07-13 17:44:13,889] Trial 15 finished with value: 1.0 and parameters: {'n_estimators': 163, 'learning_rate': 0.17119248177483057, 'max_depth': 5, 'subsample': 0.8863312792477095}. Best is trial 0 with value: 1.0.\n"
          ]
        },
        {
          "name": "stderr",
          "output_type": "stream",
          "text": [
            "2025-07-13 17:44:16,024 - INFO - XGBoost-target Mean AUC: 1.0000\n",
            "Best trial: 0. Best value: 1:  85%|████████▌ | 17/20 [00:37<00:05,  1.98s/it, 37.20/1200 seconds]"
          ]
        },
        {
          "name": "stdout",
          "output_type": "stream",
          "text": [
            "[I 2025-07-13 17:44:16,026] Trial 16 finished with value: 1.0 and parameters: {'n_estimators': 239, 'learning_rate': 0.054403312289292724, 'max_depth': 6, 'subsample': 0.9691761017788351}. Best is trial 0 with value: 1.0.\n"
          ]
        },
        {
          "name": "stderr",
          "output_type": "stream",
          "text": [
            "2025-07-13 17:44:17,769 - INFO - XGBoost-target Mean AUC: 1.0000\n",
            "Best trial: 0. Best value: 1:  90%|█████████ | 18/20 [00:38<00:03,  1.91s/it, 38.95/1200 seconds]"
          ]
        },
        {
          "name": "stdout",
          "output_type": "stream",
          "text": [
            "[I 2025-07-13 17:44:17,771] Trial 17 finished with value: 1.0 and parameters: {'n_estimators': 151, 'learning_rate': 0.032770075817163305, 'max_depth': 5, 'subsample': 0.9259412902730204}. Best is trial 0 with value: 1.0.\n"
          ]
        },
        {
          "name": "stderr",
          "output_type": "stream",
          "text": [
            "2025-07-13 17:44:19,973 - INFO - XGBoost-target Mean AUC: 1.0000\n",
            "Best trial: 0. Best value: 1:  95%|█████████▌| 19/20 [00:41<00:02,  2.00s/it, 41.15/1200 seconds]"
          ]
        },
        {
          "name": "stdout",
          "output_type": "stream",
          "text": [
            "[I 2025-07-13 17:44:19,975] Trial 18 finished with value: 1.0 and parameters: {'n_estimators': 299, 'learning_rate': 0.09548424890644631, 'max_depth': 7, 'subsample': 0.8416629028975215}. Best is trial 0 with value: 1.0.\n"
          ]
        },
        {
          "name": "stderr",
          "output_type": "stream",
          "text": [
            "2025-07-13 17:44:23,189 - INFO - XGBoost-target Mean AUC: 1.0000\n",
            "Best trial: 0. Best value: 1: 100%|██████████| 20/20 [00:44<00:00,  2.22s/it, 44.37/1200 seconds]\n"
          ]
        },
        {
          "name": "stdout",
          "output_type": "stream",
          "text": [
            "[I 2025-07-13 17:44:23,191] Trial 19 finished with value: 1.0 and parameters: {'n_estimators': 392, 'learning_rate': 0.01046111763034609, 'max_depth': 3, 'subsample': 0.9597550967973407}. Best is trial 0 with value: 1.0.\n"
          ]
        },
        {
          "name": "stderr",
          "output_type": "stream",
          "text": [
            "2025-07-13 17:44:23,907 - INFO - XGBoost_target | Test AUC: nan\n",
            "2025-07-13 17:44:24,153 - ERROR - Visualization failed: Encountered zero total variance in all trees.\n",
            "2025-07-13 17:44:24,154 - INFO - \n",
            "==================================================\n",
            "2025-07-13 17:44:24,155 - INFO - Optimizing XGBoost_catboost_enc\n",
            "2025-07-13 17:44:24,156 - INFO - ==================================================\n",
            "[I 2025-07-13 17:44:24,157] A new study created in memory with name: no-name-c5e7881b-496e-4150-bb4e-f0ce385fb3be\n",
            "  0%|          | 0/20 [00:00<?, ?it/s]2025-07-13 17:44:30,162 - INFO - XGBoost-catboost_enc Mean AUC: 0.9409\n",
            "Best trial: 0. Best value: 0.940909:   5%|▌         | 1/20 [00:06<01:54,  6.01s/it, 6.01/1200 seconds]"
          ]
        },
        {
          "name": "stdout",
          "output_type": "stream",
          "text": [
            "[I 2025-07-13 17:44:30,164] Trial 0 finished with value: 0.9409090908321375 and parameters: {'n_estimators': 250, 'learning_rate': 0.2536999076681772, 'max_depth': 7, 'subsample': 0.8795975452591109}. Best is trial 0 with value: 0.9409090908321375.\n"
          ]
        },
        {
          "name": "stderr",
          "output_type": "stream",
          "text": [
            "2025-07-13 17:44:31,940 - INFO - XGBoost-catboost_enc Mean AUC: 0.9399\n",
            "Best trial: 0. Best value: 0.940909:  10%|█         | 2/20 [00:07<01:03,  3.52s/it, 7.79/1200 seconds]"
          ]
        },
        {
          "name": "stdout",
          "output_type": "stream",
          "text": [
            "[I 2025-07-13 17:44:31,942] Trial 1 finished with value: 0.9398866827053282 and parameters: {'n_estimators': 162, 'learning_rate': 0.01699897838270077, 'max_depth': 3, 'subsample': 0.9598528437324805}. Best is trial 0 with value: 0.9409090908321375.\n"
          ]
        },
        {
          "name": "stderr",
          "output_type": "stream",
          "text": [
            "2025-07-13 17:44:33,655 - INFO - XGBoost-catboost_enc Mean AUC: 0.9442\n",
            "Best trial: 2. Best value: 0.944176:  15%|█▌        | 3/20 [00:09<00:45,  2.70s/it, 9.50/1200 seconds]"
          ]
        },
        {
          "name": "stdout",
          "output_type": "stream",
          "text": [
            "[I 2025-07-13 17:44:33,657] Trial 2 finished with value: 0.9441755361112295 and parameters: {'n_estimators': 341, 'learning_rate': 0.11114989443094977, 'max_depth': 3, 'subsample': 0.9909729556485982}. Best is trial 2 with value: 0.9441755361112295.\n"
          ]
        },
        {
          "name": "stderr",
          "output_type": "stream",
          "text": [
            "2025-07-13 17:44:36,140 - INFO - XGBoost-catboost_enc Mean AUC: 0.9466\n",
            "Best trial: 3. Best value: 0.946628:  20%|██        | 4/20 [00:11<00:41,  2.61s/it, 11.99/1200 seconds]"
          ]
        },
        {
          "name": "stdout",
          "output_type": "stream",
          "text": [
            "[I 2025-07-13 17:44:36,142] Trial 3 finished with value: 0.9466283893296664 and parameters: {'n_estimators': 433, 'learning_rate': 0.020589728197687916, 'max_depth': 4, 'subsample': 0.7550213529560301}. Best is trial 3 with value: 0.9466283893296664.\n"
          ]
        },
        {
          "name": "stderr",
          "output_type": "stream",
          "text": [
            "2025-07-13 17:44:38,024 - INFO - XGBoost-catboost_enc Mean AUC: 0.9456\n",
            "Best trial: 3. Best value: 0.946628:  25%|██▌       | 5/20 [00:13<00:35,  2.35s/it, 13.87/1200 seconds]"
          ]
        },
        {
          "name": "stdout",
          "output_type": "stream",
          "text": [
            "[I 2025-07-13 17:44:38,025] Trial 4 finished with value: 0.9455846710845112 and parameters: {'n_estimators': 222, 'learning_rate': 0.05958389350068958, 'max_depth': 5, 'subsample': 0.7873687420594125}. Best is trial 3 with value: 0.9466283893296664.\n"
          ]
        },
        {
          "name": "stderr",
          "output_type": "stream",
          "text": [
            "2025-07-13 17:44:40,050 - INFO - XGBoost-catboost_enc Mean AUC: 0.9463\n",
            "Best trial: 3. Best value: 0.946628:  30%|███       | 6/20 [00:15<00:31,  2.24s/it, 15.89/1200 seconds]"
          ]
        },
        {
          "name": "stdout",
          "output_type": "stream",
          "text": [
            "[I 2025-07-13 17:44:40,052] Trial 5 finished with value: 0.9463365481058762 and parameters: {'n_estimators': 345, 'learning_rate': 0.01607123851203988, 'max_depth': 4, 'subsample': 0.8099085529881075}. Best is trial 3 with value: 0.9466283893296664.\n"
          ]
        },
        {
          "name": "stderr",
          "output_type": "stream",
          "text": [
            "2025-07-13 17:44:41,872 - INFO - XGBoost-catboost_enc Mean AUC: 0.9433\n",
            "Best trial: 3. Best value: 0.946628:  35%|███▌      | 7/20 [00:17<00:27,  2.10s/it, 17.72/1200 seconds]"
          ]
        },
        {
          "name": "stdout",
          "output_type": "stream",
          "text": [
            "[I 2025-07-13 17:44:41,873] Trial 6 finished with value: 0.9432890620989051 and parameters: {'n_estimators': 282, 'learning_rate': 0.14447746112718687, 'max_depth': 4, 'subsample': 0.8542703315240835}. Best is trial 3 with value: 0.9466283893296664.\n"
          ]
        },
        {
          "name": "stderr",
          "output_type": "stream",
          "text": [
            "2025-07-13 17:44:44,910 - INFO - XGBoost-catboost_enc Mean AUC: 0.9452\n",
            "Best trial: 3. Best value: 0.946628:  40%|████      | 8/20 [00:20<00:28,  2.40s/it, 20.76/1200 seconds]"
          ]
        },
        {
          "name": "stdout",
          "output_type": "stream",
          "text": [
            "[I 2025-07-13 17:44:44,912] Trial 7 finished with value: 0.9451897883498822 and parameters: {'n_estimators': 337, 'learning_rate': 0.011711509955524094, 'max_depth': 6, 'subsample': 0.7511572371061874}. Best is trial 3 with value: 0.9466283893296664.\n"
          ]
        },
        {
          "name": "stderr",
          "output_type": "stream",
          "text": [
            "2025-07-13 17:44:46,709 - INFO - XGBoost-catboost_enc Mean AUC: 0.9425\n",
            "Best trial: 3. Best value: 0.946628:  45%|████▌     | 9/20 [00:22<00:24,  2.21s/it, 22.55/1200 seconds]"
          ]
        },
        {
          "name": "stdout",
          "output_type": "stream",
          "text": [
            "[I 2025-07-13 17:44:46,710] Trial 8 finished with value: 0.942536518855289 and parameters: {'n_estimators': 126, 'learning_rate': 0.2521267904777921, 'max_depth': 8, 'subsample': 0.9425192044349383}. Best is trial 3 with value: 0.9466283893296664.\n"
          ]
        },
        {
          "name": "stderr",
          "output_type": "stream",
          "text": [
            "2025-07-13 17:44:49,527 - INFO - XGBoost-catboost_enc Mean AUC: 0.9435\n",
            "Best trial: 3. Best value: 0.946628:  50%|█████     | 10/20 [00:25<00:23,  2.40s/it, 25.37/1200 seconds]"
          ]
        },
        {
          "name": "stdout",
          "output_type": "stream",
          "text": [
            "[I 2025-07-13 17:44:49,528] Trial 9 finished with value: 0.9435032780146141 and parameters: {'n_estimators': 222, 'learning_rate': 0.013940346079873234, 'max_depth': 7, 'subsample': 0.8320457481218804}. Best is trial 3 with value: 0.9466283893296664.\n"
          ]
        },
        {
          "name": "stderr",
          "output_type": "stream",
          "text": [
            "2025-07-13 17:44:53,076 - INFO - XGBoost-catboost_enc Mean AUC: 0.9451\n",
            "Best trial: 3. Best value: 0.946628:  55%|█████▌    | 11/20 [00:28<00:24,  2.75s/it, 28.92/1200 seconds]"
          ]
        },
        {
          "name": "stdout",
          "output_type": "stream",
          "text": [
            "[I 2025-07-13 17:44:53,078] Trial 10 finished with value: 0.9450763427984957 and parameters: {'n_estimators': 478, 'learning_rate': 0.03445639818969486, 'max_depth': 5, 'subsample': 0.7053885626844458}. Best is trial 3 with value: 0.9466283893296664.\n"
          ]
        },
        {
          "name": "stderr",
          "output_type": "stream",
          "text": [
            "2025-07-13 17:44:56,884 - INFO - XGBoost-catboost_enc Mean AUC: 0.9463\n",
            "Best trial: 3. Best value: 0.946628:  60%|██████    | 12/20 [00:32<00:24,  3.07s/it, 32.73/1200 seconds]"
          ]
        },
        {
          "name": "stdout",
          "output_type": "stream",
          "text": [
            "[I 2025-07-13 17:44:56,886] Trial 11 finished with value: 0.9462949522160139 and parameters: {'n_estimators': 429, 'learning_rate': 0.0277952566536497, 'max_depth': 4, 'subsample': 0.784031903498386}. Best is trial 3 with value: 0.9466283893296664.\n"
          ]
        },
        {
          "name": "stderr",
          "output_type": "stream",
          "text": [
            "2025-07-13 17:45:03,063 - INFO - XGBoost-catboost_enc Mean AUC: 0.9461\n",
            "Best trial: 3. Best value: 0.946628:  65%|██████▌   | 13/20 [00:38<00:28,  4.01s/it, 38.91/1200 seconds]"
          ]
        },
        {
          "name": "stdout",
          "output_type": "stream",
          "text": [
            "[I 2025-07-13 17:45:03,065] Trial 12 finished with value: 0.9461094573694432 and parameters: {'n_estimators': 398, 'learning_rate': 0.025693626385883902, 'max_depth': 4, 'subsample': 0.7027122445232098}. Best is trial 3 with value: 0.9466283893296664.\n"
          ]
        },
        {
          "name": "stderr",
          "output_type": "stream",
          "text": [
            "2025-07-13 17:45:09,247 - INFO - XGBoost-catboost_enc Mean AUC: 0.9454\n",
            "Best trial: 3. Best value: 0.946628:  70%|███████   | 14/20 [00:45<00:28,  4.67s/it, 45.09/1200 seconds]"
          ]
        },
        {
          "name": "stdout",
          "output_type": "stream",
          "text": [
            "[I 2025-07-13 17:45:09,250] Trial 13 finished with value: 0.9453619150822483 and parameters: {'n_estimators': 398, 'learning_rate': 0.047196518563563994, 'max_depth': 4, 'subsample': 0.7973131137794718}. Best is trial 3 with value: 0.9466283893296664.\n"
          ]
        },
        {
          "name": "stderr",
          "output_type": "stream",
          "text": [
            "2025-07-13 17:45:15,708 - INFO - XGBoost-catboost_enc Mean AUC: 0.9463\n",
            "Best trial: 3. Best value: 0.946628:  75%|███████▌  | 15/20 [00:51<00:26,  5.21s/it, 51.55/1200 seconds]"
          ]
        },
        {
          "name": "stdout",
          "output_type": "stream",
          "text": [
            "[I 2025-07-13 17:45:15,710] Trial 14 finished with value: 0.9462739508438274 and parameters: {'n_estimators': 490, 'learning_rate': 0.020019707471313607, 'max_depth': 3, 'subsample': 0.7440841556830138}. Best is trial 3 with value: 0.9466283893296664.\n"
          ]
        },
        {
          "name": "stderr",
          "output_type": "stream",
          "text": [
            "2025-07-13 17:45:22,483 - INFO - XGBoost-catboost_enc Mean AUC: 0.9450\n",
            "Best trial: 3. Best value: 0.946628:  80%|████████  | 16/20 [00:58<00:22,  5.68s/it, 58.33/1200 seconds]"
          ]
        },
        {
          "name": "stdout",
          "output_type": "stream",
          "text": [
            "[I 2025-07-13 17:45:22,486] Trial 15 finished with value: 0.9450401431535571 and parameters: {'n_estimators': 343, 'learning_rate': 0.010379312656981242, 'max_depth': 5, 'subsample': 0.8950602311817418}. Best is trial 3 with value: 0.9466283893296664.\n"
          ]
        },
        {
          "name": "stderr",
          "output_type": "stream",
          "text": [
            "2025-07-13 17:45:33,040 - INFO - XGBoost-catboost_enc Mean AUC: 0.9442\n",
            "Best trial: 3. Best value: 0.946628:  85%|████████▌ | 17/20 [01:08<00:21,  7.15s/it, 68.89/1200 seconds]"
          ]
        },
        {
          "name": "stdout",
          "output_type": "stream",
          "text": [
            "[I 2025-07-13 17:45:33,043] Trial 16 finished with value: 0.9442003340901021 and parameters: {'n_estimators': 424, 'learning_rate': 0.05018489632683118, 'max_depth': 6, 'subsample': 0.8154920539853303}. Best is trial 3 with value: 0.9466283893296664.\n"
          ]
        },
        {
          "name": "stderr",
          "output_type": "stream",
          "text": [
            "2025-07-13 17:45:38,638 - INFO - XGBoost-catboost_enc Mean AUC: 0.9463\n",
            "Best trial: 3. Best value: 0.946628:  90%|█████████ | 18/20 [01:14<00:13,  6.68s/it, 74.49/1200 seconds]"
          ]
        },
        {
          "name": "stdout",
          "output_type": "stream",
          "text": [
            "[I 2025-07-13 17:45:38,641] Trial 17 finished with value: 0.9463169159779833 and parameters: {'n_estimators': 363, 'learning_rate': 0.020382841939542696, 'max_depth': 4, 'subsample': 0.7456601487309656}. Best is trial 3 with value: 0.9466283893296664.\n"
          ]
        },
        {
          "name": "stderr",
          "output_type": "stream",
          "text": [
            "2025-07-13 17:45:44,126 - INFO - XGBoost-catboost_enc Mean AUC: 0.9458\n",
            "Best trial: 3. Best value: 0.946628:  95%|█████████▌| 19/20 [01:19<00:06,  6.32s/it, 79.97/1200 seconds]"
          ]
        },
        {
          "name": "stdout",
          "output_type": "stream",
          "text": [
            "[I 2025-07-13 17:45:44,128] Trial 18 finished with value: 0.9458439940062395 and parameters: {'n_estimators': 455, 'learning_rate': 0.03370541262008266, 'max_depth': 3, 'subsample': 0.7671921177714055}. Best is trial 3 with value: 0.9466283893296664.\n"
          ]
        },
        {
          "name": "stderr",
          "output_type": "stream",
          "text": [
            "2025-07-13 17:45:50,180 - INFO - XGBoost-catboost_enc Mean AUC: 0.9460\n",
            "Best trial: 3. Best value: 0.946628: 100%|██████████| 20/20 [01:26<00:00,  4.30s/it, 86.03/1200 seconds]\n"
          ]
        },
        {
          "name": "stdout",
          "output_type": "stream",
          "text": [
            "[I 2025-07-13 17:45:50,182] Trial 19 finished with value: 0.9460352869842638 and parameters: {'n_estimators': 294, 'learning_rate': 0.016022492161927013, 'max_depth': 5, 'subsample': 0.8576633835613714}. Best is trial 3 with value: 0.9466283893296664.\n"
          ]
        },
        {
          "name": "stderr",
          "output_type": "stream",
          "text": [
            "2025-07-13 17:45:52,924 - INFO - XGBoost_catboost_enc | Test AUC: nan\n",
            "2025-07-13 17:45:53,718 - INFO - \n",
            "==================================================\n",
            "2025-07-13 17:45:53,719 - INFO - Optimizing CatBoost_catboost_enc\n",
            "2025-07-13 17:45:53,720 - INFO - ==================================================\n",
            "[I 2025-07-13 17:45:53,721] A new study created in memory with name: no-name-5ff107a3-cc92-43db-a658-8daf99245f22\n",
            "  0%|          | 0/20 [00:00<?, ?it/s]2025-07-13 17:47:01,628 - INFO - CatBoost-catboost_enc Mean AUC: 0.9380\n",
            "Best trial: 0. Best value: 0.938022:   5%|▌         | 1/20 [01:07<21:30, 67.91s/it, 67.91/1200 seconds]"
          ]
        },
        {
          "name": "stdout",
          "output_type": "stream",
          "text": [
            "[I 2025-07-13 17:47:01,631] Trial 0 finished with value: 0.9380217847214779 and parameters: {'iterations': 687, 'learning_rate': 0.2536999076681772, 'depth': 7, 'l2_leaf_reg': 3.3946339367881464}. Best is trial 0 with value: 0.9380217847214779.\n"
          ]
        },
        {
          "name": "stderr",
          "output_type": "stream",
          "text": [
            "2025-07-13 17:47:13,226 - INFO - CatBoost-catboost_enc Mean AUC: 0.9327\n",
            "Best trial: 0. Best value: 0.938022:  10%|█         | 2/20 [01:19<10:26, 34.79s/it, 79.51/1200 seconds]"
          ]
        },
        {
          "name": "stdout",
          "output_type": "stream",
          "text": [
            "[I 2025-07-13 17:47:13,228] Trial 1 finished with value: 0.9327246427790032 and parameters: {'iterations': 578, 'learning_rate': 0.01699897838270077, 'depth': 4, 'l2_leaf_reg': 4.46470458309974}. Best is trial 0 with value: 0.9380217847214779.\n"
          ]
        },
        {
          "name": "stderr",
          "output_type": "stream",
          "text": [
            "2025-07-13 17:47:28,834 - INFO - CatBoost-catboost_enc Mean AUC: 0.9410\n",
            "Best trial: 2. Best value: 0.941004:  15%|█▌        | 3/20 [01:35<07:22, 26.03s/it, 95.12/1200 seconds]"
          ]
        },
        {
          "name": "stdout",
          "output_type": "stream",
          "text": [
            "[I 2025-07-13 17:47:28,837] Trial 2 finished with value: 0.9410038627572316 and parameters: {'iterations': 801, 'learning_rate': 0.11114989443094977, 'depth': 4, 'l2_leaf_reg': 4.879639408647977}. Best is trial 2 with value: 0.9410038627572316.\n"
          ]
        },
        {
          "name": "stderr",
          "output_type": "stream",
          "text": [
            "2025-07-13 17:47:46,540 - INFO - CatBoost-catboost_enc Mean AUC: 0.9380\n",
            "Best trial: 2. Best value: 0.941004:  20%|██        | 4/20 [01:52<06:03, 22.74s/it, 112.82/1200 seconds]"
          ]
        },
        {
          "name": "stdout",
          "output_type": "stream",
          "text": [
            "[I 2025-07-13 17:47:46,542] Trial 3 finished with value: 0.9379687896083108 and parameters: {'iterations': 917, 'learning_rate': 0.020589728197687916, 'depth': 4, 'l2_leaf_reg': 1.7336180394137353}. Best is trial 2 with value: 0.9410038627572316.\n"
          ]
        },
        {
          "name": "stderr",
          "output_type": "stream",
          "text": [
            "2025-07-13 17:48:20,369 - INFO - CatBoost-catboost_enc Mean AUC: 0.9413\n",
            "Best trial: 4. Best value: 0.941295:  25%|██▌       | 5/20 [02:26<06:41, 26.74s/it, 146.65/1200 seconds]"
          ]
        },
        {
          "name": "stdout",
          "output_type": "stream",
          "text": [
            "[I 2025-07-13 17:48:20,371] Trial 4 finished with value: 0.9412949485570522 and parameters: {'iterations': 652, 'learning_rate': 0.05958389350068958, 'depth': 6, 'l2_leaf_reg': 2.1649165607921677}. Best is trial 4 with value: 0.9412949485570522.\n"
          ]
        },
        {
          "name": "stderr",
          "output_type": "stream",
          "text": [
            "2025-07-13 17:48:45,813 - INFO - CatBoost-catboost_enc Mean AUC: 0.9377\n",
            "Best trial: 4. Best value: 0.941295:  30%|███       | 6/20 [02:52<06:08, 26.30s/it, 172.10/1200 seconds]"
          ]
        },
        {
          "name": "stdout",
          "output_type": "stream",
          "text": [
            "[I 2025-07-13 17:48:45,815] Trial 5 finished with value: 0.9376620260045234 and parameters: {'iterations': 806, 'learning_rate': 0.01607123851203988, 'depth': 5, 'l2_leaf_reg': 2.465447373174767}. Best is trial 4 with value: 0.9412949485570522.\n"
          ]
        },
        {
          "name": "stderr",
          "output_type": "stream",
          "text": [
            "2025-07-13 17:49:00,148 - INFO - CatBoost-catboost_enc Mean AUC: 0.9405\n",
            "Best trial: 4. Best value: 0.941295:  35%|███▌      | 7/20 [03:06<04:51, 22.39s/it, 186.44/1200 seconds]"
          ]
        },
        {
          "name": "stdout",
          "output_type": "stream",
          "text": [
            "[I 2025-07-13 17:49:00,153] Trial 6 finished with value: 0.940469097785558 and parameters: {'iterations': 728, 'learning_rate': 0.14447746112718687, 'depth': 4, 'l2_leaf_reg': 3.0569377536544464}. Best is trial 4 with value: 0.9412949485570522.\n"
          ]
        },
        {
          "name": "stderr",
          "output_type": "stream",
          "text": [
            "2025-07-13 17:50:16,061 - INFO - CatBoost-catboost_enc Mean AUC: 0.9369\n",
            "Best trial: 4. Best value: 0.941295:  40%|████      | 8/20 [04:22<07:53, 39.43s/it, 262.34/1200 seconds]"
          ]
        },
        {
          "name": "stdout",
          "output_type": "stream",
          "text": [
            "[I 2025-07-13 17:50:16,064] Trial 7 finished with value: 0.9368602856661333 and parameters: {'iterations': 796, 'learning_rate': 0.011711509955524094, 'depth': 7, 'l2_leaf_reg': 1.6820964947491661}. Best is trial 4 with value: 0.9412949485570522.\n"
          ]
        },
        {
          "name": "stderr",
          "output_type": "stream",
          "text": [
            "2025-07-13 17:52:09,386 - INFO - CatBoost-catboost_enc Mean AUC: 0.9376\n",
            "Best trial: 4. Best value: 0.941295:  45%|████▌     | 9/20 [06:15<11:27, 62.53s/it, 375.67/1200 seconds]"
          ]
        },
        {
          "name": "stdout",
          "output_type": "stream",
          "text": [
            "[I 2025-07-13 17:52:09,388] Trial 8 finished with value: 0.9376146573180889 and parameters: {'iterations': 532, 'learning_rate': 0.2521267904777921, 'depth': 8, 'l2_leaf_reg': 4.233589392465845}. Best is trial 4 with value: 0.9412949485570522.\n"
          ]
        },
        {
          "name": "stderr",
          "output_type": "stream",
          "text": [
            "2025-07-13 17:52:57,015 - INFO - CatBoost-catboost_enc Mean AUC: 0.9363\n",
            "Best trial: 4. Best value: 0.941295:  50%|█████     | 10/20 [07:03<09:39, 57.93s/it, 423.31/1200 seconds]"
          ]
        },
        {
          "name": "stdout",
          "output_type": "stream",
          "text": [
            "[I 2025-07-13 17:52:57,025] Trial 9 finished with value: 0.9363342841623412 and parameters: {'iterations': 652, 'learning_rate': 0.013940346079873234, 'depth': 7, 'l2_leaf_reg': 2.760609974958405}. Best is trial 4 with value: 0.9412949485570522.\n"
          ]
        },
        {
          "name": "stderr",
          "output_type": "stream",
          "text": [
            "2025-07-13 17:53:47,757 - INFO - CatBoost-catboost_enc Mean AUC: 0.9420\n",
            "Best trial: 10. Best value: 0.942024:  55%|█████▌    | 11/20 [07:54<08:21, 55.73s/it, 474.04/1200 seconds]"
          ]
        },
        {
          "name": "stdout",
          "output_type": "stream",
          "text": [
            "[I 2025-07-13 17:53:47,760] Trial 10 finished with value: 0.9420237663909351 and parameters: {'iterations': 973, 'learning_rate': 0.03779758795958234, 'depth': 6, 'l2_leaf_reg': 1.071847502459279}. Best is trial 10 with value: 0.9420237663909351.\n"
          ]
        },
        {
          "name": "stderr",
          "output_type": "stream",
          "text": [
            "2025-07-13 17:54:37,871 - INFO - CatBoost-catboost_enc Mean AUC: 0.9420\n",
            "Best trial: 11. Best value: 0.94203:  60%|██████    | 12/20 [08:44<07:12, 54.02s/it, 524.16/1200 seconds] "
          ]
        },
        {
          "name": "stdout",
          "output_type": "stream",
          "text": [
            "[I 2025-07-13 17:54:37,875] Trial 11 finished with value: 0.9420301122013367 and parameters: {'iterations': 968, 'learning_rate': 0.04349486147890045, 'depth': 6, 'l2_leaf_reg': 1.07248972847897}. Best is trial 11 with value: 0.9420301122013367.\n"
          ]
        },
        {
          "name": "stderr",
          "output_type": "stream",
          "text": [
            "2025-07-13 17:55:29,339 - INFO - CatBoost-catboost_enc Mean AUC: 0.9420\n",
            "Best trial: 11. Best value: 0.94203:  65%|██████▌   | 13/20 [09:35<06:12, 53.25s/it, 575.62/1200 seconds]"
          ]
        },
        {
          "name": "stdout",
          "output_type": "stream",
          "text": [
            "[I 2025-07-13 17:55:29,342] Trial 12 finished with value: 0.9420246760593138 and parameters: {'iterations': 991, 'learning_rate': 0.036368174009388195, 'depth': 6, 'l2_leaf_reg': 1.019309179916568}. Best is trial 11 with value: 0.9420301122013367.\n"
          ]
        },
        {
          "name": "stderr",
          "output_type": "stream",
          "text": [
            "2025-07-13 17:56:00,270 - INFO - CatBoost-catboost_enc Mean AUC: 0.9420\n",
            "Best trial: 11. Best value: 0.94203:  70%|███████   | 14/20 [10:06<04:39, 46.51s/it, 606.56/1200 seconds]"
          ]
        },
        {
          "name": "stdout",
          "output_type": "stream",
          "text": [
            "[I 2025-07-13 17:56:00,273] Trial 13 finished with value: 0.9419940454588541 and parameters: {'iterations': 987, 'learning_rate': 0.038566160981347394, 'depth': 5, 'l2_leaf_reg': 1.0426745558849755}. Best is trial 11 with value: 0.9420301122013367.\n"
          ]
        },
        {
          "name": "stderr",
          "output_type": "stream",
          "text": [
            "2025-07-13 17:56:28,417 - INFO - CatBoost-catboost_enc Mean AUC: 0.9421\n",
            "Best trial: 14. Best value: 0.942082:  75%|███████▌  | 15/20 [10:34<03:24, 40.97s/it, 634.70/1200 seconds]"
          ]
        },
        {
          "name": "stdout",
          "output_type": "stream",
          "text": [
            "[I 2025-07-13 17:56:28,421] Trial 14 finished with value: 0.942082400174785 and parameters: {'iterations': 913, 'learning_rate': 0.06651798798078347, 'depth': 5, 'l2_leaf_reg': 1.5763650708863741}. Best is trial 14 with value: 0.942082400174785.\n"
          ]
        },
        {
          "name": "stderr",
          "output_type": "stream",
          "text": [
            "2025-07-13 17:56:55,902 - INFO - CatBoost-catboost_enc Mean AUC: 0.9409\n",
            "Best trial: 14. Best value: 0.942082:  80%|████████  | 16/20 [11:02<02:27, 36.91s/it, 662.18/1200 seconds]"
          ]
        },
        {
          "name": "stdout",
          "output_type": "stream",
          "text": [
            "[I 2025-07-13 17:56:55,904] Trial 15 finished with value: 0.9408558359718171 and parameters: {'iterations': 891, 'learning_rate': 0.07284792204069321, 'depth': 5, 'l2_leaf_reg': 1.8123051570322268}. Best is trial 14 with value: 0.942082400174785.\n"
          ]
        },
        {
          "name": "stderr",
          "output_type": "stream",
          "text": [
            "2025-07-13 17:57:23,385 - INFO - CatBoost-catboost_enc Mean AUC: 0.9417\n",
            "Best trial: 14. Best value: 0.942082:  85%|████████▌ | 17/20 [11:29<01:42, 34.08s/it, 689.67/1200 seconds]"
          ]
        },
        {
          "name": "stdout",
          "output_type": "stream",
          "text": [
            "[I 2025-07-13 17:57:23,387] Trial 16 finished with value: 0.941655274774948 and parameters: {'iterations': 886, 'learning_rate': 0.08845231484450751, 'depth': 5, 'l2_leaf_reg': 1.4775049422241697}. Best is trial 14 with value: 0.942082400174785.\n"
          ]
        },
        {
          "name": "stderr",
          "output_type": "stream",
          "text": [
            "2025-07-13 17:57:55,975 - INFO - CatBoost-catboost_enc Mean AUC: 0.9418\n",
            "Best trial: 14. Best value: 0.942082:  90%|█████████ | 18/20 [12:02<01:07, 33.63s/it, 722.26/1200 seconds]"
          ]
        },
        {
          "name": "stdout",
          "output_type": "stream",
          "text": [
            "[I 2025-07-13 17:57:55,977] Trial 17 finished with value: 0.9418012953696847 and parameters: {'iterations': 924, 'learning_rate': 0.02540150589930555, 'depth': 6, 'l2_leaf_reg': 2.1564997131754757}. Best is trial 14 with value: 0.942082400174785.\n"
          ]
        },
        {
          "name": "stderr",
          "output_type": "stream",
          "text": [
            "2025-07-13 17:59:41,807 - INFO - CatBoost-catboost_enc Mean AUC: 0.9408\n",
            "Best trial: 14. Best value: 0.942082:  95%|█████████▌| 19/20 [13:48<00:55, 55.32s/it, 828.09/1200 seconds]"
          ]
        },
        {
          "name": "stdout",
          "output_type": "stream",
          "text": [
            "[I 2025-07-13 17:59:41,809] Trial 18 finished with value: 0.9408051817236193 and parameters: {'iterations': 837, 'learning_rate': 0.05098748773703992, 'depth': 8, 'l2_leaf_reg': 3.5786947410723418}. Best is trial 14 with value: 0.942082400174785.\n"
          ]
        },
        {
          "name": "stderr",
          "output_type": "stream",
          "text": [
            "2025-07-13 17:59:49,018 - INFO - CatBoost-catboost_enc Mean AUC: 0.9406\n",
            "Best trial: 14. Best value: 0.942082: 100%|██████████| 20/20 [13:55<00:00, 41.77s/it, 835.30/1200 seconds]\n"
          ]
        },
        {
          "name": "stdout",
          "output_type": "stream",
          "text": [
            "[I 2025-07-13 17:59:49,020] Trial 19 finished with value: 0.9405965031606397 and parameters: {'iterations': 858, 'learning_rate': 0.13570390610987368, 'depth': 5, 'l2_leaf_reg': 1.4115695043312415}. Best is trial 14 with value: 0.942082400174785.\n"
          ]
        }
      ],
      "source": [
        "class AutoMLTrainer:\n",
        "    def __init__(self, x_train, y_train, x_test, y_test, num_cols, cat_cols):\n",
        "        self.x_train = x_train\n",
        "        self.y_train = y_train\n",
        "        self.x_test = x_test\n",
        "        self.y_test = y_test\n",
        "        self.numerical_cols = num_cols\n",
        "        self.categorical_cols = cat_cols\n",
        "        \n",
        "        # Validate and encode target\n",
        "        self._validate_and_encode_target()\n",
        "        \n",
        "        # Initialize results storage\n",
        "        self.results = []\n",
        "        self.best_models = {}\n",
        "        self.best_model = None\n",
        "        self.best_model_name = None\n",
        "        self.studies = {}\n",
        "        \n",
        "        # Configure encoders with robust settings\n",
        "        self.encoders = {\n",
        "            'onehot': OneHotEncoder(handle_unknown='ignore', sparse_output=False),\n",
        "            'target': TargetEncoder(),\n",
        "            'catboost_enc': CatBoostEncoder()\n",
        "        }\n",
        "        \n",
        "        # Optimized models with efficient hyperparameter spaces\n",
        "        self.models = {\n",
        "            'LogisticRegression': {\n",
        "                'model': LogisticRegression,\n",
        "                'params': lambda trial: {\n",
        "                    'classifier__C': trial.suggest_float('C', 1e-3, 100, log=True),\n",
        "                    'classifier__solver': trial.suggest_categorical('solver', ['lbfgs', 'saga']),\n",
        "                    'classifier__max_iter': 1000,\n",
        "                    'classifier__class_weight': 'balanced',\n",
        "                    'classifier__n_jobs': -1\n",
        "                }\n",
        "            },\n",
        "            'RandomForest': {\n",
        "                'model': RandomForestClassifier,\n",
        "                'params': lambda trial: {\n",
        "                    'classifier__n_estimators': trial.suggest_int('n_estimators', 100, 500),\n",
        "                    'classifier__max_depth': trial.suggest_int('max_depth', 5, 20),\n",
        "                    'classifier__min_samples_split': trial.suggest_int('min_samples_split', 2, 15),\n",
        "                    'classifier__class_weight': 'balanced',\n",
        "                    'classifier__n_jobs': -1\n",
        "                }\n",
        "            },\n",
        "            'XGBoost': {\n",
        "                'model': XGBClassifier,\n",
        "                'params': lambda trial: {\n",
        "                    'classifier__n_estimators': trial.suggest_int('n_estimators', 100, 500),\n",
        "                    'classifier__learning_rate': trial.suggest_float('learning_rate', 0.01, 0.3, log=True),\n",
        "                    'classifier__max_depth': trial.suggest_int('max_depth', 3, 8),\n",
        "                    'classifier__subsample': trial.suggest_float('subsample', 0.7, 1.0),\n",
        "                    'classifier__tree_method': 'hist'  # Faster training\n",
        "                }\n",
        "            },\n",
        "            'CatBoost': {\n",
        "                'model': CatBoostClassifier,\n",
        "                'params': lambda trial: {\n",
        "                    'classifier__iterations': trial.suggest_int('iterations', 500, 1000),\n",
        "                    'classifier__learning_rate': trial.suggest_float('learning_rate', 0.01, 0.3, log=True),\n",
        "                    'classifier__depth': trial.suggest_int('depth', 4, 8),\n",
        "                    'classifier__l2_leaf_reg': trial.suggest_float('l2_leaf_reg', 1, 5),\n",
        "                    'classifier__auto_class_weights': 'Balanced',\n",
        "                    'classifier__verbose': False,\n",
        "                    'classifier__task_type': 'CPU'  # Ensure CPU mode\n",
        "                }\n",
        "            },\n",
        "            'LightGBM': {\n",
        "                'model': LGBMClassifier,\n",
        "                'params': lambda trial: {\n",
        "                    'classifier__n_estimators': trial.suggest_int('n_estimators', 100, 500),\n",
        "                    'classifier__learning_rate': trial.suggest_float('learning_rate', 0.01, 0.3, log=True),\n",
        "                    'classifier__num_leaves': trial.suggest_int('num_leaves', 20, 150),\n",
        "                    'classifier__max_depth': trial.suggest_int('max_depth', 3, 10),\n",
        "                    'classifier__min_child_samples': trial.suggest_int('min_child_samples', 10, 50),\n",
        "                    'classifier__class_weight': 'balanced',\n",
        "                    'classifier__n_jobs': -1\n",
        "                }\n",
        "            }\n",
        "        }\n",
        "        \n",
        "        # Validate feature columns\n",
        "        self._validate_features()\n",
        "    \n",
        "    def _validate_and_encode_target(self):\n",
        "        \"\"\"Validate and encode target variable safely\"\"\"\n",
        "        # Check target dtype\n",
        "        if self.y_train.dtype == 'object' or self.y_train.dtype.name == 'category':\n",
        "            self.label_encoder = LabelEncoder()\n",
        "            self.y_train = self.label_encoder.fit_transform(self.y_train)\n",
        "            self.y_test = self.label_encoder.transform(self.y_test)\n",
        "            logger.info(\"Encoded categorical target variable\")\n",
        "        \n",
        "        # Check for binary classification\n",
        "        self.n_classes = len(np.unique(self.y_train))\n",
        "        logger.info(f\"Classification task with {self.n_classes} classes\")\n",
        "        \n",
        "        if self.n_classes > 2:\n",
        "            logger.warning(\"Multiclass classification detected. Some metrics may be affected.\")\n",
        "    \n",
        "    def _validate_features(self):\n",
        "        \"\"\"Validate features and remove problematic columns\"\"\"\n",
        "        # Remove constant numerical features\n",
        "        constant_cols = []\n",
        "        for col in self.numerical_cols:\n",
        "            if self.x_train[col].nunique() == 1:\n",
        "                constant_cols.append(col)\n",
        "        \n",
        "        if constant_cols:\n",
        "            logger.warning(f\"Removing constant features: {constant_cols}\")\n",
        "            self.numerical_cols = [col for col in self.numerical_cols if col not in constant_cols]\n",
        "        \n",
        "        # Check for missing values\n",
        "        missing_num = self.x_train[self.numerical_cols].isna().sum().sum()\n",
        "        missing_cat = self.x_train[self.categorical_cols].isna().sum().sum()\n",
        "        \n",
        "        if missing_num or missing_cat:\n",
        "            logger.warning(f\"Found {missing_num} missing numerical values and {missing_cat} missing categorical values\")\n",
        "    \n",
        "    def create_pipeline(self, encoder_name, model_name):\n",
        "        \"\"\"Create robust pipeline with imputation and preprocessing\"\"\"\n",
        "        # Numerical pipeline with imputation and scaling\n",
        "        num_pipeline = Pipeline([\n",
        "            ('imputer', SimpleImputer(strategy='median')),\n",
        "            ('scaler', StandardScaler())\n",
        "        ])\n",
        "        \n",
        "        # Categorical pipeline with imputation and encoding\n",
        "        cat_pipeline = Pipeline([\n",
        "            ('imputer', SimpleImputer(strategy='most_frequent')),\n",
        "            ('encoder', self.encoders[encoder_name])\n",
        "        ])\n",
        "        \n",
        "        preprocessor = ColumnTransformer([\n",
        "            ('num', num_pipeline, self.numerical_cols),\n",
        "            ('cat', cat_pipeline, self.categorical_cols)\n",
        "        ])\n",
        "        \n",
        "        return Pipeline([\n",
        "            ('preprocessor', preprocessor),\n",
        "            ('classifier', self.models[model_name]['model']())\n",
        "        ])\n",
        "    \n",
        "    def objective(self, trial, model_name, encoder_name):\n",
        "        \"\"\"Robust objective function with fold-level error handling\"\"\"\n",
        "        try:\n",
        "            pipeline = self.create_pipeline(encoder_name, model_name)\n",
        "            params = self.models[model_name]['params'](trial)\n",
        "            logger.debug(f\"Params suggested: {params}\")\n",
        "            pipeline.set_params(**params)\n",
        "\n",
        "            cv = StratifiedKFold(n_splits=3, shuffle=True, random_state=42)\n",
        "            scores = []\n",
        "\n",
        "            for fold, (train_idx, val_idx) in enumerate(cv.split(self.x_train, self.y_train)):\n",
        "                try:\n",
        "                    X_fold_train = self.x_train.iloc[train_idx]\n",
        "                    y_fold_train = self.y_train.iloc[train_idx] if hasattr(self.y_train, 'iloc') else self.y_train[train_idx]\n",
        "                    pipeline.fit(X_fold_train, y_fold_train)\n",
        "\n",
        "                    X_val = self.x_train.iloc[val_idx]\n",
        "                    y_val = self.y_train.iloc[val_idx] if hasattr(self.y_train, 'iloc') else self.y_train[val_idx]\n",
        "\n",
        "                    if hasattr(pipeline.named_steps['classifier'], 'predict_proba'):\n",
        "                        y_proba = pipeline.predict_proba(X_val)\n",
        "\n",
        "                        score = roc_auc_score(\n",
        "                            y_val, \n",
        "                            y_proba[:, 1] if self.n_classes == 2 else y_proba, \n",
        "                            multi_class='ovr' if self.n_classes > 2 else 'raise'\n",
        "                        )\n",
        "                    else:\n",
        "                        logger.warning(f\"{model_name} does not support `predict_proba`. Using predictions for ROC AUC.\")\n",
        "                        y_pred = pipeline.predict(X_val)\n",
        "                        score = roc_auc_score(y_val, y_pred)\n",
        "\n",
        "                    scores.append(score)\n",
        "                    logger.debug(f\"{model_name}-{encoder_name} Fold {fold+1}: AUC = {score:.4f}\")\n",
        "\n",
        "                except Exception as e:\n",
        "                    logger.exception(f\"Objective failed during {model_name}-{encoder_name} with exception:\")\n",
        "                    return float('-inf')\n",
        "\n",
        "\n",
        "            mean_score = np.mean(scores)\n",
        "            logger.info(f\"{model_name}-{encoder_name} Mean AUC: {mean_score:.4f}\")\n",
        "            return mean_score\n",
        "\n",
        "        except Exception as e:\n",
        "            logger.error(f\"Objective failed: {str(e)}\")\n",
        "            return float('-inf')\n",
        "\n",
        "    \n",
        "    def train_all(self, n_trials=20, timeout=1200):\n",
        "        \"\"\"Optimize all model-encoder combinations with enhanced stability\"\"\"\n",
        "        for model_name in self.models:\n",
        "            for encoder_name in self.encoders:\n",
        "                # Skip incompatible combinations\n",
        "                if model_name == 'CatBoost' and encoder_name != 'catboost_enc':\n",
        "                    continue\n",
        "                \n",
        "                combo_name = f\"{model_name}_{encoder_name}\"\n",
        "                logger.info(f\"\\n{'='*50}\")\n",
        "                logger.info(f\"Optimizing {combo_name}\")\n",
        "                logger.info(f\"{'='*50}\")\n",
        "                \n",
        "                try:\n",
        "                    # Create study with pruning\n",
        "                    study = optuna.create_study(\n",
        "                        direction='maximize',\n",
        "                        sampler=optuna.samplers.TPESampler(seed=42),\n",
        "                        pruner=optuna.pruners.MedianPruner(n_warmup_steps=5)\n",
        "                    )\n",
        "                    \n",
        "                    # Optimize with timeout\n",
        "                    study.optimize(\n",
        "                        lambda trial: self.objective(trial, model_name, encoder_name),\n",
        "                        n_trials=n_trials,\n",
        "                        timeout=timeout,\n",
        "                        show_progress_bar=True\n",
        "                    )\n",
        "                    \n",
        "                    # Store study\n",
        "                    self.studies[combo_name] = study\n",
        "                    \n",
        "                    # Skip if no successful trials\n",
        "                    if not study.best_trial:\n",
        "                        logger.warning(f\"No successful trials for {combo_name}\")\n",
        "                        continue\n",
        "                    \n",
        "                    # Train best pipeline\n",
        "                    best_pipeline = self.create_pipeline(encoder_name, model_name)\n",
        "                    best_params = self.models[model_name]['params'](study.best_trial)\n",
        "                    best_pipeline.set_params(**best_params)\n",
        "                    best_pipeline.fit(self.x_train, self.y_train)\n",
        "                    \n",
        "                    # Evaluate\n",
        "                    y_pred = best_pipeline.predict(self.x_test)\n",
        "                    y_proba = best_pipeline.predict_proba(self.x_test)[:, 1] if self.n_classes == 2 else None\n",
        "                    \n",
        "                    # Calculate metrics\n",
        "                    metrics = {\n",
        "                        'model': model_name,\n",
        "                        'encoder': encoder_name,\n",
        "                        'accuracy': accuracy_score(self.y_test, y_pred),\n",
        "                        'precision': precision_score(self.y_test, y_pred, average='weighted'),\n",
        "                        'recall': recall_score(self.y_test, y_pred, average='weighted'),\n",
        "                        'f1': f1_score(self.y_test, y_pred, average='weighted'),\n",
        "                        'best_params': best_params\n",
        "                    }\n",
        "                    \n",
        "                    # Add AUC if available\n",
        "                    if y_proba is not None:\n",
        "                        metrics['auc_roc'] = roc_auc_score(self.y_test, y_proba)\n",
        "                    elif self.n_classes == 2:\n",
        "                        metrics['auc_roc'] = roc_auc_score(self.y_test, y_pred)\n",
        "                    else:\n",
        "                        metrics['auc_roc'] = np.nan\n",
        "                    \n",
        "                    self.results.append(metrics)\n",
        "                    self.best_models[combo_name] = best_pipeline\n",
        "                    logger.info(f\"{combo_name} | Test AUC: {metrics.get('auc_roc', np.nan):.4f}\")\n",
        "                    \n",
        "                    # Visualize optimization\n",
        "                    self._plot_optimization_results(study, model_name, encoder_name)\n",
        "                \n",
        "                except Exception as e:\n",
        "                    logger.error(f\"Optimization failed for {combo_name}: {str(e)}\")\n",
        "        \n",
        "        # Finalize results\n",
        "        if self.results:\n",
        "            self._finalize_results()\n",
        "            return True\n",
        "        else:\n",
        "            logger.error(\"No models successfully completed optimization\")\n",
        "            return False\n",
        "    \n",
        "    def _plot_optimization_results(self, study, model_name, encoder_name):\n",
        "        \"\"\"Visualize optimization results\"\"\"\n",
        "        try:\n",
        "            # Optimization history\n",
        "            plt.figure(figsize=(10, 6))\n",
        "            plot_optimization_history(study)\n",
        "            plt.title(f\"{model_name}-{encoder_name} Optimization History\", fontsize=14)\n",
        "            plt.tight_layout()\n",
        "            plt.savefig(f\"opt_history_{model_name}_{encoder_name}.png\", dpi=150)\n",
        "            plt.close()\n",
        "            \n",
        "            # Parameter importance\n",
        "            plt.figure(figsize=(10, 6))\n",
        "            plot_param_importances(study)\n",
        "            plt.title(f\"{model_name}-{encoder_name} Parameter Importance\", fontsize=14)\n",
        "            plt.tight_layout()\n",
        "            plt.savefig(f\"param_importance_{model_name}_{encoder_name}.png\", dpi=150)\n",
        "            plt.close()\n",
        "            \n",
        "        except Exception as e:\n",
        "            logger.error(f\"Visualization failed: {str(e)}\")\n",
        "    \n",
        "    def _finalize_results(self):\n",
        "        \"\"\"Process and store final results\"\"\"\n",
        "        self.results_df = pd.DataFrame(self.results)\n",
        "        \n",
        "        # Calculate mean score for sorting\n",
        "        if 'auc_roc' in self.results_df:\n",
        "            self.results_df['mean_score'] = self.results_df['auc_roc']\n",
        "        else:\n",
        "            self.results_df['mean_score'] = self.results_df['accuracy']\n",
        "        \n",
        "        # Sort and select best model\n",
        "        self.results_df = self.results_df.sort_values('mean_score', ascending=False)\n",
        "        best_combo = self.results_df.iloc[0]['model'] + '_' + self.results_df.iloc[0]['encoder']\n",
        "        self.best_model = self.best_models[best_combo]\n",
        "        self.best_model_name = best_combo\n",
        "        \n",
        "        logger.info(f\"\\n{'='*50}\")\n",
        "        logger.info(f\"BEST MODEL: {best_combo}\")\n",
        "        logger.info(f\"SCORE: {self.results_df.iloc[0]['mean_score']:.4f}\")\n",
        "        logger.info(f\"{'='*50}\")\n",
        "        \n",
        "        # Save results\n",
        "        self.results_df.to_csv('automl_results.csv', index=False)\n",
        "        joblib.dump(self.best_model, 'best_model.pkl')\n",
        "    \n",
        "    def evaluate_best_model(self):\n",
        "        \"\"\"Comprehensive evaluation of best model\"\"\"\n",
        "        if not self.best_model:\n",
        "            logger.error(\"No best model available for evaluation\")\n",
        "            return None\n",
        "\n",
        "        y_pred = self.best_model.predict(self.x_test)\n",
        "\n",
        "        try:\n",
        "            if hasattr(self.best_model.named_steps['classifier'], 'predict_proba'):\n",
        "                y_proba = self.best_model.predict_proba(self.x_test)[:, 1] if self.n_classes == 2 else self.best_model.predict_proba(self.x_test)\n",
        "            else:\n",
        "                y_proba = None\n",
        "        except Exception as e:\n",
        "            logger.warning(f\"predict_proba failed: {e}\")\n",
        "            y_proba = None\n",
        "\n",
        "        metrics = {\n",
        "            \"accuracy\": accuracy_score(self.y_test, y_pred),\n",
        "            \"precision\": precision_score(self.y_test, y_pred, average='weighted'),\n",
        "            \"recall\": recall_score(self.y_test, y_pred, average='weighted'),\n",
        "            \"f1\": f1_score(self.y_test, y_pred, average='weighted'),\n",
        "        }\n",
        "\n",
        "        try:\n",
        "            if y_proba is not None:\n",
        "                metrics[\"auc_roc\"] = roc_auc_score(self.y_test, y_proba if self.n_classes > 2 else y_proba)\n",
        "            else:\n",
        "                metrics[\"auc_roc\"] = roc_auc_score(self.y_test, y_pred)\n",
        "        except Exception as e:\n",
        "            logger.warning(f\"ROC AUC calculation failed: {e}\")\n",
        "            metrics[\"auc_roc\"] = np.nan\n",
        "\n",
        "        metrics[\"classification_report\"] = classification_report(self.y_test, y_pred)\n",
        "\n",
        "        self._plot_confusion_matrix(y_pred, self.best_model_name)\n",
        "\n",
        "        return metrics\n",
        "\n",
        "    \n",
        "    def _plot_confusion_matrix(self, y_pred, model_name):\n",
        "        \"\"\"Plot confusion matrix with annotations\"\"\"\n",
        "        cm = confusion_matrix(self.y_test, y_pred)\n",
        "        plt.figure(figsize=(8, 6))\n",
        "        sns.heatmap(cm, annot=True, fmt='d', cmap='Blues', \n",
        "                    xticklabels=['Predicted 0', 'Predicted 1'],\n",
        "                    yticklabels=['Actual 0', 'Actual 1'])\n",
        "        plt.title(f'Confusion Matrix: {model_name}', fontsize=14)\n",
        "        plt.ylabel('True Label')\n",
        "        plt.xlabel('Predicted Label')\n",
        "        plt.tight_layout()\n",
        "        plt.savefig(f'confusion_matrix_{model_name}.png', dpi=300)\n",
        "        plt.close()\n",
        "    \n",
        "    def plot_model_comparison(self):\n",
        "        \"\"\"Visualize model comparison with enhanced aesthetics\"\"\"\n",
        "        if not hasattr(self, 'results_df') or self.results_df.empty:\n",
        "            logger.error(\"No results available for comparison\")\n",
        "            return\n",
        "        \n",
        "        # Create comparison data\n",
        "        plot_df = self.results_df.copy()\n",
        "        plot_df['model_encoder'] = plot_df['model'] + '_' + plot_df['encoder']\n",
        "        \n",
        "        plt.figure(figsize=(14, 8))\n",
        "        ax = sns.barplot(\n",
        "            x='auc_roc' if 'auc_roc' in plot_df else 'accuracy',\n",
        "            y='model_encoder',\n",
        "            data=plot_df.sort_values('auc_roc' if 'auc_roc' in plot_df else 'accuracy', ascending=False),\n",
        "            palette='viridis'\n",
        "        )\n",
        "        \n",
        "        # Add annotations\n",
        "        for p in ax.patches:\n",
        "            width = p.get_width()\n",
        "            ax.text(width + 0.01, p.get_y() + p.get_height()/2, \n",
        "                    f'{width:.3f}', \n",
        "                    ha='left', va='center')\n",
        "        \n",
        "        # Formatting\n",
        "        metric_name = 'AUC-ROC' if 'auc_roc' in plot_df else 'Accuracy'\n",
        "        plt.title(f'Model Performance Comparison ({metric_name})', fontsize=16)\n",
        "        plt.xlabel(metric_name, fontsize=14)\n",
        "        plt.ylabel('Model + Encoder', fontsize=14)\n",
        "        plt.grid(axis='x', linestyle='--', alpha=0.7)\n",
        "        plt.tight_layout()\n",
        "        plt.savefig('model_performance_comparison.png', dpi=300)\n",
        "        plt.close()\n",
        "    \n",
        "    def cross_validate_best_model(self):\n",
        "        \"\"\"Cross-validate best model for stability assessment\"\"\"\n",
        "        if not self.best_model:\n",
        "            logger.error(\"No best model available for cross-validation\")\n",
        "            return None\n",
        "        \n",
        "        scoring = {\n",
        "            'accuracy': 'accuracy',\n",
        "            'precision': 'precision_weighted',\n",
        "            'recall': 'recall_weighted',\n",
        "            'f1': 'f1_weighted',\n",
        "            'roc_auc': 'roc_auc_ovr' if self.n_classes > 2 else 'roc_auc'\n",
        "        }\n",
        "        \n",
        "        cv = StratifiedKFold(n_splits=5, shuffle=True, random_state=42)\n",
        "        cv_results = cross_validate(\n",
        "            self.best_model, \n",
        "            self.x_train, \n",
        "            self.y_train,\n",
        "            cv=cv,\n",
        "            scoring=scoring,\n",
        "            n_jobs=-1\n",
        "        )\n",
        "        \n",
        "        # Process results\n",
        "        cv_metrics = {}\n",
        "        for metric in scoring:\n",
        "            key = f\"mean_{metric}\"\n",
        "            cv_metrics[key] = np.mean(cv_results[f'test_{metric}'])\n",
        "            cv_metrics[f\"std_{metric}\"] = np.std(cv_results[f'test_{metric}'])\n",
        "        \n",
        "        return cv_metrics\n",
        "    \n",
        "    def get_best_hyperparameters(self):\n",
        "        \"\"\"Retrieve best hyperparameters in readable format\"\"\"\n",
        "        if not hasattr(self, 'results_df') or self.results_df.empty:\n",
        "            return None\n",
        "        \n",
        "        best_row = self.results_df.iloc[0]\n",
        "        return {\n",
        "            'model': best_row['model'],\n",
        "            'encoder': best_row['encoder'],\n",
        "            'hyperparameters': best_row['best_params']\n",
        "        }\n",
        "    \n",
        "    def __str__(self):\n",
        "        status = f\"Best Model: {self.best_model_name}\" if self.best_model_name else \"Not trained\"\n",
        "        return f\"<AutoMLTrainer | {status}>\"\n",
        "\n",
        "# Sample usage (assuming df is loaded)\n",
        "if __name__ == \"__main__\":\n",
        "    \n",
        "    # df.drop(columns=['customer_id'], inplace=True)\n",
        "\n",
        "    # Prepare data\n",
        "    X = df.drop(columns=['customer_status'])\n",
        "    y = df['customer_status']\n",
        "    \n",
        "    # Split data\n",
        "    x_train, x_test, y_train, y_test = train_test_split(\n",
        "        X, y, test_size=0.2, random_state=42, stratify=y\n",
        "    )\n",
        "    \n",
        "    # Identify feature types\n",
        "    numerical_cols = X.select_dtypes(include=np.number).columns.tolist()\n",
        "    categorical_cols = X.select_dtypes(exclude=np.number).columns.tolist()\n",
        "    \n",
        "    # Initialize and run trainer\n",
        "    trainer = AutoMLTrainer(x_train, y_train, x_test, y_test, numerical_cols, categorical_cols)\n",
        "    success = trainer.train_all(n_trials=20, timeout=1200)\n",
        "    \n",
        "    if success:\n",
        "        # Evaluate best model\n",
        "        metrics = trainer.evaluate_best_model()\n",
        "        logger.info(\"\\nBest Model Metrics:\")\n",
        "        for k, v in metrics.items():\n",
        "            if k != \"classification_report\":\n",
        "                logger.info(f\"{k}: {v:.4f}\")\n",
        "        \n",
        "        logger.info(\"\\nClassification Report:\")\n",
        "        logger.info(metrics[\"classification_report\"])\n",
        "        \n",
        "        # Visualize comparison\n",
        "        trainer.plot_model_comparison()\n",
        "        \n",
        "        # Show best hyperparameters\n",
        "        best_params = trainer.get_best_hyperparameters()\n",
        "        logger.info(\"\\nBest Hyperparameters:\")\n",
        "        logger.info(best_params)\n",
        "        \n",
        "        # Cross-validate best model\n",
        "        cv_metrics = trainer.cross_validate_best_model()\n",
        "        logger.info(\"\\nCross-Validation Metrics:\")\n",
        "        for k, v in cv_metrics.items():\n",
        "            logger.info(f\"{k}: {v:.4f}\")\n",
        "\n",
        "    # Save final report\n",
        "    logger.info(\"AutoML training completed\")"
      ]
    },
    {
      "cell_type": "code",
      "execution_count": 124,
      "metadata": {},
      "outputs": [
        {
          "name": "stdout",
          "output_type": "stream",
          "text": [
            "0.9907735982966643\n"
          ]
        }
      ],
      "source": [
        "pipe = trainer.create_pipeline('onehot', 'LogisticRegression')\n",
        "pipe.set_params(**{\n",
        "    'classifier__C': 1.0,\n",
        "    'classifier__solver': 'lbfgs'\n",
        "})\n",
        "pipe.fit(trainer.x_train, trainer.y_train)\n",
        "print(pipe.score(trainer.x_test, trainer.y_test))"
      ]
    },
    {
      "cell_type": "code",
      "execution_count": null,
      "metadata": {},
      "outputs": [],
      "source": []
    }
  ],
  "metadata": {
    "colab": {
      "collapsed_sections": [
        "7V5lAKNRr7xG",
        "w9XR_PT8jpa5",
        "zmP91_c2od3X"
      ],
      "provenance": []
    },
    "kernelspec": {
      "display_name": "Python 3",
      "name": "python3"
    },
    "language_info": {
      "codemirror_mode": {
        "name": "ipython",
        "version": 3
      },
      "file_extension": ".py",
      "mimetype": "text/x-python",
      "name": "python",
      "nbconvert_exporter": "python",
      "pygments_lexer": "ipython3",
      "version": "3.13.0"
    }
  },
  "nbformat": 4,
  "nbformat_minor": 0
}
